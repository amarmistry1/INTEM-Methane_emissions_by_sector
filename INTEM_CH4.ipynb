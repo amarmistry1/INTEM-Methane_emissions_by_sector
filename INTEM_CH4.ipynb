{
 "cells": [
  {
   "cell_type": "markdown",
   "id": "88357f98-a434-48fd-839d-e653183ddd3b",
   "metadata": {},
   "source": [
    "Load in libraries"
   ]
  },
  {
   "cell_type": "code",
   "execution_count": 11,
   "id": "c29e3134-60df-473a-a081-123b449b023a",
   "metadata": {},
   "outputs": [],
   "source": [
    "import pandas as pd\n",
    "from pandas import concat\n",
    "import os\n",
    "import numpy as np\n",
    "import re\n",
    "import matplotlib.pyplot as plt\n",
    "import plotly.express as px\n",
    "from plotly import graph_objects as go"
   ]
  },
  {
   "cell_type": "markdown",
   "id": "038b9c45-2a83-4af4-8757-8baff26f322b",
   "metadata": {},
   "source": [
    "Read in data"
   ]
  },
  {
   "cell_type": "code",
   "execution_count": 3,
   "id": "8bb97654-de90-44a1-b1a7-0db64b0d3cb9",
   "metadata": {},
   "outputs": [],
   "source": [
    "xlsCH4 = pd.ExcelFile('GBR_2022_2020_10052022_142545.xlsx')\n",
    "dfCH4 = pd.read_excel(xlsCH4, 'Table10s3', header=4)\n",
    "dfCH4.set_index(\"GREENHOUSE GAS SOURCE AND SINK CATEGORIES\", inplace=True)\n",
    "dfCH4.dropna(inplace=True)\n",
    "#dfCH4"
   ]
  },
  {
   "cell_type": "markdown",
   "id": "e85d5a6c-5610-4d24-982c-f80894fdf343",
   "metadata": {},
   "source": [
    "Remove NaNs"
   ]
  },
  {
   "cell_type": "code",
   "execution_count": 4,
   "id": "e30e0b3c-8218-4979-89f5-e2e304e67d5a",
   "metadata": {},
   "outputs": [
    {
     "data": {
      "text/html": [
       "<div>\n",
       "<style scoped>\n",
       "    .dataframe tbody tr th:only-of-type {\n",
       "        vertical-align: middle;\n",
       "    }\n",
       "\n",
       "    .dataframe tbody tr th {\n",
       "        vertical-align: top;\n",
       "    }\n",
       "\n",
       "    .dataframe thead th {\n",
       "        text-align: right;\n",
       "    }\n",
       "</style>\n",
       "<table border=\"1\" class=\"dataframe\">\n",
       "  <thead>\n",
       "    <tr style=\"text-align: right;\">\n",
       "      <th></th>\n",
       "      <th>1990</th>\n",
       "      <th>1991</th>\n",
       "      <th>1992</th>\n",
       "      <th>1993</th>\n",
       "      <th>1994</th>\n",
       "      <th>1995</th>\n",
       "      <th>1996</th>\n",
       "      <th>1997</th>\n",
       "      <th>1998</th>\n",
       "      <th>1999</th>\n",
       "      <th>...</th>\n",
       "      <th>2011</th>\n",
       "      <th>2012</th>\n",
       "      <th>2013</th>\n",
       "      <th>2014</th>\n",
       "      <th>2015</th>\n",
       "      <th>2016</th>\n",
       "      <th>2017</th>\n",
       "      <th>2018</th>\n",
       "      <th>2019</th>\n",
       "      <th>2020</th>\n",
       "    </tr>\n",
       "    <tr>\n",
       "      <th>GREENHOUSE GAS SOURCE AND SINK CATEGORIES</th>\n",
       "      <th></th>\n",
       "      <th></th>\n",
       "      <th></th>\n",
       "      <th></th>\n",
       "      <th></th>\n",
       "      <th></th>\n",
       "      <th></th>\n",
       "      <th></th>\n",
       "      <th></th>\n",
       "      <th></th>\n",
       "      <th></th>\n",
       "      <th></th>\n",
       "      <th></th>\n",
       "      <th></th>\n",
       "      <th></th>\n",
       "      <th></th>\n",
       "      <th></th>\n",
       "      <th></th>\n",
       "      <th></th>\n",
       "      <th></th>\n",
       "      <th></th>\n",
       "    </tr>\n",
       "  </thead>\n",
       "  <tbody>\n",
       "    <tr>\n",
       "      <th>1. Energy</th>\n",
       "      <td>1496.198346</td>\n",
       "      <td>1516.883409</td>\n",
       "      <td>1498.019022</td>\n",
       "      <td>1420.993629</td>\n",
       "      <td>1120.636638</td>\n",
       "      <td>1154.969761</td>\n",
       "      <td>1092.643012</td>\n",
       "      <td>1006.961661</td>\n",
       "      <td>912.736797</td>\n",
       "      <td>807.442782</td>\n",
       "      <td>...</td>\n",
       "      <td>387.160409</td>\n",
       "      <td>384.369606</td>\n",
       "      <td>337.847767</td>\n",
       "      <td>320.953039</td>\n",
       "      <td>303.773576</td>\n",
       "      <td>265.857528</td>\n",
       "      <td>263.057614</td>\n",
       "      <td>262.56135</td>\n",
       "      <td>253.997777</td>\n",
       "      <td>235.556764</td>\n",
       "    </tr>\n",
       "    <tr>\n",
       "      <th>A. Fuel combustion (sectoral approach)</th>\n",
       "      <td>129.43946</td>\n",
       "      <td>134.46966</td>\n",
       "      <td>127.281609</td>\n",
       "      <td>130.133233</td>\n",
       "      <td>118.014832</td>\n",
       "      <td>102.281655</td>\n",
       "      <td>102.989162</td>\n",
       "      <td>95.268341</td>\n",
       "      <td>87.501802</td>\n",
       "      <td>89.806013</td>\n",
       "      <td>...</td>\n",
       "      <td>43.511694</td>\n",
       "      <td>43.364553</td>\n",
       "      <td>44.386653</td>\n",
       "      <td>43.105705</td>\n",
       "      <td>45.153607</td>\n",
       "      <td>46.465766</td>\n",
       "      <td>47.673054</td>\n",
       "      <td>49.478277</td>\n",
       "      <td>49.131183</td>\n",
       "      <td>48.218358</td>\n",
       "    </tr>\n",
       "    <tr>\n",
       "      <th>1.  Energy industries</th>\n",
       "      <td>9.327453</td>\n",
       "      <td>9.296994</td>\n",
       "      <td>9.501829</td>\n",
       "      <td>9.922269</td>\n",
       "      <td>10.060215</td>\n",
       "      <td>10.488551</td>\n",
       "      <td>10.775702</td>\n",
       "      <td>11.090562</td>\n",
       "      <td>7.958353</td>\n",
       "      <td>12.192445</td>\n",
       "      <td>...</td>\n",
       "      <td>11.704258</td>\n",
       "      <td>11.252326</td>\n",
       "      <td>11.241765</td>\n",
       "      <td>12.737843</td>\n",
       "      <td>13.304238</td>\n",
       "      <td>14.164167</td>\n",
       "      <td>14.788899</td>\n",
       "      <td>15.170421</td>\n",
       "      <td>15.508386</td>\n",
       "      <td>15.282</td>\n",
       "    </tr>\n",
       "    <tr>\n",
       "      <th>2.  Manufacturing industries and construction</th>\n",
       "      <td>4.589083</td>\n",
       "      <td>4.711231</td>\n",
       "      <td>4.728609</td>\n",
       "      <td>4.377738</td>\n",
       "      <td>4.663597</td>\n",
       "      <td>4.541524</td>\n",
       "      <td>4.210813</td>\n",
       "      <td>3.877838</td>\n",
       "      <td>3.823551</td>\n",
       "      <td>3.767527</td>\n",
       "      <td>...</td>\n",
       "      <td>3.576307</td>\n",
       "      <td>3.38953</td>\n",
       "      <td>3.569429</td>\n",
       "      <td>4.073298</td>\n",
       "      <td>4.273278</td>\n",
       "      <td>4.37072</td>\n",
       "      <td>4.833171</td>\n",
       "      <td>5.192234</td>\n",
       "      <td>5.1501</td>\n",
       "      <td>5.366701</td>\n",
       "    </tr>\n",
       "    <tr>\n",
       "      <th>3.  Transport</th>\n",
       "      <td>50.681303</td>\n",
       "      <td>50.103597</td>\n",
       "      <td>49.49165</td>\n",
       "      <td>47.311956</td>\n",
       "      <td>43.707487</td>\n",
       "      <td>40.099872</td>\n",
       "      <td>38.641082</td>\n",
       "      <td>35.893641</td>\n",
       "      <td>32.735081</td>\n",
       "      <td>30.344558</td>\n",
       "      <td>...</td>\n",
       "      <td>6.78282</td>\n",
       "      <td>6.061676</td>\n",
       "      <td>5.406256</td>\n",
       "      <td>5.031123</td>\n",
       "      <td>4.683222</td>\n",
       "      <td>4.395497</td>\n",
       "      <td>4.170461</td>\n",
       "      <td>3.983555</td>\n",
       "      <td>3.90597</td>\n",
       "      <td>3.068721</td>\n",
       "    </tr>\n",
       "    <tr>\n",
       "      <th>4.  Other sectors</th>\n",
       "      <td>64.69936</td>\n",
       "      <td>70.249412</td>\n",
       "      <td>63.455389</td>\n",
       "      <td>68.412059</td>\n",
       "      <td>59.478312</td>\n",
       "      <td>47.04932</td>\n",
       "      <td>49.262109</td>\n",
       "      <td>44.314246</td>\n",
       "      <td>42.899231</td>\n",
       "      <td>43.419329</td>\n",
       "      <td>...</td>\n",
       "      <td>21.376114</td>\n",
       "      <td>22.59465</td>\n",
       "      <td>24.109167</td>\n",
       "      <td>21.210039</td>\n",
       "      <td>22.848633</td>\n",
       "      <td>23.494567</td>\n",
       "      <td>23.839137</td>\n",
       "      <td>25.090262</td>\n",
       "      <td>24.522814</td>\n",
       "      <td>24.463595</td>\n",
       "    </tr>\n",
       "    <tr>\n",
       "      <th>5.  Other</th>\n",
       "      <td>0.142261</td>\n",
       "      <td>0.108426</td>\n",
       "      <td>0.104131</td>\n",
       "      <td>0.109211</td>\n",
       "      <td>0.105221</td>\n",
       "      <td>0.102388</td>\n",
       "      <td>0.099455</td>\n",
       "      <td>0.092053</td>\n",
       "      <td>0.085586</td>\n",
       "      <td>0.082154</td>\n",
       "      <td>...</td>\n",
       "      <td>0.072195</td>\n",
       "      <td>0.06637</td>\n",
       "      <td>0.060035</td>\n",
       "      <td>0.053402</td>\n",
       "      <td>0.044236</td>\n",
       "      <td>0.040815</td>\n",
       "      <td>0.041386</td>\n",
       "      <td>0.041804</td>\n",
       "      <td>0.043913</td>\n",
       "      <td>0.037341</td>\n",
       "    </tr>\n",
       "    <tr>\n",
       "      <th>B. Fugitive emissions from fuels</th>\n",
       "      <td>1366.758886</td>\n",
       "      <td>1382.413749</td>\n",
       "      <td>1370.737413</td>\n",
       "      <td>1290.860396</td>\n",
       "      <td>1002.621807</td>\n",
       "      <td>1052.688107</td>\n",
       "      <td>989.65385</td>\n",
       "      <td>911.69332</td>\n",
       "      <td>825.234995</td>\n",
       "      <td>717.636768</td>\n",
       "      <td>...</td>\n",
       "      <td>343.648715</td>\n",
       "      <td>341.005053</td>\n",
       "      <td>293.461115</td>\n",
       "      <td>277.847333</td>\n",
       "      <td>258.619969</td>\n",
       "      <td>219.391762</td>\n",
       "      <td>215.38456</td>\n",
       "      <td>213.083073</td>\n",
       "      <td>204.866594</td>\n",
       "      <td>187.338406</td>\n",
       "    </tr>\n",
       "    <tr>\n",
       "      <th>1.  Solid fuels</th>\n",
       "      <td>873.074293</td>\n",
       "      <td>897.83253</td>\n",
       "      <td>890.364618</td>\n",
       "      <td>829.103641</td>\n",
       "      <td>550.959869</td>\n",
       "      <td>602.516256</td>\n",
       "      <td>557.611234</td>\n",
       "      <td>534.514975</td>\n",
       "      <td>455.335515</td>\n",
       "      <td>377.117508</td>\n",
       "      <td>...</td>\n",
       "      <td>97.976567</td>\n",
       "      <td>98.672825</td>\n",
       "      <td>68.181055</td>\n",
       "      <td>67.278929</td>\n",
       "      <td>55.380997</td>\n",
       "      <td>20.262999</td>\n",
       "      <td>19.510771</td>\n",
       "      <td>18.825045</td>\n",
       "      <td>19.558908</td>\n",
       "      <td>18.98806</td>\n",
       "    </tr>\n",
       "    <tr>\n",
       "      <th>2.  Oil and natural gas and other emissions from energy production</th>\n",
       "      <td>493.684593</td>\n",
       "      <td>484.581219</td>\n",
       "      <td>480.372796</td>\n",
       "      <td>461.756754</td>\n",
       "      <td>451.661937</td>\n",
       "      <td>450.17185</td>\n",
       "      <td>432.042616</td>\n",
       "      <td>377.178346</td>\n",
       "      <td>369.89948</td>\n",
       "      <td>340.519261</td>\n",
       "      <td>...</td>\n",
       "      <td>245.672148</td>\n",
       "      <td>242.332228</td>\n",
       "      <td>225.28006</td>\n",
       "      <td>210.568404</td>\n",
       "      <td>203.238972</td>\n",
       "      <td>199.128763</td>\n",
       "      <td>195.873789</td>\n",
       "      <td>194.258027</td>\n",
       "      <td>185.307686</td>\n",
       "      <td>168.350346</td>\n",
       "    </tr>\n",
       "    <tr>\n",
       "      <th>2.  Industrial processes</th>\n",
       "      <td>11.678132</td>\n",
       "      <td>11.36161</td>\n",
       "      <td>11.88387</td>\n",
       "      <td>11.32406</td>\n",
       "      <td>11.690493</td>\n",
       "      <td>9.677802</td>\n",
       "      <td>10.755264</td>\n",
       "      <td>9.439895</td>\n",
       "      <td>7.445609</td>\n",
       "      <td>6.530658</td>\n",
       "      <td>...</td>\n",
       "      <td>4.540215</td>\n",
       "      <td>4.9185</td>\n",
       "      <td>5.213808</td>\n",
       "      <td>5.077752</td>\n",
       "      <td>3.359455</td>\n",
       "      <td>3.700366</td>\n",
       "      <td>3.262336</td>\n",
       "      <td>2.493776</td>\n",
       "      <td>3.392302</td>\n",
       "      <td>3.230295</td>\n",
       "    </tr>\n",
       "    <tr>\n",
       "      <th>B.  Chemical industry</th>\n",
       "      <td>8.865297</td>\n",
       "      <td>8.874729</td>\n",
       "      <td>9.441113</td>\n",
       "      <td>9.019911</td>\n",
       "      <td>9.238314</td>\n",
       "      <td>7.19901</td>\n",
       "      <td>8.363716</td>\n",
       "      <td>7.055211</td>\n",
       "      <td>5.157832</td>\n",
       "      <td>4.394424</td>\n",
       "      <td>...</td>\n",
       "      <td>3.675194</td>\n",
       "      <td>4.060715</td>\n",
       "      <td>4.243197</td>\n",
       "      <td>3.975648</td>\n",
       "      <td>2.400651</td>\n",
       "      <td>2.976097</td>\n",
       "      <td>2.561663</td>\n",
       "      <td>1.804537</td>\n",
       "      <td>2.735971</td>\n",
       "      <td>2.688221</td>\n",
       "    </tr>\n",
       "    <tr>\n",
       "      <th>C.  Metal industry</th>\n",
       "      <td>1.568634</td>\n",
       "      <td>1.477801</td>\n",
       "      <td>1.53955</td>\n",
       "      <td>1.544171</td>\n",
       "      <td>1.596174</td>\n",
       "      <td>1.626374</td>\n",
       "      <td>1.620688</td>\n",
       "      <td>1.652379</td>\n",
       "      <td>1.580919</td>\n",
       "      <td>1.552088</td>\n",
       "      <td>...</td>\n",
       "      <td>0.616389</td>\n",
       "      <td>0.697032</td>\n",
       "      <td>0.789898</td>\n",
       "      <td>0.89937</td>\n",
       "      <td>0.755072</td>\n",
       "      <td>0.484594</td>\n",
       "      <td>0.464978</td>\n",
       "      <td>0.474502</td>\n",
       "      <td>0.442583</td>\n",
       "      <td>0.437219</td>\n",
       "    </tr>\n",
       "    <tr>\n",
       "      <th>H.  Other</th>\n",
       "      <td>1.244201</td>\n",
       "      <td>1.009079</td>\n",
       "      <td>0.903208</td>\n",
       "      <td>0.759977</td>\n",
       "      <td>0.856005</td>\n",
       "      <td>0.852419</td>\n",
       "      <td>0.770859</td>\n",
       "      <td>0.732305</td>\n",
       "      <td>0.706858</td>\n",
       "      <td>0.584146</td>\n",
       "      <td>...</td>\n",
       "      <td>0.248632</td>\n",
       "      <td>0.160752</td>\n",
       "      <td>0.180713</td>\n",
       "      <td>0.202734</td>\n",
       "      <td>0.203732</td>\n",
       "      <td>0.239675</td>\n",
       "      <td>0.235695</td>\n",
       "      <td>0.214737</td>\n",
       "      <td>0.213747</td>\n",
       "      <td>0.104856</td>\n",
       "    </tr>\n",
       "    <tr>\n",
       "      <th>3.  Agriculture</th>\n",
       "      <td>1171.98641</td>\n",
       "      <td>1156.990869</td>\n",
       "      <td>1163.424917</td>\n",
       "      <td>1160.799612</td>\n",
       "      <td>1166.113076</td>\n",
       "      <td>1157.67644</td>\n",
       "      <td>1178.983289</td>\n",
       "      <td>1170.725876</td>\n",
       "      <td>1174.394776</td>\n",
       "      <td>1168.526028</td>\n",
       "      <td>...</td>\n",
       "      <td>1006.181429</td>\n",
       "      <td>1002.790644</td>\n",
       "      <td>997.912419</td>\n",
       "      <td>1024.283862</td>\n",
       "      <td>1028.435902</td>\n",
       "      <td>1024.881975</td>\n",
       "      <td>1028.871742</td>\n",
       "      <td>1009.318733</td>\n",
       "      <td>1011.195846</td>\n",
       "      <td>997.713028</td>\n",
       "    </tr>\n",
       "    <tr>\n",
       "      <th>A.  Enteric fermentation</th>\n",
       "      <td>987.320504</td>\n",
       "      <td>974.691984</td>\n",
       "      <td>982.016455</td>\n",
       "      <td>982.938034</td>\n",
       "      <td>985.662423</td>\n",
       "      <td>979.183462</td>\n",
       "      <td>996.462865</td>\n",
       "      <td>987.873303</td>\n",
       "      <td>991.473117</td>\n",
       "      <td>988.591186</td>\n",
       "      <td>...</td>\n",
       "      <td>846.421455</td>\n",
       "      <td>844.184221</td>\n",
       "      <td>837.913847</td>\n",
       "      <td>860.143573</td>\n",
       "      <td>864.446478</td>\n",
       "      <td>862.331462</td>\n",
       "      <td>865.895929</td>\n",
       "      <td>848.665986</td>\n",
       "      <td>849.621961</td>\n",
       "      <td>837.503956</td>\n",
       "    </tr>\n",
       "    <tr>\n",
       "      <th>B.  Manure management</th>\n",
       "      <td>166.351049</td>\n",
       "      <td>164.80293</td>\n",
       "      <td>165.612614</td>\n",
       "      <td>167.111687</td>\n",
       "      <td>169.669393</td>\n",
       "      <td>167.649505</td>\n",
       "      <td>172.151493</td>\n",
       "      <td>172.187244</td>\n",
       "      <td>171.946349</td>\n",
       "      <td>168.981726</td>\n",
       "      <td>...</td>\n",
       "      <td>151.33245</td>\n",
       "      <td>150.490408</td>\n",
       "      <td>151.712794</td>\n",
       "      <td>155.696066</td>\n",
       "      <td>155.81673</td>\n",
       "      <td>154.253458</td>\n",
       "      <td>154.683533</td>\n",
       "      <td>152.698974</td>\n",
       "      <td>153.599295</td>\n",
       "      <td>152.480354</td>\n",
       "    </tr>\n",
       "    <tr>\n",
       "      <th>J.  Other</th>\n",
       "      <td>10.85203</td>\n",
       "      <td>10.932333</td>\n",
       "      <td>10.994607</td>\n",
       "      <td>10.589492</td>\n",
       "      <td>10.78126</td>\n",
       "      <td>10.843473</td>\n",
       "      <td>10.368932</td>\n",
       "      <td>10.665329</td>\n",
       "      <td>10.97531</td>\n",
       "      <td>10.953117</td>\n",
       "      <td>...</td>\n",
       "      <td>8.427524</td>\n",
       "      <td>8.116015</td>\n",
       "      <td>8.285778</td>\n",
       "      <td>8.444223</td>\n",
       "      <td>8.172694</td>\n",
       "      <td>8.297054</td>\n",
       "      <td>8.29228</td>\n",
       "      <td>7.953773</td>\n",
       "      <td>7.97459</td>\n",
       "      <td>7.728718</td>\n",
       "    </tr>\n",
       "    <tr>\n",
       "      <th>4. Land use, land-use change and forestry</th>\n",
       "      <td>189.734249</td>\n",
       "      <td>189.577716</td>\n",
       "      <td>189.176903</td>\n",
       "      <td>189.059803</td>\n",
       "      <td>188.80243</td>\n",
       "      <td>189.215703</td>\n",
       "      <td>188.707332</td>\n",
       "      <td>188.701821</td>\n",
       "      <td>188.321458</td>\n",
       "      <td>187.988238</td>\n",
       "      <td>...</td>\n",
       "      <td>191.944127</td>\n",
       "      <td>191.505267</td>\n",
       "      <td>192.005357</td>\n",
       "      <td>191.298126</td>\n",
       "      <td>192.468111</td>\n",
       "      <td>192.663569</td>\n",
       "      <td>192.612499</td>\n",
       "      <td>194.574622</td>\n",
       "      <td>196.110417</td>\n",
       "      <td>195.0866</td>\n",
       "    </tr>\n",
       "    <tr>\n",
       "      <th>A.  Forest land</th>\n",
       "      <td>3.501545</td>\n",
       "      <td>3.644213</td>\n",
       "      <td>3.503214</td>\n",
       "      <td>3.583722</td>\n",
       "      <td>3.604572</td>\n",
       "      <td>4.257114</td>\n",
       "      <td>3.958367</td>\n",
       "      <td>4.114674</td>\n",
       "      <td>3.9275</td>\n",
       "      <td>3.720116</td>\n",
       "      <td>...</td>\n",
       "      <td>4.22518</td>\n",
       "      <td>4.298898</td>\n",
       "      <td>4.578051</td>\n",
       "      <td>3.696484</td>\n",
       "      <td>3.688076</td>\n",
       "      <td>3.778571</td>\n",
       "      <td>3.750185</td>\n",
       "      <td>4.53201</td>\n",
       "      <td>4.832745</td>\n",
       "      <td>4.125152</td>\n",
       "    </tr>\n",
       "    <tr>\n",
       "      <th>B.  Cropland</th>\n",
       "      <td>11.677689</td>\n",
       "      <td>11.667706</td>\n",
       "      <td>11.663645</td>\n",
       "      <td>11.64919</td>\n",
       "      <td>11.63248</td>\n",
       "      <td>11.61062</td>\n",
       "      <td>11.592062</td>\n",
       "      <td>11.581425</td>\n",
       "      <td>11.566816</td>\n",
       "      <td>11.551061</td>\n",
       "      <td>...</td>\n",
       "      <td>11.311277</td>\n",
       "      <td>11.296442</td>\n",
       "      <td>11.280937</td>\n",
       "      <td>11.266004</td>\n",
       "      <td>11.250888</td>\n",
       "      <td>11.234421</td>\n",
       "      <td>11.218819</td>\n",
       "      <td>11.211079</td>\n",
       "      <td>11.189266</td>\n",
       "      <td>11.173329</td>\n",
       "    </tr>\n",
       "    <tr>\n",
       "      <th>C.  Grassland</th>\n",
       "      <td>95.43477</td>\n",
       "      <td>95.098801</td>\n",
       "      <td>94.793273</td>\n",
       "      <td>94.558459</td>\n",
       "      <td>94.238827</td>\n",
       "      <td>93.979839</td>\n",
       "      <td>93.717535</td>\n",
       "      <td>93.491633</td>\n",
       "      <td>93.255338</td>\n",
       "      <td>93.044801</td>\n",
       "      <td>...</td>\n",
       "      <td>95.398707</td>\n",
       "      <td>94.885848</td>\n",
       "      <td>95.172881</td>\n",
       "      <td>95.430544</td>\n",
       "      <td>95.430843</td>\n",
       "      <td>95.79233</td>\n",
       "      <td>95.921494</td>\n",
       "      <td>96.179853</td>\n",
       "      <td>96.614631</td>\n",
       "      <td>96.835866</td>\n",
       "    </tr>\n",
       "    <tr>\n",
       "      <th>D.  Wetlands</th>\n",
       "      <td>78.467951</td>\n",
       "      <td>78.523193</td>\n",
       "      <td>78.578466</td>\n",
       "      <td>78.633739</td>\n",
       "      <td>78.689012</td>\n",
       "      <td>78.744285</td>\n",
       "      <td>78.799558</td>\n",
       "      <td>78.854831</td>\n",
       "      <td>78.910104</td>\n",
       "      <td>78.965377</td>\n",
       "      <td>...</td>\n",
       "      <td>80.204817</td>\n",
       "      <td>80.233107</td>\n",
       "      <td>80.184079</td>\n",
       "      <td>80.167571</td>\n",
       "      <td>81.274039</td>\n",
       "      <td>80.644637</td>\n",
       "      <td>80.651948</td>\n",
       "      <td>81.471996</td>\n",
       "      <td>82.279999</td>\n",
       "      <td>81.744694</td>\n",
       "    </tr>\n",
       "    <tr>\n",
       "      <th>E.  Settlements</th>\n",
       "      <td>0.146432</td>\n",
       "      <td>0.13987</td>\n",
       "      <td>0.133001</td>\n",
       "      <td>0.132094</td>\n",
       "      <td>0.137146</td>\n",
       "      <td>0.126667</td>\n",
       "      <td>0.142875</td>\n",
       "      <td>0.162707</td>\n",
       "      <td>0.165175</td>\n",
       "      <td>0.210818</td>\n",
       "      <td>...</td>\n",
       "      <td>0.284476</td>\n",
       "      <td>0.267568</td>\n",
       "      <td>0.261288</td>\n",
       "      <td>0.206126</td>\n",
       "      <td>0.289445</td>\n",
       "      <td>0.670149</td>\n",
       "      <td>0.518471</td>\n",
       "      <td>0.619695</td>\n",
       "      <td>0.625422</td>\n",
       "      <td>0.630855</td>\n",
       "    </tr>\n",
       "    <tr>\n",
       "      <th>H.  Other</th>\n",
       "      <td>0.505862</td>\n",
       "      <td>0.503933</td>\n",
       "      <td>0.505304</td>\n",
       "      <td>0.502598</td>\n",
       "      <td>0.500392</td>\n",
       "      <td>0.497179</td>\n",
       "      <td>0.496934</td>\n",
       "      <td>0.49655</td>\n",
       "      <td>0.496525</td>\n",
       "      <td>0.496065</td>\n",
       "      <td>...</td>\n",
       "      <td>0.51967</td>\n",
       "      <td>0.523405</td>\n",
       "      <td>0.528122</td>\n",
       "      <td>0.531397</td>\n",
       "      <td>0.53482</td>\n",
       "      <td>0.543461</td>\n",
       "      <td>0.551583</td>\n",
       "      <td>0.55999</td>\n",
       "      <td>0.568353</td>\n",
       "      <td>0.576705</td>\n",
       "    </tr>\n",
       "    <tr>\n",
       "      <th>5.  Waste</th>\n",
       "      <td>2513.12545</td>\n",
       "      <td>2538.23937</td>\n",
       "      <td>2545.377845</td>\n",
       "      <td>2567.616184</td>\n",
       "      <td>2587.989313</td>\n",
       "      <td>2629.302461</td>\n",
       "      <td>2638.606499</td>\n",
       "      <td>2636.871724</td>\n",
       "      <td>2593.557542</td>\n",
       "      <td>2484.881836</td>\n",
       "      <td>...</td>\n",
       "      <td>993.682096</td>\n",
       "      <td>934.830428</td>\n",
       "      <td>819.066489</td>\n",
       "      <td>730.981458</td>\n",
       "      <td>705.370961</td>\n",
       "      <td>675.862253</td>\n",
       "      <td>691.062191</td>\n",
       "      <td>690.888182</td>\n",
       "      <td>684.746688</td>\n",
       "      <td>633.899641</td>\n",
       "    </tr>\n",
       "    <tr>\n",
       "      <th>A.  Solid waste disposal</th>\n",
       "      <td>2415.581462</td>\n",
       "      <td>2439.778305</td>\n",
       "      <td>2443.075672</td>\n",
       "      <td>2464.405304</td>\n",
       "      <td>2485.859486</td>\n",
       "      <td>2530.607606</td>\n",
       "      <td>2538.572756</td>\n",
       "      <td>2530.884428</td>\n",
       "      <td>2490.902813</td>\n",
       "      <td>2380.503611</td>\n",
       "      <td>...</td>\n",
       "      <td>889.878686</td>\n",
       "      <td>831.343268</td>\n",
       "      <td>712.488119</td>\n",
       "      <td>615.872003</td>\n",
       "      <td>592.489664</td>\n",
       "      <td>563.395648</td>\n",
       "      <td>570.608776</td>\n",
       "      <td>573.899775</td>\n",
       "      <td>566.082192</td>\n",
       "      <td>516.485622</td>\n",
       "    </tr>\n",
       "    <tr>\n",
       "      <th>B.  Biological treatment of solid waste</th>\n",
       "      <td>0.725287</td>\n",
       "      <td>1.644512</td>\n",
       "      <td>2.562214</td>\n",
       "      <td>3.480329</td>\n",
       "      <td>4.401777</td>\n",
       "      <td>5.319685</td>\n",
       "      <td>6.237744</td>\n",
       "      <td>7.156432</td>\n",
       "      <td>8.075459</td>\n",
       "      <td>8.994066</td>\n",
       "      <td>...</td>\n",
       "      <td>30.561665</td>\n",
       "      <td>32.676183</td>\n",
       "      <td>35.583989</td>\n",
       "      <td>40.760012</td>\n",
       "      <td>42.134682</td>\n",
       "      <td>45.90464</td>\n",
       "      <td>48.5483</td>\n",
       "      <td>48.110494</td>\n",
       "      <td>48.485461</td>\n",
       "      <td>48.671595</td>\n",
       "    </tr>\n",
       "    <tr>\n",
       "      <th>C.  Incineration and open burning of waste</th>\n",
       "      <td>5.452698</td>\n",
       "      <td>5.338075</td>\n",
       "      <td>5.111042</td>\n",
       "      <td>4.555071</td>\n",
       "      <td>3.506549</td>\n",
       "      <td>3.459728</td>\n",
       "      <td>3.509935</td>\n",
       "      <td>1.083476</td>\n",
       "      <td>1.054639</td>\n",
       "      <td>1.139002</td>\n",
       "      <td>...</td>\n",
       "      <td>0.478988</td>\n",
       "      <td>0.419577</td>\n",
       "      <td>0.407693</td>\n",
       "      <td>0.373037</td>\n",
       "      <td>0.374758</td>\n",
       "      <td>0.370093</td>\n",
       "      <td>0.359734</td>\n",
       "      <td>0.344056</td>\n",
       "      <td>0.321451</td>\n",
       "      <td>0.295563</td>\n",
       "    </tr>\n",
       "    <tr>\n",
       "      <th>D.  Waste water treatment and discharge</th>\n",
       "      <td>91.366003</td>\n",
       "      <td>91.478478</td>\n",
       "      <td>94.628917</td>\n",
       "      <td>95.175481</td>\n",
       "      <td>94.221502</td>\n",
       "      <td>89.915442</td>\n",
       "      <td>90.286065</td>\n",
       "      <td>97.747388</td>\n",
       "      <td>93.524631</td>\n",
       "      <td>94.245157</td>\n",
       "      <td>...</td>\n",
       "      <td>72.762756</td>\n",
       "      <td>70.3914</td>\n",
       "      <td>70.586688</td>\n",
       "      <td>73.976406</td>\n",
       "      <td>70.371858</td>\n",
       "      <td>66.191872</td>\n",
       "      <td>71.545381</td>\n",
       "      <td>68.533856</td>\n",
       "      <td>69.857583</td>\n",
       "      <td>68.446861</td>\n",
       "    </tr>\n",
       "    <tr>\n",
       "      <th>Total CH4 emissions without CH4 from LULUCF</th>\n",
       "      <td>5192.988338</td>\n",
       "      <td>5223.475258</td>\n",
       "      <td>5218.705654</td>\n",
       "      <td>5160.733485</td>\n",
       "      <td>4886.429521</td>\n",
       "      <td>4951.626464</td>\n",
       "      <td>4920.988064</td>\n",
       "      <td>4823.999157</td>\n",
       "      <td>4688.134724</td>\n",
       "      <td>4467.381303</td>\n",
       "      <td>...</td>\n",
       "      <td>2391.56415</td>\n",
       "      <td>2326.909177</td>\n",
       "      <td>2160.040483</td>\n",
       "      <td>2081.29611</td>\n",
       "      <td>2040.939895</td>\n",
       "      <td>1970.302123</td>\n",
       "      <td>1986.253883</td>\n",
       "      <td>1965.26204</td>\n",
       "      <td>1953.332612</td>\n",
       "      <td>1870.399728</td>\n",
       "    </tr>\n",
       "    <tr>\n",
       "      <th>Total CH4 emissions with CH4 from LULUCF</th>\n",
       "      <td>5382.722587</td>\n",
       "      <td>5413.052974</td>\n",
       "      <td>5407.882557</td>\n",
       "      <td>5349.793288</td>\n",
       "      <td>5075.231951</td>\n",
       "      <td>5140.842167</td>\n",
       "      <td>5109.695395</td>\n",
       "      <td>5012.700977</td>\n",
       "      <td>4876.456182</td>\n",
       "      <td>4655.36954</td>\n",
       "      <td>...</td>\n",
       "      <td>2583.508277</td>\n",
       "      <td>2518.414445</td>\n",
       "      <td>2352.04584</td>\n",
       "      <td>2272.594237</td>\n",
       "      <td>2233.408006</td>\n",
       "      <td>2162.965692</td>\n",
       "      <td>2178.866382</td>\n",
       "      <td>2159.836662</td>\n",
       "      <td>2149.443029</td>\n",
       "      <td>2065.486329</td>\n",
       "    </tr>\n",
       "  </tbody>\n",
       "</table>\n",
       "<p>32 rows × 31 columns</p>\n",
       "</div>"
      ],
      "text/plain": [
       "                                                           1990         1991  \\\n",
       "GREENHOUSE GAS SOURCE AND SINK CATEGORIES                                      \n",
       "1. Energy                                           1496.198346  1516.883409   \n",
       "A. Fuel combustion (sectoral approach)                129.43946    134.46966   \n",
       "1.  Energy industries                                  9.327453     9.296994   \n",
       "2.  Manufacturing industries and construction          4.589083     4.711231   \n",
       "3.  Transport                                         50.681303    50.103597   \n",
       "4.  Other sectors                                      64.69936    70.249412   \n",
       "5.  Other                                              0.142261     0.108426   \n",
       "B. Fugitive emissions from fuels                    1366.758886  1382.413749   \n",
       "1.  Solid fuels                                      873.074293    897.83253   \n",
       "2.  Oil and natural gas and other emissions fro...   493.684593   484.581219   \n",
       "2.  Industrial processes                              11.678132     11.36161   \n",
       "B.  Chemical industry                                  8.865297     8.874729   \n",
       "C.  Metal industry                                     1.568634     1.477801   \n",
       "H.  Other                                              1.244201     1.009079   \n",
       "3.  Agriculture                                      1171.98641  1156.990869   \n",
       "A.  Enteric fermentation                             987.320504   974.691984   \n",
       "B.  Manure management                                166.351049    164.80293   \n",
       "J.  Other                                              10.85203    10.932333   \n",
       "4. Land use, land-use change and forestry            189.734249   189.577716   \n",
       "A.  Forest land                                        3.501545     3.644213   \n",
       "B.  Cropland                                          11.677689    11.667706   \n",
       "C.  Grassland                                          95.43477    95.098801   \n",
       "D.  Wetlands                                          78.467951    78.523193   \n",
       "E.  Settlements                                        0.146432      0.13987   \n",
       "H.  Other                                              0.505862     0.503933   \n",
       "5.  Waste                                            2513.12545   2538.23937   \n",
       "A.  Solid waste disposal                            2415.581462  2439.778305   \n",
       "B.  Biological treatment of solid waste                0.725287     1.644512   \n",
       "C.  Incineration and open burning of waste             5.452698     5.338075   \n",
       "D.  Waste water treatment and discharge               91.366003    91.478478   \n",
       "Total CH4 emissions without CH4 from LULUCF         5192.988338  5223.475258   \n",
       "Total CH4 emissions with CH4 from LULUCF            5382.722587  5413.052974   \n",
       "\n",
       "                                                           1992         1993  \\\n",
       "GREENHOUSE GAS SOURCE AND SINK CATEGORIES                                      \n",
       "1. Energy                                           1498.019022  1420.993629   \n",
       "A. Fuel combustion (sectoral approach)               127.281609   130.133233   \n",
       "1.  Energy industries                                  9.501829     9.922269   \n",
       "2.  Manufacturing industries and construction          4.728609     4.377738   \n",
       "3.  Transport                                          49.49165    47.311956   \n",
       "4.  Other sectors                                     63.455389    68.412059   \n",
       "5.  Other                                              0.104131     0.109211   \n",
       "B. Fugitive emissions from fuels                    1370.737413  1290.860396   \n",
       "1.  Solid fuels                                      890.364618   829.103641   \n",
       "2.  Oil and natural gas and other emissions fro...   480.372796   461.756754   \n",
       "2.  Industrial processes                               11.88387     11.32406   \n",
       "B.  Chemical industry                                  9.441113     9.019911   \n",
       "C.  Metal industry                                      1.53955     1.544171   \n",
       "H.  Other                                              0.903208     0.759977   \n",
       "3.  Agriculture                                     1163.424917  1160.799612   \n",
       "A.  Enteric fermentation                             982.016455   982.938034   \n",
       "B.  Manure management                                165.612614   167.111687   \n",
       "J.  Other                                             10.994607    10.589492   \n",
       "4. Land use, land-use change and forestry            189.176903   189.059803   \n",
       "A.  Forest land                                        3.503214     3.583722   \n",
       "B.  Cropland                                          11.663645     11.64919   \n",
       "C.  Grassland                                         94.793273    94.558459   \n",
       "D.  Wetlands                                          78.578466    78.633739   \n",
       "E.  Settlements                                        0.133001     0.132094   \n",
       "H.  Other                                              0.505304     0.502598   \n",
       "5.  Waste                                           2545.377845  2567.616184   \n",
       "A.  Solid waste disposal                            2443.075672  2464.405304   \n",
       "B.  Biological treatment of solid waste                2.562214     3.480329   \n",
       "C.  Incineration and open burning of waste             5.111042     4.555071   \n",
       "D.  Waste water treatment and discharge               94.628917    95.175481   \n",
       "Total CH4 emissions without CH4 from LULUCF         5218.705654  5160.733485   \n",
       "Total CH4 emissions with CH4 from LULUCF            5407.882557  5349.793288   \n",
       "\n",
       "                                                           1994         1995  \\\n",
       "GREENHOUSE GAS SOURCE AND SINK CATEGORIES                                      \n",
       "1. Energy                                           1120.636638  1154.969761   \n",
       "A. Fuel combustion (sectoral approach)               118.014832   102.281655   \n",
       "1.  Energy industries                                 10.060215    10.488551   \n",
       "2.  Manufacturing industries and construction          4.663597     4.541524   \n",
       "3.  Transport                                         43.707487    40.099872   \n",
       "4.  Other sectors                                     59.478312     47.04932   \n",
       "5.  Other                                              0.105221     0.102388   \n",
       "B. Fugitive emissions from fuels                    1002.621807  1052.688107   \n",
       "1.  Solid fuels                                      550.959869   602.516256   \n",
       "2.  Oil and natural gas and other emissions fro...   451.661937    450.17185   \n",
       "2.  Industrial processes                              11.690493     9.677802   \n",
       "B.  Chemical industry                                  9.238314      7.19901   \n",
       "C.  Metal industry                                     1.596174     1.626374   \n",
       "H.  Other                                              0.856005     0.852419   \n",
       "3.  Agriculture                                     1166.113076   1157.67644   \n",
       "A.  Enteric fermentation                             985.662423   979.183462   \n",
       "B.  Manure management                                169.669393   167.649505   \n",
       "J.  Other                                              10.78126    10.843473   \n",
       "4. Land use, land-use change and forestry             188.80243   189.215703   \n",
       "A.  Forest land                                        3.604572     4.257114   \n",
       "B.  Cropland                                           11.63248     11.61062   \n",
       "C.  Grassland                                         94.238827    93.979839   \n",
       "D.  Wetlands                                          78.689012    78.744285   \n",
       "E.  Settlements                                        0.137146     0.126667   \n",
       "H.  Other                                              0.500392     0.497179   \n",
       "5.  Waste                                           2587.989313  2629.302461   \n",
       "A.  Solid waste disposal                            2485.859486  2530.607606   \n",
       "B.  Biological treatment of solid waste                4.401777     5.319685   \n",
       "C.  Incineration and open burning of waste             3.506549     3.459728   \n",
       "D.  Waste water treatment and discharge               94.221502    89.915442   \n",
       "Total CH4 emissions without CH4 from LULUCF         4886.429521  4951.626464   \n",
       "Total CH4 emissions with CH4 from LULUCF            5075.231951  5140.842167   \n",
       "\n",
       "                                                           1996         1997  \\\n",
       "GREENHOUSE GAS SOURCE AND SINK CATEGORIES                                      \n",
       "1. Energy                                           1092.643012  1006.961661   \n",
       "A. Fuel combustion (sectoral approach)               102.989162    95.268341   \n",
       "1.  Energy industries                                 10.775702    11.090562   \n",
       "2.  Manufacturing industries and construction          4.210813     3.877838   \n",
       "3.  Transport                                         38.641082    35.893641   \n",
       "4.  Other sectors                                     49.262109    44.314246   \n",
       "5.  Other                                              0.099455     0.092053   \n",
       "B. Fugitive emissions from fuels                      989.65385    911.69332   \n",
       "1.  Solid fuels                                      557.611234   534.514975   \n",
       "2.  Oil and natural gas and other emissions fro...   432.042616   377.178346   \n",
       "2.  Industrial processes                              10.755264     9.439895   \n",
       "B.  Chemical industry                                  8.363716     7.055211   \n",
       "C.  Metal industry                                     1.620688     1.652379   \n",
       "H.  Other                                              0.770859     0.732305   \n",
       "3.  Agriculture                                     1178.983289  1170.725876   \n",
       "A.  Enteric fermentation                             996.462865   987.873303   \n",
       "B.  Manure management                                172.151493   172.187244   \n",
       "J.  Other                                             10.368932    10.665329   \n",
       "4. Land use, land-use change and forestry            188.707332   188.701821   \n",
       "A.  Forest land                                        3.958367     4.114674   \n",
       "B.  Cropland                                          11.592062    11.581425   \n",
       "C.  Grassland                                         93.717535    93.491633   \n",
       "D.  Wetlands                                          78.799558    78.854831   \n",
       "E.  Settlements                                        0.142875     0.162707   \n",
       "H.  Other                                              0.496934      0.49655   \n",
       "5.  Waste                                           2638.606499  2636.871724   \n",
       "A.  Solid waste disposal                            2538.572756  2530.884428   \n",
       "B.  Biological treatment of solid waste                6.237744     7.156432   \n",
       "C.  Incineration and open burning of waste             3.509935     1.083476   \n",
       "D.  Waste water treatment and discharge               90.286065    97.747388   \n",
       "Total CH4 emissions without CH4 from LULUCF         4920.988064  4823.999157   \n",
       "Total CH4 emissions with CH4 from LULUCF            5109.695395  5012.700977   \n",
       "\n",
       "                                                           1998         1999  \\\n",
       "GREENHOUSE GAS SOURCE AND SINK CATEGORIES                                      \n",
       "1. Energy                                            912.736797   807.442782   \n",
       "A. Fuel combustion (sectoral approach)                87.501802    89.806013   \n",
       "1.  Energy industries                                  7.958353    12.192445   \n",
       "2.  Manufacturing industries and construction          3.823551     3.767527   \n",
       "3.  Transport                                         32.735081    30.344558   \n",
       "4.  Other sectors                                     42.899231    43.419329   \n",
       "5.  Other                                              0.085586     0.082154   \n",
       "B. Fugitive emissions from fuels                     825.234995   717.636768   \n",
       "1.  Solid fuels                                      455.335515   377.117508   \n",
       "2.  Oil and natural gas and other emissions fro...    369.89948   340.519261   \n",
       "2.  Industrial processes                               7.445609     6.530658   \n",
       "B.  Chemical industry                                  5.157832     4.394424   \n",
       "C.  Metal industry                                     1.580919     1.552088   \n",
       "H.  Other                                              0.706858     0.584146   \n",
       "3.  Agriculture                                     1174.394776  1168.526028   \n",
       "A.  Enteric fermentation                             991.473117   988.591186   \n",
       "B.  Manure management                                171.946349   168.981726   \n",
       "J.  Other                                              10.97531    10.953117   \n",
       "4. Land use, land-use change and forestry            188.321458   187.988238   \n",
       "A.  Forest land                                          3.9275     3.720116   \n",
       "B.  Cropland                                          11.566816    11.551061   \n",
       "C.  Grassland                                         93.255338    93.044801   \n",
       "D.  Wetlands                                          78.910104    78.965377   \n",
       "E.  Settlements                                        0.165175     0.210818   \n",
       "H.  Other                                              0.496525     0.496065   \n",
       "5.  Waste                                           2593.557542  2484.881836   \n",
       "A.  Solid waste disposal                            2490.902813  2380.503611   \n",
       "B.  Biological treatment of solid waste                8.075459     8.994066   \n",
       "C.  Incineration and open burning of waste             1.054639     1.139002   \n",
       "D.  Waste water treatment and discharge               93.524631    94.245157   \n",
       "Total CH4 emissions without CH4 from LULUCF         4688.134724  4467.381303   \n",
       "Total CH4 emissions with CH4 from LULUCF            4876.456182   4655.36954   \n",
       "\n",
       "                                                    ...         2011  \\\n",
       "GREENHOUSE GAS SOURCE AND SINK CATEGORIES           ...                \n",
       "1. Energy                                           ...   387.160409   \n",
       "A. Fuel combustion (sectoral approach)              ...    43.511694   \n",
       "1.  Energy industries                               ...    11.704258   \n",
       "2.  Manufacturing industries and construction       ...     3.576307   \n",
       "3.  Transport                                       ...      6.78282   \n",
       "4.  Other sectors                                   ...    21.376114   \n",
       "5.  Other                                           ...     0.072195   \n",
       "B. Fugitive emissions from fuels                    ...   343.648715   \n",
       "1.  Solid fuels                                     ...    97.976567   \n",
       "2.  Oil and natural gas and other emissions fro...  ...   245.672148   \n",
       "2.  Industrial processes                            ...     4.540215   \n",
       "B.  Chemical industry                               ...     3.675194   \n",
       "C.  Metal industry                                  ...     0.616389   \n",
       "H.  Other                                           ...     0.248632   \n",
       "3.  Agriculture                                     ...  1006.181429   \n",
       "A.  Enteric fermentation                            ...   846.421455   \n",
       "B.  Manure management                               ...    151.33245   \n",
       "J.  Other                                           ...     8.427524   \n",
       "4. Land use, land-use change and forestry           ...   191.944127   \n",
       "A.  Forest land                                     ...      4.22518   \n",
       "B.  Cropland                                        ...    11.311277   \n",
       "C.  Grassland                                       ...    95.398707   \n",
       "D.  Wetlands                                        ...    80.204817   \n",
       "E.  Settlements                                     ...     0.284476   \n",
       "H.  Other                                           ...      0.51967   \n",
       "5.  Waste                                           ...   993.682096   \n",
       "A.  Solid waste disposal                            ...   889.878686   \n",
       "B.  Biological treatment of solid waste             ...    30.561665   \n",
       "C.  Incineration and open burning of waste          ...     0.478988   \n",
       "D.  Waste water treatment and discharge             ...    72.762756   \n",
       "Total CH4 emissions without CH4 from LULUCF         ...   2391.56415   \n",
       "Total CH4 emissions with CH4 from LULUCF            ...  2583.508277   \n",
       "\n",
       "                                                           2012         2013  \\\n",
       "GREENHOUSE GAS SOURCE AND SINK CATEGORIES                                      \n",
       "1. Energy                                            384.369606   337.847767   \n",
       "A. Fuel combustion (sectoral approach)                43.364553    44.386653   \n",
       "1.  Energy industries                                 11.252326    11.241765   \n",
       "2.  Manufacturing industries and construction           3.38953     3.569429   \n",
       "3.  Transport                                          6.061676     5.406256   \n",
       "4.  Other sectors                                      22.59465    24.109167   \n",
       "5.  Other                                               0.06637     0.060035   \n",
       "B. Fugitive emissions from fuels                     341.005053   293.461115   \n",
       "1.  Solid fuels                                       98.672825    68.181055   \n",
       "2.  Oil and natural gas and other emissions fro...   242.332228    225.28006   \n",
       "2.  Industrial processes                                 4.9185     5.213808   \n",
       "B.  Chemical industry                                  4.060715     4.243197   \n",
       "C.  Metal industry                                     0.697032     0.789898   \n",
       "H.  Other                                              0.160752     0.180713   \n",
       "3.  Agriculture                                     1002.790644   997.912419   \n",
       "A.  Enteric fermentation                             844.184221   837.913847   \n",
       "B.  Manure management                                150.490408   151.712794   \n",
       "J.  Other                                              8.116015     8.285778   \n",
       "4. Land use, land-use change and forestry            191.505267   192.005357   \n",
       "A.  Forest land                                        4.298898     4.578051   \n",
       "B.  Cropland                                          11.296442    11.280937   \n",
       "C.  Grassland                                         94.885848    95.172881   \n",
       "D.  Wetlands                                          80.233107    80.184079   \n",
       "E.  Settlements                                        0.267568     0.261288   \n",
       "H.  Other                                              0.523405     0.528122   \n",
       "5.  Waste                                            934.830428   819.066489   \n",
       "A.  Solid waste disposal                             831.343268   712.488119   \n",
       "B.  Biological treatment of solid waste               32.676183    35.583989   \n",
       "C.  Incineration and open burning of waste             0.419577     0.407693   \n",
       "D.  Waste water treatment and discharge                 70.3914    70.586688   \n",
       "Total CH4 emissions without CH4 from LULUCF         2326.909177  2160.040483   \n",
       "Total CH4 emissions with CH4 from LULUCF            2518.414445   2352.04584   \n",
       "\n",
       "                                                           2014         2015  \\\n",
       "GREENHOUSE GAS SOURCE AND SINK CATEGORIES                                      \n",
       "1. Energy                                            320.953039   303.773576   \n",
       "A. Fuel combustion (sectoral approach)                43.105705    45.153607   \n",
       "1.  Energy industries                                 12.737843    13.304238   \n",
       "2.  Manufacturing industries and construction          4.073298     4.273278   \n",
       "3.  Transport                                          5.031123     4.683222   \n",
       "4.  Other sectors                                     21.210039    22.848633   \n",
       "5.  Other                                              0.053402     0.044236   \n",
       "B. Fugitive emissions from fuels                     277.847333   258.619969   \n",
       "1.  Solid fuels                                       67.278929    55.380997   \n",
       "2.  Oil and natural gas and other emissions fro...   210.568404   203.238972   \n",
       "2.  Industrial processes                               5.077752     3.359455   \n",
       "B.  Chemical industry                                  3.975648     2.400651   \n",
       "C.  Metal industry                                      0.89937     0.755072   \n",
       "H.  Other                                              0.202734     0.203732   \n",
       "3.  Agriculture                                     1024.283862  1028.435902   \n",
       "A.  Enteric fermentation                             860.143573   864.446478   \n",
       "B.  Manure management                                155.696066    155.81673   \n",
       "J.  Other                                              8.444223     8.172694   \n",
       "4. Land use, land-use change and forestry            191.298126   192.468111   \n",
       "A.  Forest land                                        3.696484     3.688076   \n",
       "B.  Cropland                                          11.266004    11.250888   \n",
       "C.  Grassland                                         95.430544    95.430843   \n",
       "D.  Wetlands                                          80.167571    81.274039   \n",
       "E.  Settlements                                        0.206126     0.289445   \n",
       "H.  Other                                              0.531397      0.53482   \n",
       "5.  Waste                                            730.981458   705.370961   \n",
       "A.  Solid waste disposal                             615.872003   592.489664   \n",
       "B.  Biological treatment of solid waste               40.760012    42.134682   \n",
       "C.  Incineration and open burning of waste             0.373037     0.374758   \n",
       "D.  Waste water treatment and discharge               73.976406    70.371858   \n",
       "Total CH4 emissions without CH4 from LULUCF          2081.29611  2040.939895   \n",
       "Total CH4 emissions with CH4 from LULUCF            2272.594237  2233.408006   \n",
       "\n",
       "                                                           2016         2017  \\\n",
       "GREENHOUSE GAS SOURCE AND SINK CATEGORIES                                      \n",
       "1. Energy                                            265.857528   263.057614   \n",
       "A. Fuel combustion (sectoral approach)                46.465766    47.673054   \n",
       "1.  Energy industries                                 14.164167    14.788899   \n",
       "2.  Manufacturing industries and construction           4.37072     4.833171   \n",
       "3.  Transport                                          4.395497     4.170461   \n",
       "4.  Other sectors                                     23.494567    23.839137   \n",
       "5.  Other                                              0.040815     0.041386   \n",
       "B. Fugitive emissions from fuels                     219.391762    215.38456   \n",
       "1.  Solid fuels                                       20.262999    19.510771   \n",
       "2.  Oil and natural gas and other emissions fro...   199.128763   195.873789   \n",
       "2.  Industrial processes                               3.700366     3.262336   \n",
       "B.  Chemical industry                                  2.976097     2.561663   \n",
       "C.  Metal industry                                     0.484594     0.464978   \n",
       "H.  Other                                              0.239675     0.235695   \n",
       "3.  Agriculture                                     1024.881975  1028.871742   \n",
       "A.  Enteric fermentation                             862.331462   865.895929   \n",
       "B.  Manure management                                154.253458   154.683533   \n",
       "J.  Other                                              8.297054      8.29228   \n",
       "4. Land use, land-use change and forestry            192.663569   192.612499   \n",
       "A.  Forest land                                        3.778571     3.750185   \n",
       "B.  Cropland                                          11.234421    11.218819   \n",
       "C.  Grassland                                          95.79233    95.921494   \n",
       "D.  Wetlands                                          80.644637    80.651948   \n",
       "E.  Settlements                                        0.670149     0.518471   \n",
       "H.  Other                                              0.543461     0.551583   \n",
       "5.  Waste                                            675.862253   691.062191   \n",
       "A.  Solid waste disposal                             563.395648   570.608776   \n",
       "B.  Biological treatment of solid waste                45.90464      48.5483   \n",
       "C.  Incineration and open burning of waste             0.370093     0.359734   \n",
       "D.  Waste water treatment and discharge               66.191872    71.545381   \n",
       "Total CH4 emissions without CH4 from LULUCF         1970.302123  1986.253883   \n",
       "Total CH4 emissions with CH4 from LULUCF            2162.965692  2178.866382   \n",
       "\n",
       "                                                           2018         2019  \\\n",
       "GREENHOUSE GAS SOURCE AND SINK CATEGORIES                                      \n",
       "1. Energy                                             262.56135   253.997777   \n",
       "A. Fuel combustion (sectoral approach)                49.478277    49.131183   \n",
       "1.  Energy industries                                 15.170421    15.508386   \n",
       "2.  Manufacturing industries and construction          5.192234       5.1501   \n",
       "3.  Transport                                          3.983555      3.90597   \n",
       "4.  Other sectors                                     25.090262    24.522814   \n",
       "5.  Other                                              0.041804     0.043913   \n",
       "B. Fugitive emissions from fuels                     213.083073   204.866594   \n",
       "1.  Solid fuels                                       18.825045    19.558908   \n",
       "2.  Oil and natural gas and other emissions fro...   194.258027   185.307686   \n",
       "2.  Industrial processes                               2.493776     3.392302   \n",
       "B.  Chemical industry                                  1.804537     2.735971   \n",
       "C.  Metal industry                                     0.474502     0.442583   \n",
       "H.  Other                                              0.214737     0.213747   \n",
       "3.  Agriculture                                     1009.318733  1011.195846   \n",
       "A.  Enteric fermentation                             848.665986   849.621961   \n",
       "B.  Manure management                                152.698974   153.599295   \n",
       "J.  Other                                              7.953773      7.97459   \n",
       "4. Land use, land-use change and forestry            194.574622   196.110417   \n",
       "A.  Forest land                                         4.53201     4.832745   \n",
       "B.  Cropland                                          11.211079    11.189266   \n",
       "C.  Grassland                                         96.179853    96.614631   \n",
       "D.  Wetlands                                          81.471996    82.279999   \n",
       "E.  Settlements                                        0.619695     0.625422   \n",
       "H.  Other                                               0.55999     0.568353   \n",
       "5.  Waste                                            690.888182   684.746688   \n",
       "A.  Solid waste disposal                             573.899775   566.082192   \n",
       "B.  Biological treatment of solid waste               48.110494    48.485461   \n",
       "C.  Incineration and open burning of waste             0.344056     0.321451   \n",
       "D.  Waste water treatment and discharge               68.533856    69.857583   \n",
       "Total CH4 emissions without CH4 from LULUCF          1965.26204  1953.332612   \n",
       "Total CH4 emissions with CH4 from LULUCF            2159.836662  2149.443029   \n",
       "\n",
       "                                                           2020  \n",
       "GREENHOUSE GAS SOURCE AND SINK CATEGORIES                        \n",
       "1. Energy                                            235.556764  \n",
       "A. Fuel combustion (sectoral approach)                48.218358  \n",
       "1.  Energy industries                                    15.282  \n",
       "2.  Manufacturing industries and construction          5.366701  \n",
       "3.  Transport                                          3.068721  \n",
       "4.  Other sectors                                     24.463595  \n",
       "5.  Other                                              0.037341  \n",
       "B. Fugitive emissions from fuels                     187.338406  \n",
       "1.  Solid fuels                                        18.98806  \n",
       "2.  Oil and natural gas and other emissions fro...   168.350346  \n",
       "2.  Industrial processes                               3.230295  \n",
       "B.  Chemical industry                                  2.688221  \n",
       "C.  Metal industry                                     0.437219  \n",
       "H.  Other                                              0.104856  \n",
       "3.  Agriculture                                      997.713028  \n",
       "A.  Enteric fermentation                             837.503956  \n",
       "B.  Manure management                                152.480354  \n",
       "J.  Other                                              7.728718  \n",
       "4. Land use, land-use change and forestry              195.0866  \n",
       "A.  Forest land                                        4.125152  \n",
       "B.  Cropland                                          11.173329  \n",
       "C.  Grassland                                         96.835866  \n",
       "D.  Wetlands                                          81.744694  \n",
       "E.  Settlements                                        0.630855  \n",
       "H.  Other                                              0.576705  \n",
       "5.  Waste                                            633.899641  \n",
       "A.  Solid waste disposal                             516.485622  \n",
       "B.  Biological treatment of solid waste               48.671595  \n",
       "C.  Incineration and open burning of waste             0.295563  \n",
       "D.  Waste water treatment and discharge               68.446861  \n",
       "Total CH4 emissions without CH4 from LULUCF         1870.399728  \n",
       "Total CH4 emissions with CH4 from LULUCF            2065.486329  \n",
       "\n",
       "[32 rows x 31 columns]"
      ]
     },
     "execution_count": 4,
     "metadata": {},
     "output_type": "execute_result"
    }
   ],
   "source": [
    "dfCH4.drop(\n",
    "    labels = [\"D.  Non-energy products from fuels and solvent use\", \"G.  Other product manufacture and use \", \"C.  Rice cultivation\", \"D.  Agricultural soils\", \"E.  Prescribed burning of savannas\", \"F.  Other land\", \"E.  Other \",\"6.  Other (as specified in summary 1.A)\", \"International bunkers\", \"Navigation\", \"Multilateral operations\",\n",
    " \"Aviation\"],\n",
    "    axis=0,\n",
    "    inplace = True\n",
    ")\n",
    "dfCH4.drop(\n",
    "    labels = [\"Base year(1)\", \"Change from base to latest reported year\"],\n",
    "    axis=1,\n",
    "    inplace = True\n",
    ")\n",
    "dfCH4"
   ]
  },
  {
   "cell_type": "markdown",
   "id": "a0133401-a6c5-4f6f-ab7c-ac31dc252634",
   "metadata": {},
   "source": [
    "Plot annual methane emmissions by sector"
   ]
  },
  {
   "cell_type": "code",
   "execution_count": 36,
   "id": "3e50016e-a072-4890-accc-d893588bc3a8",
   "metadata": {},
   "outputs": [
    {
     "data": {
      "application/vnd.plotly.v1+json": {
       "config": {
        "plotlyServerURL": "https://plot.ly"
       },
       "data": [
        {
         "line": {
          "color": "rgba(86, 119, 194, 1)",
          "width": 3
         },
         "mode": "lines",
         "name": "Energy",
         "showlegend": true,
         "type": "scatter",
         "x": [
          1990,
          1991,
          1992,
          1993,
          1994,
          1995,
          1996,
          1997,
          1998,
          1999,
          2000,
          2001,
          2002,
          2003,
          2004,
          2005,
          2006,
          2007,
          2008,
          2009,
          2010,
          2011,
          2012,
          2013,
          2014,
          2015,
          2016,
          2017,
          2018,
          2019,
          2020
         ],
         "y": [
          1496.1983462542223,
          1516.883408936365,
          1498.0190221073278,
          1420.993629134402,
          1120.6366384818766,
          1154.9697612249531,
          1092.643012044412,
          1006.9616614713292,
          912.7367969569113,
          807.4427815336775,
          732.7510412730927,
          680.7761551836649,
          644.8803657089843,
          580.8620719123751,
          565.0947766334012,
          492.2514149879506,
          458.02880856156656,
          437.363192711352,
          418.9560484109065,
          412.077203581289,
          403.3849888717651,
          387.16040921865056,
          384.3696056537476,
          337.8477673515256,
          320.9530385023476,
          303.7735759014997,
          265.8575283794823,
          263.0576138040722,
          262.561350013641,
          253.99777680306306,
          235.5567635719951
         ]
        },
        {
         "line": {
          "color": "rgba(99, 182, 137, 1)",
          "width": 3
         },
         "mode": "lines",
         "name": "Industrial processes",
         "showlegend": true,
         "type": "scatter",
         "x": [
          1990,
          1991,
          1992,
          1993,
          1994,
          1995,
          1996,
          1997,
          1998,
          1999,
          2000,
          2001,
          2002,
          2003,
          2004,
          2005,
          2006,
          2007,
          2008,
          2009,
          2010,
          2011,
          2012,
          2013,
          2014,
          2015,
          2016,
          2017,
          2018,
          2019,
          2020
         ],
         "y": [
          11.67813189145657,
          11.36160980813385,
          11.88387041847657,
          11.32405954677173,
          11.69049309850934,
          9.67780179490405,
          10.75526359948895,
          9.43989509575183,
          7.44560924166843,
          6.53065777540161,
          6.05820933187324,
          5.89568084392443,
          6.02288364723646,
          6.777722825887,
          6.20504701781005,
          5.37330210685488,
          5.44688113689817,
          5.80547688745611,
          4.52793520061458,
          4.86233097512174,
          5.0298650649369,
          4.5402150474156,
          4.91849957348071,
          5.21380768406689,
          5.07775215305834,
          3.35945533039012,
          3.70036644719674,
          3.26233617261481,
          2.49377550725442,
          3.3923015032616,
          3.23029533877434
         ]
        },
        {
         "line": {
          "color": "rgba(255, 0, 0, 1)",
          "width": 3
         },
         "mode": "lines",
         "name": "Agriculture",
         "showlegend": true,
         "type": "scatter",
         "x": [
          1990,
          1991,
          1992,
          1993,
          1994,
          1995,
          1996,
          1997,
          1998,
          1999,
          2000,
          2001,
          2002,
          2003,
          2004,
          2005,
          2006,
          2007,
          2008,
          2009,
          2010,
          2011,
          2012,
          2013,
          2014,
          2015,
          2016,
          2017,
          2018,
          2019,
          2020
         ],
         "y": [
          1171.9864103050484,
          1156.9908687935445,
          1163.4249168568692,
          1160.799612443485,
          1166.1130760379233,
          1157.6764401862654,
          1178.983289404935,
          1170.7258762860035,
          1174.3947759593127,
          1168.5260279076613,
          1132.9012933462614,
          1076.4271495911817,
          1059.6796485124714,
          1069.3288372925686,
          1078.1619323231403,
          1078.7859355915027,
          1056.8745915195154,
          1050.1583898813233,
          1016.2434155230277,
          1004.7880556182862,
          1012.1967931522588,
          1006.1814293511092,
          1002.7906442187157,
          997.9124193741989,
          1024.2838621072613,
          1028.4359021631712,
          1024.881974580251,
          1028.8717416657498,
          1009.3187327168013,
          1011.1958458200606,
          997.7130283371592
         ]
        },
        {
         "line": {
          "color": "rgba(255, 255, 0, 1)",
          "width": 3
         },
         "mode": "lines",
         "name": "Land use, Land-use change and forestry",
         "showlegend": true,
         "type": "scatter",
         "x": [
          1990,
          1991,
          1992,
          1993,
          1994,
          1995,
          1996,
          1997,
          1998,
          1999,
          2000,
          2001,
          2002,
          2003,
          2004,
          2005,
          2006,
          2007,
          2008,
          2009,
          2010,
          2011,
          2012,
          2013,
          2014,
          2015,
          2016,
          2017,
          2018,
          2019,
          2020
         ],
         "y": [
          189.73424941764088,
          189.57771646869213,
          189.17690324707274,
          189.059803013735,
          188.8024296983867,
          189.21570338571806,
          188.70733167929214,
          188.70182072501134,
          188.32145821880042,
          187.98823773031185,
          188.74879693161873,
          188.92850717453453,
          189.11689236811077,
          190.3412851671428,
          189.45753640942792,
          189.95130062483273,
          189.92221444195923,
          190.55310328236578,
          190.3550552868246,
          190.37847477119055,
          191.3008277934374,
          191.94412666018405,
          191.50526733151526,
          192.00535691463912,
          191.29812612932832,
          192.4681110736971,
          192.66356948552612,
          192.6124991580235,
          194.57462225647382,
          196.11041701692923,
          195.08660040160515
         ]
        },
        {
         "line": {
          "color": "rgba(0, 255, 255, 1)",
          "width": 3
         },
         "mode": "lines",
         "name": "Waste",
         "showlegend": true,
         "type": "scatter",
         "x": [
          1990,
          1991,
          1992,
          1993,
          1994,
          1995,
          1996,
          1997,
          1998,
          1999,
          2000,
          2001,
          2002,
          2003,
          2004,
          2005,
          2006,
          2007,
          2008,
          2009,
          2010,
          2011,
          2012,
          2013,
          2014,
          2015,
          2016,
          2017,
          2018,
          2019,
          2020
         ],
         "y": [
          2513.1254495155085,
          2538.239370139545,
          2545.3778445009607,
          2567.616184206714,
          2587.989313491943,
          2629.3024608303126,
          2638.606498749748,
          2636.8717236954385,
          2593.557541925852,
          2484.8818355074786,
          2384.99328460309,
          2302.9351535814376,
          2258.7098775154777,
          2115.836194261204,
          1943.5192959035685,
          1839.098053773713,
          1724.3665224727633,
          1599.0106739623177,
          1421.1205998224432,
          1264.9311420801205,
          1077.7641826851432,
          993.6820964099372,
          934.8304277408292,
          819.0664888775761,
          730.9814576166846,
          705.370961498002,
          675.862253413592,
          691.0621908907202,
          690.8881815638263,
          684.7466880388861,
          633.8996409164893
         ]
        }
       ],
       "layout": {
        "autosize": false,
        "font": {
         "family": "Arial",
         "size": 20
        },
        "height": 800,
        "legend": {
         "traceorder": "normal",
         "x": 0.99,
         "xanchor": "right",
         "y": 0.99,
         "yanchor": "top"
        },
        "margin": {
         "b": 40,
         "l": 55,
         "r": 10,
         "t": 10
        },
        "template": {
         "data": {
          "bar": [
           {
            "error_x": {
             "color": "rgb(36,36,36)"
            },
            "error_y": {
             "color": "rgb(36,36,36)"
            },
            "marker": {
             "line": {
              "color": "white",
              "width": 0.5
             },
             "pattern": {
              "fillmode": "overlay",
              "size": 10,
              "solidity": 0.2
             }
            },
            "type": "bar"
           }
          ],
          "barpolar": [
           {
            "marker": {
             "line": {
              "color": "white",
              "width": 0.5
             },
             "pattern": {
              "fillmode": "overlay",
              "size": 10,
              "solidity": 0.2
             }
            },
            "type": "barpolar"
           }
          ],
          "carpet": [
           {
            "aaxis": {
             "endlinecolor": "rgb(36,36,36)",
             "gridcolor": "white",
             "linecolor": "white",
             "minorgridcolor": "white",
             "startlinecolor": "rgb(36,36,36)"
            },
            "baxis": {
             "endlinecolor": "rgb(36,36,36)",
             "gridcolor": "white",
             "linecolor": "white",
             "minorgridcolor": "white",
             "startlinecolor": "rgb(36,36,36)"
            },
            "type": "carpet"
           }
          ],
          "choropleth": [
           {
            "colorbar": {
             "outlinewidth": 1,
             "tickcolor": "rgb(36,36,36)",
             "ticks": "outside"
            },
            "type": "choropleth"
           }
          ],
          "contour": [
           {
            "colorbar": {
             "outlinewidth": 1,
             "tickcolor": "rgb(36,36,36)",
             "ticks": "outside"
            },
            "colorscale": [
             [
              0,
              "#440154"
             ],
             [
              0.1111111111111111,
              "#482878"
             ],
             [
              0.2222222222222222,
              "#3e4989"
             ],
             [
              0.3333333333333333,
              "#31688e"
             ],
             [
              0.4444444444444444,
              "#26828e"
             ],
             [
              0.5555555555555556,
              "#1f9e89"
             ],
             [
              0.6666666666666666,
              "#35b779"
             ],
             [
              0.7777777777777778,
              "#6ece58"
             ],
             [
              0.8888888888888888,
              "#b5de2b"
             ],
             [
              1,
              "#fde725"
             ]
            ],
            "type": "contour"
           }
          ],
          "contourcarpet": [
           {
            "colorbar": {
             "outlinewidth": 1,
             "tickcolor": "rgb(36,36,36)",
             "ticks": "outside"
            },
            "type": "contourcarpet"
           }
          ],
          "heatmap": [
           {
            "colorbar": {
             "outlinewidth": 1,
             "tickcolor": "rgb(36,36,36)",
             "ticks": "outside"
            },
            "colorscale": [
             [
              0,
              "#440154"
             ],
             [
              0.1111111111111111,
              "#482878"
             ],
             [
              0.2222222222222222,
              "#3e4989"
             ],
             [
              0.3333333333333333,
              "#31688e"
             ],
             [
              0.4444444444444444,
              "#26828e"
             ],
             [
              0.5555555555555556,
              "#1f9e89"
             ],
             [
              0.6666666666666666,
              "#35b779"
             ],
             [
              0.7777777777777778,
              "#6ece58"
             ],
             [
              0.8888888888888888,
              "#b5de2b"
             ],
             [
              1,
              "#fde725"
             ]
            ],
            "type": "heatmap"
           }
          ],
          "heatmapgl": [
           {
            "colorbar": {
             "outlinewidth": 1,
             "tickcolor": "rgb(36,36,36)",
             "ticks": "outside"
            },
            "colorscale": [
             [
              0,
              "#440154"
             ],
             [
              0.1111111111111111,
              "#482878"
             ],
             [
              0.2222222222222222,
              "#3e4989"
             ],
             [
              0.3333333333333333,
              "#31688e"
             ],
             [
              0.4444444444444444,
              "#26828e"
             ],
             [
              0.5555555555555556,
              "#1f9e89"
             ],
             [
              0.6666666666666666,
              "#35b779"
             ],
             [
              0.7777777777777778,
              "#6ece58"
             ],
             [
              0.8888888888888888,
              "#b5de2b"
             ],
             [
              1,
              "#fde725"
             ]
            ],
            "type": "heatmapgl"
           }
          ],
          "histogram": [
           {
            "marker": {
             "line": {
              "color": "white",
              "width": 0.6
             }
            },
            "type": "histogram"
           }
          ],
          "histogram2d": [
           {
            "colorbar": {
             "outlinewidth": 1,
             "tickcolor": "rgb(36,36,36)",
             "ticks": "outside"
            },
            "colorscale": [
             [
              0,
              "#440154"
             ],
             [
              0.1111111111111111,
              "#482878"
             ],
             [
              0.2222222222222222,
              "#3e4989"
             ],
             [
              0.3333333333333333,
              "#31688e"
             ],
             [
              0.4444444444444444,
              "#26828e"
             ],
             [
              0.5555555555555556,
              "#1f9e89"
             ],
             [
              0.6666666666666666,
              "#35b779"
             ],
             [
              0.7777777777777778,
              "#6ece58"
             ],
             [
              0.8888888888888888,
              "#b5de2b"
             ],
             [
              1,
              "#fde725"
             ]
            ],
            "type": "histogram2d"
           }
          ],
          "histogram2dcontour": [
           {
            "colorbar": {
             "outlinewidth": 1,
             "tickcolor": "rgb(36,36,36)",
             "ticks": "outside"
            },
            "colorscale": [
             [
              0,
              "#440154"
             ],
             [
              0.1111111111111111,
              "#482878"
             ],
             [
              0.2222222222222222,
              "#3e4989"
             ],
             [
              0.3333333333333333,
              "#31688e"
             ],
             [
              0.4444444444444444,
              "#26828e"
             ],
             [
              0.5555555555555556,
              "#1f9e89"
             ],
             [
              0.6666666666666666,
              "#35b779"
             ],
             [
              0.7777777777777778,
              "#6ece58"
             ],
             [
              0.8888888888888888,
              "#b5de2b"
             ],
             [
              1,
              "#fde725"
             ]
            ],
            "type": "histogram2dcontour"
           }
          ],
          "mesh3d": [
           {
            "colorbar": {
             "outlinewidth": 1,
             "tickcolor": "rgb(36,36,36)",
             "ticks": "outside"
            },
            "type": "mesh3d"
           }
          ],
          "parcoords": [
           {
            "line": {
             "colorbar": {
              "outlinewidth": 1,
              "tickcolor": "rgb(36,36,36)",
              "ticks": "outside"
             }
            },
            "type": "parcoords"
           }
          ],
          "pie": [
           {
            "automargin": true,
            "type": "pie"
           }
          ],
          "scatter": [
           {
            "marker": {
             "colorbar": {
              "outlinewidth": 1,
              "tickcolor": "rgb(36,36,36)",
              "ticks": "outside"
             }
            },
            "type": "scatter"
           }
          ],
          "scatter3d": [
           {
            "line": {
             "colorbar": {
              "outlinewidth": 1,
              "tickcolor": "rgb(36,36,36)",
              "ticks": "outside"
             }
            },
            "marker": {
             "colorbar": {
              "outlinewidth": 1,
              "tickcolor": "rgb(36,36,36)",
              "ticks": "outside"
             }
            },
            "type": "scatter3d"
           }
          ],
          "scattercarpet": [
           {
            "marker": {
             "colorbar": {
              "outlinewidth": 1,
              "tickcolor": "rgb(36,36,36)",
              "ticks": "outside"
             }
            },
            "type": "scattercarpet"
           }
          ],
          "scattergeo": [
           {
            "marker": {
             "colorbar": {
              "outlinewidth": 1,
              "tickcolor": "rgb(36,36,36)",
              "ticks": "outside"
             }
            },
            "type": "scattergeo"
           }
          ],
          "scattergl": [
           {
            "marker": {
             "colorbar": {
              "outlinewidth": 1,
              "tickcolor": "rgb(36,36,36)",
              "ticks": "outside"
             }
            },
            "type": "scattergl"
           }
          ],
          "scattermapbox": [
           {
            "marker": {
             "colorbar": {
              "outlinewidth": 1,
              "tickcolor": "rgb(36,36,36)",
              "ticks": "outside"
             }
            },
            "type": "scattermapbox"
           }
          ],
          "scatterpolar": [
           {
            "marker": {
             "colorbar": {
              "outlinewidth": 1,
              "tickcolor": "rgb(36,36,36)",
              "ticks": "outside"
             }
            },
            "type": "scatterpolar"
           }
          ],
          "scatterpolargl": [
           {
            "marker": {
             "colorbar": {
              "outlinewidth": 1,
              "tickcolor": "rgb(36,36,36)",
              "ticks": "outside"
             }
            },
            "type": "scatterpolargl"
           }
          ],
          "scatterternary": [
           {
            "marker": {
             "colorbar": {
              "outlinewidth": 1,
              "tickcolor": "rgb(36,36,36)",
              "ticks": "outside"
             }
            },
            "type": "scatterternary"
           }
          ],
          "surface": [
           {
            "colorbar": {
             "outlinewidth": 1,
             "tickcolor": "rgb(36,36,36)",
             "ticks": "outside"
            },
            "colorscale": [
             [
              0,
              "#440154"
             ],
             [
              0.1111111111111111,
              "#482878"
             ],
             [
              0.2222222222222222,
              "#3e4989"
             ],
             [
              0.3333333333333333,
              "#31688e"
             ],
             [
              0.4444444444444444,
              "#26828e"
             ],
             [
              0.5555555555555556,
              "#1f9e89"
             ],
             [
              0.6666666666666666,
              "#35b779"
             ],
             [
              0.7777777777777778,
              "#6ece58"
             ],
             [
              0.8888888888888888,
              "#b5de2b"
             ],
             [
              1,
              "#fde725"
             ]
            ],
            "type": "surface"
           }
          ],
          "table": [
           {
            "cells": {
             "fill": {
              "color": "rgb(237,237,237)"
             },
             "line": {
              "color": "white"
             }
            },
            "header": {
             "fill": {
              "color": "rgb(217,217,217)"
             },
             "line": {
              "color": "white"
             }
            },
            "type": "table"
           }
          ]
         },
         "layout": {
          "annotationdefaults": {
           "arrowhead": 0,
           "arrowwidth": 1
          },
          "autotypenumbers": "strict",
          "coloraxis": {
           "colorbar": {
            "outlinewidth": 1,
            "tickcolor": "rgb(36,36,36)",
            "ticks": "outside"
           }
          },
          "colorscale": {
           "diverging": [
            [
             0,
             "rgb(103,0,31)"
            ],
            [
             0.1,
             "rgb(178,24,43)"
            ],
            [
             0.2,
             "rgb(214,96,77)"
            ],
            [
             0.3,
             "rgb(244,165,130)"
            ],
            [
             0.4,
             "rgb(253,219,199)"
            ],
            [
             0.5,
             "rgb(247,247,247)"
            ],
            [
             0.6,
             "rgb(209,229,240)"
            ],
            [
             0.7,
             "rgb(146,197,222)"
            ],
            [
             0.8,
             "rgb(67,147,195)"
            ],
            [
             0.9,
             "rgb(33,102,172)"
            ],
            [
             1,
             "rgb(5,48,97)"
            ]
           ],
           "sequential": [
            [
             0,
             "#440154"
            ],
            [
             0.1111111111111111,
             "#482878"
            ],
            [
             0.2222222222222222,
             "#3e4989"
            ],
            [
             0.3333333333333333,
             "#31688e"
            ],
            [
             0.4444444444444444,
             "#26828e"
            ],
            [
             0.5555555555555556,
             "#1f9e89"
            ],
            [
             0.6666666666666666,
             "#35b779"
            ],
            [
             0.7777777777777778,
             "#6ece58"
            ],
            [
             0.8888888888888888,
             "#b5de2b"
            ],
            [
             1,
             "#fde725"
            ]
           ],
           "sequentialminus": [
            [
             0,
             "#440154"
            ],
            [
             0.1111111111111111,
             "#482878"
            ],
            [
             0.2222222222222222,
             "#3e4989"
            ],
            [
             0.3333333333333333,
             "#31688e"
            ],
            [
             0.4444444444444444,
             "#26828e"
            ],
            [
             0.5555555555555556,
             "#1f9e89"
            ],
            [
             0.6666666666666666,
             "#35b779"
            ],
            [
             0.7777777777777778,
             "#6ece58"
            ],
            [
             0.8888888888888888,
             "#b5de2b"
            ],
            [
             1,
             "#fde725"
            ]
           ]
          },
          "colorway": [
           "#1F77B4",
           "#FF7F0E",
           "#2CA02C",
           "#D62728",
           "#9467BD",
           "#8C564B",
           "#E377C2",
           "#7F7F7F",
           "#BCBD22",
           "#17BECF"
          ],
          "font": {
           "color": "rgb(36,36,36)"
          },
          "geo": {
           "bgcolor": "white",
           "lakecolor": "white",
           "landcolor": "white",
           "showlakes": true,
           "showland": true,
           "subunitcolor": "white"
          },
          "hoverlabel": {
           "align": "left"
          },
          "hovermode": "closest",
          "mapbox": {
           "style": "light"
          },
          "paper_bgcolor": "white",
          "plot_bgcolor": "white",
          "polar": {
           "angularaxis": {
            "gridcolor": "rgb(232,232,232)",
            "linecolor": "rgb(36,36,36)",
            "showgrid": false,
            "showline": true,
            "ticks": "outside"
           },
           "bgcolor": "white",
           "radialaxis": {
            "gridcolor": "rgb(232,232,232)",
            "linecolor": "rgb(36,36,36)",
            "showgrid": false,
            "showline": true,
            "ticks": "outside"
           }
          },
          "scene": {
           "xaxis": {
            "backgroundcolor": "white",
            "gridcolor": "rgb(232,232,232)",
            "gridwidth": 2,
            "linecolor": "rgb(36,36,36)",
            "showbackground": true,
            "showgrid": false,
            "showline": true,
            "ticks": "outside",
            "zeroline": false,
            "zerolinecolor": "rgb(36,36,36)"
           },
           "yaxis": {
            "backgroundcolor": "white",
            "gridcolor": "rgb(232,232,232)",
            "gridwidth": 2,
            "linecolor": "rgb(36,36,36)",
            "showbackground": true,
            "showgrid": false,
            "showline": true,
            "ticks": "outside",
            "zeroline": false,
            "zerolinecolor": "rgb(36,36,36)"
           },
           "zaxis": {
            "backgroundcolor": "white",
            "gridcolor": "rgb(232,232,232)",
            "gridwidth": 2,
            "linecolor": "rgb(36,36,36)",
            "showbackground": true,
            "showgrid": false,
            "showline": true,
            "ticks": "outside",
            "zeroline": false,
            "zerolinecolor": "rgb(36,36,36)"
           }
          },
          "shapedefaults": {
           "fillcolor": "black",
           "line": {
            "width": 0
           },
           "opacity": 0.3
          },
          "ternary": {
           "aaxis": {
            "gridcolor": "rgb(232,232,232)",
            "linecolor": "rgb(36,36,36)",
            "showgrid": false,
            "showline": true,
            "ticks": "outside"
           },
           "baxis": {
            "gridcolor": "rgb(232,232,232)",
            "linecolor": "rgb(36,36,36)",
            "showgrid": false,
            "showline": true,
            "ticks": "outside"
           },
           "bgcolor": "white",
           "caxis": {
            "gridcolor": "rgb(232,232,232)",
            "linecolor": "rgb(36,36,36)",
            "showgrid": false,
            "showline": true,
            "ticks": "outside"
           }
          },
          "title": {
           "x": 0.05
          },
          "xaxis": {
           "automargin": true,
           "gridcolor": "rgb(232,232,232)",
           "linecolor": "rgb(36,36,36)",
           "showgrid": false,
           "showline": true,
           "ticks": "outside",
           "title": {
            "standoff": 15
           },
           "zeroline": false,
           "zerolinecolor": "rgb(36,36,36)"
          },
          "yaxis": {
           "automargin": true,
           "gridcolor": "rgb(232,232,232)",
           "linecolor": "rgb(36,36,36)",
           "showgrid": false,
           "showline": true,
           "ticks": "outside",
           "title": {
            "standoff": 15
           },
           "zeroline": false,
           "zerolinecolor": "rgb(36,36,36)"
          }
         }
        },
        "width": 1100,
        "xaxis": {
         "autorange": true,
         "range": [
          1990,
          2020
         ],
         "type": "linear"
        },
        "yaxis": {
         "autorange": true,
         "range": [
          -143.9569313395508,
          2785.057205596553
         ],
         "title": {
          "text": "Annual methane emissions (kt)"
         },
         "type": "linear"
        }
       }
      },
      "image/png": "[encoded data removed]",
      "text/html": [
       "<div>                            <div id=\"9d2b1515-6930-4846-a6f1-cdfd9b442a90\" class=\"plotly-graph-div\" style=\"height:800px; width:1100px;\"></div>            <script type=\"text/javascript\">                require([\"plotly\"], function(Plotly) {                    window.PLOTLYENV=window.PLOTLYENV || {};                                    if (document.getElementById(\"9d2b1515-6930-4846-a6f1-cdfd9b442a90\")) {                    Plotly.newPlot(                        \"9d2b1515-6930-4846-a6f1-cdfd9b442a90\",                        [{\"line\":{\"color\":\"rgba(86, 119, 194, 1)\",\"width\":3.0},\"mode\":\"lines\",\"name\":\"Energy\",\"showlegend\":true,\"x\":[1990,1991,1992,1993,1994,1995,1996,1997,1998,1999,2000,2001,2002,2003,2004,2005,2006,2007,2008,2009,2010,2011,2012,2013,2014,2015,2016,2017,2018,2019,2020],\"y\":[1496.1983462542223,1516.883408936365,1498.0190221073278,1420.993629134402,1120.6366384818766,1154.9697612249531,1092.643012044412,1006.9616614713292,912.7367969569113,807.4427815336775,732.7510412730927,680.7761551836649,644.8803657089843,580.8620719123751,565.0947766334012,492.2514149879506,458.02880856156656,437.363192711352,418.9560484109065,412.077203581289,403.3849888717651,387.16040921865056,384.3696056537476,337.8477673515256,320.9530385023476,303.7735759014997,265.8575283794823,263.0576138040722,262.561350013641,253.99777680306306,235.5567635719951],\"type\":\"scatter\"},{\"line\":{\"color\":\"rgba(99, 182, 137, 1)\",\"width\":3.0},\"mode\":\"lines\",\"name\":\"Industrial processes\",\"showlegend\":true,\"x\":[1990,1991,1992,1993,1994,1995,1996,1997,1998,1999,2000,2001,2002,2003,2004,2005,2006,2007,2008,2009,2010,2011,2012,2013,2014,2015,2016,2017,2018,2019,2020],\"y\":[11.67813189145657,11.36160980813385,11.88387041847657,11.32405954677173,11.69049309850934,9.67780179490405,10.75526359948895,9.43989509575183,7.44560924166843,6.53065777540161,6.05820933187324,5.89568084392443,6.02288364723646,6.777722825887,6.20504701781005,5.37330210685488,5.44688113689817,5.80547688745611,4.52793520061458,4.86233097512174,5.0298650649369,4.5402150474156,4.91849957348071,5.21380768406689,5.07775215305834,3.35945533039012,3.70036644719674,3.26233617261481,2.49377550725442,3.3923015032616,3.23029533877434],\"type\":\"scatter\"},{\"line\":{\"color\":\"rgba(255, 0, 0, 1)\",\"width\":3.0},\"mode\":\"lines\",\"name\":\"Agriculture\",\"showlegend\":true,\"x\":[1990,1991,1992,1993,1994,1995,1996,1997,1998,1999,2000,2001,2002,2003,2004,2005,2006,2007,2008,2009,2010,2011,2012,2013,2014,2015,2016,2017,2018,2019,2020],\"y\":[1171.9864103050484,1156.9908687935445,1163.4249168568692,1160.799612443485,1166.1130760379233,1157.6764401862654,1178.983289404935,1170.7258762860035,1174.3947759593127,1168.5260279076613,1132.9012933462614,1076.4271495911817,1059.6796485124714,1069.3288372925686,1078.1619323231403,1078.7859355915027,1056.8745915195154,1050.1583898813233,1016.2434155230277,1004.7880556182862,1012.1967931522588,1006.1814293511092,1002.7906442187157,997.9124193741989,1024.2838621072613,1028.4359021631712,1024.881974580251,1028.8717416657498,1009.3187327168013,1011.1958458200606,997.7130283371592],\"type\":\"scatter\"},{\"line\":{\"color\":\"rgba(255, 255, 0, 1)\",\"width\":3.0},\"mode\":\"lines\",\"name\":\"Land use, Land-use change and forestry\",\"showlegend\":true,\"x\":[1990,1991,1992,1993,1994,1995,1996,1997,1998,1999,2000,2001,2002,2003,2004,2005,2006,2007,2008,2009,2010,2011,2012,2013,2014,2015,2016,2017,2018,2019,2020],\"y\":[189.73424941764088,189.57771646869213,189.17690324707274,189.059803013735,188.8024296983867,189.21570338571806,188.70733167929214,188.70182072501134,188.32145821880042,187.98823773031185,188.74879693161873,188.92850717453453,189.11689236811077,190.3412851671428,189.45753640942792,189.95130062483273,189.92221444195923,190.55310328236578,190.3550552868246,190.37847477119055,191.3008277934374,191.94412666018405,191.50526733151526,192.00535691463912,191.29812612932832,192.4681110736971,192.66356948552612,192.6124991580235,194.57462225647382,196.11041701692923,195.08660040160515],\"type\":\"scatter\"},{\"line\":{\"color\":\"rgba(0, 255, 255, 1)\",\"width\":3.0},\"mode\":\"lines\",\"name\":\"Waste\",\"showlegend\":true,\"x\":[1990,1991,1992,1993,1994,1995,1996,1997,1998,1999,2000,2001,2002,2003,2004,2005,2006,2007,2008,2009,2010,2011,2012,2013,2014,2015,2016,2017,2018,2019,2020],\"y\":[2513.1254495155085,2538.239370139545,2545.3778445009607,2567.616184206714,2587.989313491943,2629.3024608303126,2638.606498749748,2636.8717236954385,2593.557541925852,2484.8818355074786,2384.99328460309,2302.9351535814376,2258.7098775154777,2115.836194261204,1943.5192959035685,1839.098053773713,1724.3665224727633,1599.0106739623177,1421.1205998224432,1264.9311420801205,1077.7641826851432,993.6820964099372,934.8304277408292,819.0664888775761,730.9814576166846,705.370961498002,675.862253413592,691.0621908907202,690.8881815638263,684.7466880388861,633.8996409164893],\"type\":\"scatter\"}],                        {\"template\":{\"data\":{\"barpolar\":[{\"marker\":{\"line\":{\"color\":\"white\",\"width\":0.5},\"pattern\":{\"fillmode\":\"overlay\",\"size\":10,\"solidity\":0.2}},\"type\":\"barpolar\"}],\"bar\":[{\"error_x\":{\"color\":\"rgb(36,36,36)\"},\"error_y\":{\"color\":\"rgb(36,36,36)\"},\"marker\":{\"line\":{\"color\":\"white\",\"width\":0.5},\"pattern\":{\"fillmode\":\"overlay\",\"size\":10,\"solidity\":0.2}},\"type\":\"bar\"}],\"carpet\":[{\"aaxis\":{\"endlinecolor\":\"rgb(36,36,36)\",\"gridcolor\":\"white\",\"linecolor\":\"white\",\"minorgridcolor\":\"white\",\"startlinecolor\":\"rgb(36,36,36)\"},\"baxis\":{\"endlinecolor\":\"rgb(36,36,36)\",\"gridcolor\":\"white\",\"linecolor\":\"white\",\"minorgridcolor\":\"white\",\"startlinecolor\":\"rgb(36,36,36)\"},\"type\":\"carpet\"}],\"choropleth\":[{\"colorbar\":{\"outlinewidth\":1,\"tickcolor\":\"rgb(36,36,36)\",\"ticks\":\"outside\"},\"type\":\"choropleth\"}],\"contourcarpet\":[{\"colorbar\":{\"outlinewidth\":1,\"tickcolor\":\"rgb(36,36,36)\",\"ticks\":\"outside\"},\"type\":\"contourcarpet\"}],\"contour\":[{\"colorbar\":{\"outlinewidth\":1,\"tickcolor\":\"rgb(36,36,36)\",\"ticks\":\"outside\"},\"colorscale\":[[0.0,\"#440154\"],[0.1111111111111111,\"#482878\"],[0.2222222222222222,\"#3e4989\"],[0.3333333333333333,\"#31688e\"],[0.4444444444444444,\"#26828e\"],[0.5555555555555556,\"#1f9e89\"],[0.6666666666666666,\"#35b779\"],[0.7777777777777778,\"#6ece58\"],[0.8888888888888888,\"#b5de2b\"],[1.0,\"#fde725\"]],\"type\":\"contour\"}],\"heatmapgl\":[{\"colorbar\":{\"outlinewidth\":1,\"tickcolor\":\"rgb(36,36,36)\",\"ticks\":\"outside\"},\"colorscale\":[[0.0,\"#440154\"],[0.1111111111111111,\"#482878\"],[0.2222222222222222,\"#3e4989\"],[0.3333333333333333,\"#31688e\"],[0.4444444444444444,\"#26828e\"],[0.5555555555555556,\"#1f9e89\"],[0.6666666666666666,\"#35b779\"],[0.7777777777777778,\"#6ece58\"],[0.8888888888888888,\"#b5de2b\"],[1.0,\"#fde725\"]],\"type\":\"heatmapgl\"}],\"heatmap\":[{\"colorbar\":{\"outlinewidth\":1,\"tickcolor\":\"rgb(36,36,36)\",\"ticks\":\"outside\"},\"colorscale\":[[0.0,\"#440154\"],[0.1111111111111111,\"#482878\"],[0.2222222222222222,\"#3e4989\"],[0.3333333333333333,\"#31688e\"],[0.4444444444444444,\"#26828e\"],[0.5555555555555556,\"#1f9e89\"],[0.6666666666666666,\"#35b779\"],[0.7777777777777778,\"#6ece58\"],[0.8888888888888888,\"#b5de2b\"],[1.0,\"#fde725\"]],\"type\":\"heatmap\"}],\"histogram2dcontour\":[{\"colorbar\":{\"outlinewidth\":1,\"tickcolor\":\"rgb(36,36,36)\",\"ticks\":\"outside\"},\"colorscale\":[[0.0,\"#440154\"],[0.1111111111111111,\"#482878\"],[0.2222222222222222,\"#3e4989\"],[0.3333333333333333,\"#31688e\"],[0.4444444444444444,\"#26828e\"],[0.5555555555555556,\"#1f9e89\"],[0.6666666666666666,\"#35b779\"],[0.7777777777777778,\"#6ece58\"],[0.8888888888888888,\"#b5de2b\"],[1.0,\"#fde725\"]],\"type\":\"histogram2dcontour\"}],\"histogram2d\":[{\"colorbar\":{\"outlinewidth\":1,\"tickcolor\":\"rgb(36,36,36)\",\"ticks\":\"outside\"},\"colorscale\":[[0.0,\"#440154\"],[0.1111111111111111,\"#482878\"],[0.2222222222222222,\"#3e4989\"],[0.3333333333333333,\"#31688e\"],[0.4444444444444444,\"#26828e\"],[0.5555555555555556,\"#1f9e89\"],[0.6666666666666666,\"#35b779\"],[0.7777777777777778,\"#6ece58\"],[0.8888888888888888,\"#b5de2b\"],[1.0,\"#fde725\"]],\"type\":\"histogram2d\"}],\"histogram\":[{\"marker\":{\"line\":{\"color\":\"white\",\"width\":0.6}},\"type\":\"histogram\"}],\"mesh3d\":[{\"colorbar\":{\"outlinewidth\":1,\"tickcolor\":\"rgb(36,36,36)\",\"ticks\":\"outside\"},\"type\":\"mesh3d\"}],\"parcoords\":[{\"line\":{\"colorbar\":{\"outlinewidth\":1,\"tickcolor\":\"rgb(36,36,36)\",\"ticks\":\"outside\"}},\"type\":\"parcoords\"}],\"pie\":[{\"automargin\":true,\"type\":\"pie\"}],\"scatter3d\":[{\"line\":{\"colorbar\":{\"outlinewidth\":1,\"tickcolor\":\"rgb(36,36,36)\",\"ticks\":\"outside\"}},\"marker\":{\"colorbar\":{\"outlinewidth\":1,\"tickcolor\":\"rgb(36,36,36)\",\"ticks\":\"outside\"}},\"type\":\"scatter3d\"}],\"scattercarpet\":[{\"marker\":{\"colorbar\":{\"outlinewidth\":1,\"tickcolor\":\"rgb(36,36,36)\",\"ticks\":\"outside\"}},\"type\":\"scattercarpet\"}],\"scattergeo\":[{\"marker\":{\"colorbar\":{\"outlinewidth\":1,\"tickcolor\":\"rgb(36,36,36)\",\"ticks\":\"outside\"}},\"type\":\"scattergeo\"}],\"scattergl\":[{\"marker\":{\"colorbar\":{\"outlinewidth\":1,\"tickcolor\":\"rgb(36,36,36)\",\"ticks\":\"outside\"}},\"type\":\"scattergl\"}],\"scattermapbox\":[{\"marker\":{\"colorbar\":{\"outlinewidth\":1,\"tickcolor\":\"rgb(36,36,36)\",\"ticks\":\"outside\"}},\"type\":\"scattermapbox\"}],\"scatterpolargl\":[{\"marker\":{\"colorbar\":{\"outlinewidth\":1,\"tickcolor\":\"rgb(36,36,36)\",\"ticks\":\"outside\"}},\"type\":\"scatterpolargl\"}],\"scatterpolar\":[{\"marker\":{\"colorbar\":{\"outlinewidth\":1,\"tickcolor\":\"rgb(36,36,36)\",\"ticks\":\"outside\"}},\"type\":\"scatterpolar\"}],\"scatter\":[{\"marker\":{\"colorbar\":{\"outlinewidth\":1,\"tickcolor\":\"rgb(36,36,36)\",\"ticks\":\"outside\"}},\"type\":\"scatter\"}],\"scatterternary\":[{\"marker\":{\"colorbar\":{\"outlinewidth\":1,\"tickcolor\":\"rgb(36,36,36)\",\"ticks\":\"outside\"}},\"type\":\"scatterternary\"}],\"surface\":[{\"colorbar\":{\"outlinewidth\":1,\"tickcolor\":\"rgb(36,36,36)\",\"ticks\":\"outside\"},\"colorscale\":[[0.0,\"#440154\"],[0.1111111111111111,\"#482878\"],[0.2222222222222222,\"#3e4989\"],[0.3333333333333333,\"#31688e\"],[0.4444444444444444,\"#26828e\"],[0.5555555555555556,\"#1f9e89\"],[0.6666666666666666,\"#35b779\"],[0.7777777777777778,\"#6ece58\"],[0.8888888888888888,\"#b5de2b\"],[1.0,\"#fde725\"]],\"type\":\"surface\"}],\"table\":[{\"cells\":{\"fill\":{\"color\":\"rgb(237,237,237)\"},\"line\":{\"color\":\"white\"}},\"header\":{\"fill\":{\"color\":\"rgb(217,217,217)\"},\"line\":{\"color\":\"white\"}},\"type\":\"table\"}]},\"layout\":{\"annotationdefaults\":{\"arrowhead\":0,\"arrowwidth\":1},\"autotypenumbers\":\"strict\",\"coloraxis\":{\"colorbar\":{\"outlinewidth\":1,\"tickcolor\":\"rgb(36,36,36)\",\"ticks\":\"outside\"}},\"colorscale\":{\"diverging\":[[0.0,\"rgb(103,0,31)\"],[0.1,\"rgb(178,24,43)\"],[0.2,\"rgb(214,96,77)\"],[0.3,\"rgb(244,165,130)\"],[0.4,\"rgb(253,219,199)\"],[0.5,\"rgb(247,247,247)\"],[0.6,\"rgb(209,229,240)\"],[0.7,\"rgb(146,197,222)\"],[0.8,\"rgb(67,147,195)\"],[0.9,\"rgb(33,102,172)\"],[1.0,\"rgb(5,48,97)\"]],\"sequential\":[[0.0,\"#440154\"],[0.1111111111111111,\"#482878\"],[0.2222222222222222,\"#3e4989\"],[0.3333333333333333,\"#31688e\"],[0.4444444444444444,\"#26828e\"],[0.5555555555555556,\"#1f9e89\"],[0.6666666666666666,\"#35b779\"],[0.7777777777777778,\"#6ece58\"],[0.8888888888888888,\"#b5de2b\"],[1.0,\"#fde725\"]],\"sequentialminus\":[[0.0,\"#440154\"],[0.1111111111111111,\"#482878\"],[0.2222222222222222,\"#3e4989\"],[0.3333333333333333,\"#31688e\"],[0.4444444444444444,\"#26828e\"],[0.5555555555555556,\"#1f9e89\"],[0.6666666666666666,\"#35b779\"],[0.7777777777777778,\"#6ece58\"],[0.8888888888888888,\"#b5de2b\"],[1.0,\"#fde725\"]]},\"colorway\":[\"#1F77B4\",\"#FF7F0E\",\"#2CA02C\",\"#D62728\",\"#9467BD\",\"#8C564B\",\"#E377C2\",\"#7F7F7F\",\"#BCBD22\",\"#17BECF\"],\"font\":{\"color\":\"rgb(36,36,36)\"},\"geo\":{\"bgcolor\":\"white\",\"lakecolor\":\"white\",\"landcolor\":\"white\",\"showlakes\":true,\"showland\":true,\"subunitcolor\":\"white\"},\"hoverlabel\":{\"align\":\"left\"},\"hovermode\":\"closest\",\"mapbox\":{\"style\":\"light\"},\"paper_bgcolor\":\"white\",\"plot_bgcolor\":\"white\",\"polar\":{\"angularaxis\":{\"gridcolor\":\"rgb(232,232,232)\",\"linecolor\":\"rgb(36,36,36)\",\"showgrid\":false,\"showline\":true,\"ticks\":\"outside\"},\"bgcolor\":\"white\",\"radialaxis\":{\"gridcolor\":\"rgb(232,232,232)\",\"linecolor\":\"rgb(36,36,36)\",\"showgrid\":false,\"showline\":true,\"ticks\":\"outside\"}},\"scene\":{\"xaxis\":{\"backgroundcolor\":\"white\",\"gridcolor\":\"rgb(232,232,232)\",\"gridwidth\":2,\"linecolor\":\"rgb(36,36,36)\",\"showbackground\":true,\"showgrid\":false,\"showline\":true,\"ticks\":\"outside\",\"zeroline\":false,\"zerolinecolor\":\"rgb(36,36,36)\"},\"yaxis\":{\"backgroundcolor\":\"white\",\"gridcolor\":\"rgb(232,232,232)\",\"gridwidth\":2,\"linecolor\":\"rgb(36,36,36)\",\"showbackground\":true,\"showgrid\":false,\"showline\":true,\"ticks\":\"outside\",\"zeroline\":false,\"zerolinecolor\":\"rgb(36,36,36)\"},\"zaxis\":{\"backgroundcolor\":\"white\",\"gridcolor\":\"rgb(232,232,232)\",\"gridwidth\":2,\"linecolor\":\"rgb(36,36,36)\",\"showbackground\":true,\"showgrid\":false,\"showline\":true,\"ticks\":\"outside\",\"zeroline\":false,\"zerolinecolor\":\"rgb(36,36,36)\"}},\"shapedefaults\":{\"fillcolor\":\"black\",\"line\":{\"width\":0},\"opacity\":0.3},\"ternary\":{\"aaxis\":{\"gridcolor\":\"rgb(232,232,232)\",\"linecolor\":\"rgb(36,36,36)\",\"showgrid\":false,\"showline\":true,\"ticks\":\"outside\"},\"baxis\":{\"gridcolor\":\"rgb(232,232,232)\",\"linecolor\":\"rgb(36,36,36)\",\"showgrid\":false,\"showline\":true,\"ticks\":\"outside\"},\"bgcolor\":\"white\",\"caxis\":{\"gridcolor\":\"rgb(232,232,232)\",\"linecolor\":\"rgb(36,36,36)\",\"showgrid\":false,\"showline\":true,\"ticks\":\"outside\"}},\"title\":{\"x\":0.05},\"xaxis\":{\"automargin\":true,\"gridcolor\":\"rgb(232,232,232)\",\"linecolor\":\"rgb(36,36,36)\",\"showgrid\":false,\"showline\":true,\"ticks\":\"outside\",\"title\":{\"standoff\":15},\"zeroline\":false,\"zerolinecolor\":\"rgb(36,36,36)\"},\"yaxis\":{\"automargin\":true,\"gridcolor\":\"rgb(232,232,232)\",\"linecolor\":\"rgb(36,36,36)\",\"showgrid\":false,\"showline\":true,\"ticks\":\"outside\",\"title\":{\"standoff\":15},\"zeroline\":false,\"zerolinecolor\":\"rgb(36,36,36)\"}}},\"legend\":{\"yanchor\":\"top\",\"y\":0.99,\"xanchor\":\"right\",\"x\":0.99,\"traceorder\":\"normal\"},\"margin\":{\"l\":55,\"r\":10,\"t\":10,\"b\":40},\"yaxis\":{\"title\":{\"text\":\"Annual methane emissions (kt)\"}},\"autosize\":false,\"width\":1100,\"height\":800,\"font\":{\"size\":20,\"family\":\"Arial\"}},                        {\"responsive\": true}                    ).then(function(){\n",
       "                            \n",
       "var gd = document.getElementById('9d2b1515-6930-4846-a6f1-cdfd9b442a90');\n",
       "var x = new MutationObserver(function (mutations, observer) {{\n",
       "        var display = window.getComputedStyle(gd).display;\n",
       "        if (!display || display === 'none') {{\n",
       "            console.log([gd, 'removed!']);\n",
       "            Plotly.purge(gd);\n",
       "            observer.disconnect();\n",
       "        }}\n",
       "}});\n",
       "\n",
       "// Listen for the removal of the full notebook cells\n",
       "var notebookContainer = gd.closest('#notebook-container');\n",
       "if (notebookContainer) {{\n",
       "    x.observe(notebookContainer, {childList: true});\n",
       "}}\n",
       "\n",
       "// Listen for the clearing of the current output cell\n",
       "var outputEl = gd.closest('.output');\n",
       "if (outputEl) {{\n",
       "    x.observe(outputEl, {childList: true});\n",
       "}}\n",
       "\n",
       "                        })                };                });            </script>        </div>"
      ]
     },
     "metadata": {},
     "output_type": "display_data"
    }
   ],
   "source": [
    "fig = go.Figure()\n",
    "\n",
    "alpha = 0.6\n",
    "color_1 = [\"rgba(86, 119, 194, 1)\", f\"rgba(86, 119, 194, {alpha})\"]\n",
    "color_2 = [\"rgba(99, 182, 137, 1)\", f\"rgba(99, 182, 137, {alpha})\"]\n",
    "color_3 = [\"rgba(255, 0, 0, 1)\", f\"rgba(255, 0, 0, {alpha})\"]\n",
    "color_4 = [\"rgba(255, 255, 0, 1)\", f\"rgba(255, 255, 0, {alpha})\"]\n",
    "color_5 = [\"rgba(0, 255, 255, 1)\", f\"rgba(0, 255, 255, {alpha})\"]\n",
    "\n",
    "date_range = [1990, 1991, 1992, 1993, 1994, 1995, 1996, 1997, 1998, 1999, 2000, 2001, 2002, 2003,2004, 2005, 2006, 2007, 2008, 2009, 2010, 2011, 2012, 2013, 2014, 2015, 2016, 2017, 2018, 2019, 2020]\n",
    "#date_range = [\"2019-03-01\", \"2019-06-01\"]\n",
    "\n",
    "fig.add_trace(go.Scatter(\n",
    "    x=date_range,\n",
    "    y=dfCH4.loc[\"1. Energy\"],\n",
    "    mode='lines',\n",
    "    line=dict(color=color_1[0], width=3.),\n",
    "    showlegend=True,\n",
    "    name=\"Energy\",\n",
    "    ))\n",
    "\n",
    "fig.add_trace(go.Scatter(\n",
    "    x=date_range,\n",
    "    y=dfCH4.loc[\"2.  Industrial processes\"],\n",
    "    mode='lines',\n",
    "    line=dict(color=color_2[0], width=3.),\n",
    "    showlegend=True,\n",
    "    name=\"Industrial processes\",\n",
    "    ))\n",
    "\n",
    "fig.add_trace(go.Scatter(\n",
    "    x=date_range,\n",
    "    y=dfCH4.loc[\"3.  Agriculture\"],\n",
    "    mode='lines',\n",
    "    line=dict(color=color_3[0], width=3.),\n",
    "    showlegend=True,\n",
    "    name=\"Agriculture\",\n",
    "    ))\n",
    "\n",
    "fig.add_trace(go.Scatter(\n",
    "    x=date_range,\n",
    "    y=dfCH4.loc[\"4. Land use, land-use change and forestry\"],\n",
    "    mode='lines',\n",
    "    line=dict(color=color_4[0], width=3.),\n",
    "    showlegend=True,\n",
    "    name=\"Land use, Land-use change and forestry\",\n",
    "    ))\n",
    "\n",
    "fig.add_trace(go.Scatter(\n",
    "    x=date_range,\n",
    "    y=dfCH4.loc[\"5.  Waste\"],\n",
    "    mode='lines',\n",
    "    line=dict(color=color_5[0], width=3.),\n",
    "    showlegend=True,\n",
    "    name=\"Waste\",\n",
    "    ))\n",
    "\n",
    "fig.update_layout(\n",
    "    yaxis_title=\"Annual methane emissions (kt)\",\n",
    "    template=\"simple_white\",\n",
    "    autosize=False,\n",
    "    width=550*2,\n",
    "    height=400*2,\n",
    "    legend=dict(\n",
    "        yanchor=\"top\",\n",
    "        y=0.99,\n",
    "        xanchor=\"right\",\n",
    "        x=0.99,\n",
    "        traceorder=\"normal\"),\n",
    "    margin=dict(l=55, r=10, t=10, b=40),\n",
    "    # paper_bgcolor='rgba(0,0,0,0)',\n",
    "    # plot_bgcolor='rgba(0,0,0,0)'\n",
    ")\n",
    "\n",
    "\n",
    "fig.layout.font.size=20\n",
    "fig.layout.font.family=\"Arial\"\n",
    "\n",
    "fig.write_image(\"Annual_methane_emissions_by_sector.png\")\n",
    "\n",
    "fig.show()"
   ]
  },
  {
   "cell_type": "markdown",
   "id": "47284b90-25cb-410b-89fe-5ced32808f60",
   "metadata": {},
   "source": [
    "Methane emissions by sector 2020"
   ]
  },
  {
   "cell_type": "code",
   "execution_count": 57,
   "id": "9fdb659b-f0ed-4960-b93f-18da63ec1248",
   "metadata": {},
   "outputs": [
    {
     "data": {
      "text/plain": [
       "GREENHOUSE GAS SOURCE AND SINK CATEGORIES\n",
       "1. Energy                                                              235.556764\n",
       "A. Fuel combustion (sectoral approach)                                  48.218358\n",
       "1.  Energy industries                                                   15.282000\n",
       "2.  Manufacturing industries and construction                            5.366701\n",
       "3.  Transport                                                            3.068721\n",
       "4.  Other sectors                                                       24.463595\n",
       "5.  Other                                                                0.037341\n",
       "B. Fugitive emissions from fuels                                       187.338406\n",
       "1.  Solid fuels                                                         18.988060\n",
       "2.  Oil and natural gas and other emissions from energy production     168.350346\n",
       "2.  Industrial processes                                                 3.230295\n",
       "B.  Chemical industry                                                    2.688221\n",
       "C.  Metal industry                                                       0.437219\n",
       "H.  Other                                                                0.104856\n",
       "3.  Agriculture                                                        997.713028\n",
       "A.  Enteric fermentation                                               837.503956\n",
       "B.  Manure management                                                  152.480354\n",
       "J.  Other                                                                7.728718\n",
       "4. Land use, land-use change and forestry                              195.086600\n",
       "A.  Forest land                                                          4.125152\n",
       "B.  Cropland                                                            11.173329\n",
       "C.  Grassland                                                           96.835866\n",
       "D.  Wetlands                                                            81.744694\n",
       "E.  Settlements                                                          0.630855\n",
       "H.  Other                                                                0.576705\n",
       "5.  Waste                                                              633.899641\n",
       "A.  Solid waste disposal                                               516.485622\n",
       "B.  Biological treatment of solid waste                                 48.671595\n",
       "C.  Incineration and open burning of waste                               0.295563\n",
       "D.  Waste water treatment and discharge                                 68.446861\n",
       "Total CH4 emissions without CH4 from LULUCF                           1870.399728\n",
       "Total CH4 emissions with CH4 from LULUCF                              2065.486329\n",
       "International bunkers                                                    0.166332\n",
       "Aviation                                                                 0.046717\n",
       "Navigation                                                               0.119615\n",
       "Name: 2020, dtype: float64"
      ]
     },
     "execution_count": 57,
     "metadata": {},
     "output_type": "execute_result"
    }
   ],
   "source": [
    "dfCH4_2020 = dfCH4[\"2020\"]\n",
    "dfCH4_2020_C = pd.to_numeric(dfCH4_2020, errors = 'coerce')\n",
    "dfCH4_2020_C.dropna(inplace=True)\n",
    "dfCH4_2020_C"
   ]
  },
  {
   "cell_type": "code",
   "execution_count": 66,
   "id": "e0c96614-0568-48be-afd9-e90d4573ca44",
   "metadata": {},
   "outputs": [
    {
     "data": {
      "application/vnd.plotly.v1+json": {
       "config": {
        "plotlyServerURL": "https://plot.ly"
       },
       "data": [
        {
         "domain": {
          "x": [
           0,
           1
          ],
          "y": [
           0,
           1
          ]
         },
         "hovertemplate": "2020=%{value}<extra></extra>",
         "labels": [
          235.5567635719951,
          48.21835796997661,
          15.28199999857051,
          5.36670083501293,
          3.06872133099357,
          24.46359478181413,
          0.03734102358547,
          187.3384056020185,
          18.98805996461727,
          168.35034563740123,
          3.23029533877434,
          2.68822082035353,
          0.43721851255269,
          0.10485600586812,
          997.7130283371592,
          837.5039556736563,
          152.4803544243663,
          7.72871823913665,
          195.08660040160515,
          4.12515177612438,
          11.17332878919667,
          96.83586632805095,
          81.74469428360385,
          0.63085458781164,
          0.57670463681765,
          633.8996409164893,
          516.4856223314483,
          48.67159491868484,
          0.29556294604104,
          68.44686072031509,
          1870.399728164418,
          2065.486328566023,
          0.16633248024059,
          0.04671701387725,
          0.11961546636334
         ],
         "legendgroup": "",
         "name": "",
         "showlegend": true,
         "type": "pie",
         "values": [
          235.5567635719951,
          48.21835796997661,
          15.28199999857051,
          5.36670083501293,
          3.06872133099357,
          24.46359478181413,
          0.03734102358547,
          187.3384056020185,
          18.98805996461727,
          168.35034563740123,
          3.23029533877434,
          2.68822082035353,
          0.43721851255269,
          0.10485600586812,
          997.7130283371592,
          837.5039556736563,
          152.4803544243663,
          7.72871823913665,
          195.08660040160515,
          4.12515177612438,
          11.17332878919667,
          96.83586632805095,
          81.74469428360385,
          0.63085458781164,
          0.57670463681765,
          633.8996409164893,
          516.4856223314483,
          48.67159491868484,
          0.29556294604104,
          68.44686072031509,
          1870.399728164418,
          2065.486328566023,
          0.16633248024059,
          0.04671701387725,
          0.11961546636334
         ]
        }
       ],
       "layout": {
        "autosize": true,
        "legend": {
         "tracegroupgap": 0
        },
        "template": {
         "data": {
          "bar": [
           {
            "error_x": {
             "color": "#2a3f5f"
            },
            "error_y": {
             "color": "#2a3f5f"
            },
            "marker": {
             "line": {
              "color": "#E5ECF6",
              "width": 0.5
             },
             "pattern": {
              "fillmode": "overlay",
              "size": 10,
              "solidity": 0.2
             }
            },
            "type": "bar"
           }
          ],
          "barpolar": [
           {
            "marker": {
             "line": {
              "color": "#E5ECF6",
              "width": 0.5
             },
             "pattern": {
              "fillmode": "overlay",
              "size": 10,
              "solidity": 0.2
             }
            },
            "type": "barpolar"
           }
          ],
          "carpet": [
           {
            "aaxis": {
             "endlinecolor": "#2a3f5f",
             "gridcolor": "white",
             "linecolor": "white",
             "minorgridcolor": "white",
             "startlinecolor": "#2a3f5f"
            },
            "baxis": {
             "endlinecolor": "#2a3f5f",
             "gridcolor": "white",
             "linecolor": "white",
             "minorgridcolor": "white",
             "startlinecolor": "#2a3f5f"
            },
            "type": "carpet"
           }
          ],
          "choropleth": [
           {
            "colorbar": {
             "outlinewidth": 0,
             "ticks": ""
            },
            "type": "choropleth"
           }
          ],
          "contour": [
           {
            "colorbar": {
             "outlinewidth": 0,
             "ticks": ""
            },
            "colorscale": [
             [
              0,
              "#0d0887"
             ],
             [
              0.1111111111111111,
              "#46039f"
             ],
             [
              0.2222222222222222,
              "#7201a8"
             ],
             [
              0.3333333333333333,
              "#9c179e"
             ],
             [
              0.4444444444444444,
              "#bd3786"
             ],
             [
              0.5555555555555556,
              "#d8576b"
             ],
             [
              0.6666666666666666,
              "#ed7953"
             ],
             [
              0.7777777777777778,
              "#fb9f3a"
             ],
             [
              0.8888888888888888,
              "#fdca26"
             ],
             [
              1,
              "#f0f921"
             ]
            ],
            "type": "contour"
           }
          ],
          "contourcarpet": [
           {
            "colorbar": {
             "outlinewidth": 0,
             "ticks": ""
            },
            "type": "contourcarpet"
           }
          ],
          "heatmap": [
           {
            "colorbar": {
             "outlinewidth": 0,
             "ticks": ""
            },
            "colorscale": [
             [
              0,
              "#0d0887"
             ],
             [
              0.1111111111111111,
              "#46039f"
             ],
             [
              0.2222222222222222,
              "#7201a8"
             ],
             [
              0.3333333333333333,
              "#9c179e"
             ],
             [
              0.4444444444444444,
              "#bd3786"
             ],
             [
              0.5555555555555556,
              "#d8576b"
             ],
             [
              0.6666666666666666,
              "#ed7953"
             ],
             [
              0.7777777777777778,
              "#fb9f3a"
             ],
             [
              0.8888888888888888,
              "#fdca26"
             ],
             [
              1,
              "#f0f921"
             ]
            ],
            "type": "heatmap"
           }
          ],
          "heatmapgl": [
           {
            "colorbar": {
             "outlinewidth": 0,
             "ticks": ""
            },
            "colorscale": [
             [
              0,
              "#0d0887"
             ],
             [
              0.1111111111111111,
              "#46039f"
             ],
             [
              0.2222222222222222,
              "#7201a8"
             ],
             [
              0.3333333333333333,
              "#9c179e"
             ],
             [
              0.4444444444444444,
              "#bd3786"
             ],
             [
              0.5555555555555556,
              "#d8576b"
             ],
             [
              0.6666666666666666,
              "#ed7953"
             ],
             [
              0.7777777777777778,
              "#fb9f3a"
             ],
             [
              0.8888888888888888,
              "#fdca26"
             ],
             [
              1,
              "#f0f921"
             ]
            ],
            "type": "heatmapgl"
           }
          ],
          "histogram": [
           {
            "marker": {
             "pattern": {
              "fillmode": "overlay",
              "size": 10,
              "solidity": 0.2
             }
            },
            "type": "histogram"
           }
          ],
          "histogram2d": [
           {
            "colorbar": {
             "outlinewidth": 0,
             "ticks": ""
            },
            "colorscale": [
             [
              0,
              "#0d0887"
             ],
             [
              0.1111111111111111,
              "#46039f"
             ],
             [
              0.2222222222222222,
              "#7201a8"
             ],
             [
              0.3333333333333333,
              "#9c179e"
             ],
             [
              0.4444444444444444,
              "#bd3786"
             ],
             [
              0.5555555555555556,
              "#d8576b"
             ],
             [
              0.6666666666666666,
              "#ed7953"
             ],
             [
              0.7777777777777778,
              "#fb9f3a"
             ],
             [
              0.8888888888888888,
              "#fdca26"
             ],
             [
              1,
              "#f0f921"
             ]
            ],
            "type": "histogram2d"
           }
          ],
          "histogram2dcontour": [
           {
            "colorbar": {
             "outlinewidth": 0,
             "ticks": ""
            },
            "colorscale": [
             [
              0,
              "#0d0887"
             ],
             [
              0.1111111111111111,
              "#46039f"
             ],
             [
              0.2222222222222222,
              "#7201a8"
             ],
             [
              0.3333333333333333,
              "#9c179e"
             ],
             [
              0.4444444444444444,
              "#bd3786"
             ],
             [
              0.5555555555555556,
              "#d8576b"
             ],
             [
              0.6666666666666666,
              "#ed7953"
             ],
             [
              0.7777777777777778,
              "#fb9f3a"
             ],
             [
              0.8888888888888888,
              "#fdca26"
             ],
             [
              1,
              "#f0f921"
             ]
            ],
            "type": "histogram2dcontour"
           }
          ],
          "mesh3d": [
           {
            "colorbar": {
             "outlinewidth": 0,
             "ticks": ""
            },
            "type": "mesh3d"
           }
          ],
          "parcoords": [
           {
            "line": {
             "colorbar": {
              "outlinewidth": 0,
              "ticks": ""
             }
            },
            "type": "parcoords"
           }
          ],
          "pie": [
           {
            "automargin": true,
            "type": "pie"
           }
          ],
          "scatter": [
           {
            "marker": {
             "colorbar": {
              "outlinewidth": 0,
              "ticks": ""
             }
            },
            "type": "scatter"
           }
          ],
          "scatter3d": [
           {
            "line": {
             "colorbar": {
              "outlinewidth": 0,
              "ticks": ""
             }
            },
            "marker": {
             "colorbar": {
              "outlinewidth": 0,
              "ticks": ""
             }
            },
            "type": "scatter3d"
           }
          ],
          "scattercarpet": [
           {
            "marker": {
             "colorbar": {
              "outlinewidth": 0,
              "ticks": ""
             }
            },
            "type": "scattercarpet"
           }
          ],
          "scattergeo": [
           {
            "marker": {
             "colorbar": {
              "outlinewidth": 0,
              "ticks": ""
             }
            },
            "type": "scattergeo"
           }
          ],
          "scattergl": [
           {
            "marker": {
             "colorbar": {
              "outlinewidth": 0,
              "ticks": ""
             }
            },
            "type": "scattergl"
           }
          ],
          "scattermapbox": [
           {
            "marker": {
             "colorbar": {
              "outlinewidth": 0,
              "ticks": ""
             }
            },
            "type": "scattermapbox"
           }
          ],
          "scatterpolar": [
           {
            "marker": {
             "colorbar": {
              "outlinewidth": 0,
              "ticks": ""
             }
            },
            "type": "scatterpolar"
           }
          ],
          "scatterpolargl": [
           {
            "marker": {
             "colorbar": {
              "outlinewidth": 0,
              "ticks": ""
             }
            },
            "type": "scatterpolargl"
           }
          ],
          "scatterternary": [
           {
            "marker": {
             "colorbar": {
              "outlinewidth": 0,
              "ticks": ""
             }
            },
            "type": "scatterternary"
           }
          ],
          "surface": [
           {
            "colorbar": {
             "outlinewidth": 0,
             "ticks": ""
            },
            "colorscale": [
             [
              0,
              "#0d0887"
             ],
             [
              0.1111111111111111,
              "#46039f"
             ],
             [
              0.2222222222222222,
              "#7201a8"
             ],
             [
              0.3333333333333333,
              "#9c179e"
             ],
             [
              0.4444444444444444,
              "#bd3786"
             ],
             [
              0.5555555555555556,
              "#d8576b"
             ],
             [
              0.6666666666666666,
              "#ed7953"
             ],
             [
              0.7777777777777778,
              "#fb9f3a"
             ],
             [
              0.8888888888888888,
              "#fdca26"
             ],
             [
              1,
              "#f0f921"
             ]
            ],
            "type": "surface"
           }
          ],
          "table": [
           {
            "cells": {
             "fill": {
              "color": "#EBF0F8"
             },
             "line": {
              "color": "white"
             }
            },
            "header": {
             "fill": {
              "color": "#C8D4E3"
             },
             "line": {
              "color": "white"
             }
            },
            "type": "table"
           }
          ]
         },
         "layout": {
          "annotationdefaults": {
           "arrowcolor": "#2a3f5f",
           "arrowhead": 0,
           "arrowwidth": 1
          },
          "autotypenumbers": "strict",
          "coloraxis": {
           "colorbar": {
            "outlinewidth": 0,
            "ticks": ""
           }
          },
          "colorscale": {
           "diverging": [
            [
             0,
             "#8e0152"
            ],
            [
             0.1,
             "#c51b7d"
            ],
            [
             0.2,
             "#de77ae"
            ],
            [
             0.3,
             "#f1b6da"
            ],
            [
             0.4,
             "#fde0ef"
            ],
            [
             0.5,
             "#f7f7f7"
            ],
            [
             0.6,
             "#e6f5d0"
            ],
            [
             0.7,
             "#b8e186"
            ],
            [
             0.8,
             "#7fbc41"
            ],
            [
             0.9,
             "#4d9221"
            ],
            [
             1,
             "#276419"
            ]
           ],
           "sequential": [
            [
             0,
             "#0d0887"
            ],
            [
             0.1111111111111111,
             "#46039f"
            ],
            [
             0.2222222222222222,
             "#7201a8"
            ],
            [
             0.3333333333333333,
             "#9c179e"
            ],
            [
             0.4444444444444444,
             "#bd3786"
            ],
            [
             0.5555555555555556,
             "#d8576b"
            ],
            [
             0.6666666666666666,
             "#ed7953"
            ],
            [
             0.7777777777777778,
             "#fb9f3a"
            ],
            [
             0.8888888888888888,
             "#fdca26"
            ],
            [
             1,
             "#f0f921"
            ]
           ],
           "sequentialminus": [
            [
             0,
             "#0d0887"
            ],
            [
             0.1111111111111111,
             "#46039f"
            ],
            [
             0.2222222222222222,
             "#7201a8"
            ],
            [
             0.3333333333333333,
             "#9c179e"
            ],
            [
             0.4444444444444444,
             "#bd3786"
            ],
            [
             0.5555555555555556,
             "#d8576b"
            ],
            [
             0.6666666666666666,
             "#ed7953"
            ],
            [
             0.7777777777777778,
             "#fb9f3a"
            ],
            [
             0.8888888888888888,
             "#fdca26"
            ],
            [
             1,
             "#f0f921"
            ]
           ]
          },
          "colorway": [
           "#636efa",
           "#EF553B",
           "#00cc96",
           "#ab63fa",
           "#FFA15A",
           "#19d3f3",
           "#FF6692",
           "#B6E880",
           "#FF97FF",
           "#FECB52"
          ],
          "font": {
           "color": "#2a3f5f"
          },
          "geo": {
           "bgcolor": "white",
           "lakecolor": "white",
           "landcolor": "#E5ECF6",
           "showlakes": true,
           "showland": true,
           "subunitcolor": "white"
          },
          "hoverlabel": {
           "align": "left"
          },
          "hovermode": "closest",
          "mapbox": {
           "style": "light"
          },
          "paper_bgcolor": "white",
          "plot_bgcolor": "#E5ECF6",
          "polar": {
           "angularaxis": {
            "gridcolor": "white",
            "linecolor": "white",
            "ticks": ""
           },
           "bgcolor": "#E5ECF6",
           "radialaxis": {
            "gridcolor": "white",
            "linecolor": "white",
            "ticks": ""
           }
          },
          "scene": {
           "xaxis": {
            "backgroundcolor": "#E5ECF6",
            "gridcolor": "white",
            "gridwidth": 2,
            "linecolor": "white",
            "showbackground": true,
            "ticks": "",
            "zerolinecolor": "white"
           },
           "yaxis": {
            "backgroundcolor": "#E5ECF6",
            "gridcolor": "white",
            "gridwidth": 2,
            "linecolor": "white",
            "showbackground": true,
            "ticks": "",
            "zerolinecolor": "white"
           },
           "zaxis": {
            "backgroundcolor": "#E5ECF6",
            "gridcolor": "white",
            "gridwidth": 2,
            "linecolor": "white",
            "showbackground": true,
            "ticks": "",
            "zerolinecolor": "white"
           }
          },
          "shapedefaults": {
           "line": {
            "color": "#2a3f5f"
           }
          },
          "ternary": {
           "aaxis": {
            "gridcolor": "white",
            "linecolor": "white",
            "ticks": ""
           },
           "baxis": {
            "gridcolor": "white",
            "linecolor": "white",
            "ticks": ""
           },
           "bgcolor": "#E5ECF6",
           "caxis": {
            "gridcolor": "white",
            "linecolor": "white",
            "ticks": ""
           }
          },
          "title": {
           "x": 0.05
          },
          "xaxis": {
           "automargin": true,
           "gridcolor": "white",
           "linecolor": "white",
           "ticks": "",
           "title": {
            "standoff": 15
           },
           "zerolinecolor": "white",
           "zerolinewidth": 2
          },
          "yaxis": {
           "automargin": true,
           "gridcolor": "white",
           "linecolor": "white",
           "ticks": "",
           "title": {
            "standoff": 15
           },
           "zerolinecolor": "white",
           "zerolinewidth": 2
          }
         }
        },
        "title": {
         "text": "Test"
        }
       }
      },
      "image/png": "[encoded data removed]",
      "text/html": [
       "<div>                            <div id=\"ed933b27-3986-4c52-b11f-175be0874442\" class=\"plotly-graph-div\" style=\"height:525px; width:100%;\"></div>            <script type=\"text/javascript\">                require([\"plotly\"], function(Plotly) {                    window.PLOTLYENV=window.PLOTLYENV || {};                                    if (document.getElementById(\"ed933b27-3986-4c52-b11f-175be0874442\")) {                    Plotly.newPlot(                        \"ed933b27-3986-4c52-b11f-175be0874442\",                        [{\"domain\":{\"x\":[0.0,1.0],\"y\":[0.0,1.0]},\"hovertemplate\":\"2020=%{value}<extra></extra>\",\"labels\":[235.5567635719951,48.21835796997661,15.28199999857051,5.36670083501293,3.06872133099357,24.46359478181413,0.03734102358547,187.3384056020185,18.98805996461727,168.35034563740123,3.23029533877434,2.68822082035353,0.43721851255269,0.10485600586812,997.7130283371592,837.5039556736563,152.4803544243663,7.72871823913665,195.08660040160515,4.12515177612438,11.17332878919667,96.83586632805095,81.74469428360385,0.63085458781164,0.57670463681765,633.8996409164893,516.4856223314483,48.67159491868484,0.29556294604104,68.44686072031509,1870.399728164418,2065.486328566023,0.16633248024059,0.04671701387725,0.11961546636334],\"legendgroup\":\"\",\"name\":\"\",\"showlegend\":true,\"values\":[235.5567635719951,48.21835796997661,15.28199999857051,5.36670083501293,3.06872133099357,24.46359478181413,0.03734102358547,187.3384056020185,18.98805996461727,168.35034563740123,3.23029533877434,2.68822082035353,0.43721851255269,0.10485600586812,997.7130283371592,837.5039556736563,152.4803544243663,7.72871823913665,195.08660040160515,4.12515177612438,11.17332878919667,96.83586632805095,81.74469428360385,0.63085458781164,0.57670463681765,633.8996409164893,516.4856223314483,48.67159491868484,0.29556294604104,68.44686072031509,1870.399728164418,2065.486328566023,0.16633248024059,0.04671701387725,0.11961546636334],\"type\":\"pie\"}],                        {\"template\":{\"data\":{\"bar\":[{\"error_x\":{\"color\":\"#2a3f5f\"},\"error_y\":{\"color\":\"#2a3f5f\"},\"marker\":{\"line\":{\"color\":\"#E5ECF6\",\"width\":0.5},\"pattern\":{\"fillmode\":\"overlay\",\"size\":10,\"solidity\":0.2}},\"type\":\"bar\"}],\"barpolar\":[{\"marker\":{\"line\":{\"color\":\"#E5ECF6\",\"width\":0.5},\"pattern\":{\"fillmode\":\"overlay\",\"size\":10,\"solidity\":0.2}},\"type\":\"barpolar\"}],\"carpet\":[{\"aaxis\":{\"endlinecolor\":\"#2a3f5f\",\"gridcolor\":\"white\",\"linecolor\":\"white\",\"minorgridcolor\":\"white\",\"startlinecolor\":\"#2a3f5f\"},\"baxis\":{\"endlinecolor\":\"#2a3f5f\",\"gridcolor\":\"white\",\"linecolor\":\"white\",\"minorgridcolor\":\"white\",\"startlinecolor\":\"#2a3f5f\"},\"type\":\"carpet\"}],\"choropleth\":[{\"colorbar\":{\"outlinewidth\":0,\"ticks\":\"\"},\"type\":\"choropleth\"}],\"contour\":[{\"colorbar\":{\"outlinewidth\":0,\"ticks\":\"\"},\"colorscale\":[[0.0,\"#0d0887\"],[0.1111111111111111,\"#46039f\"],[0.2222222222222222,\"#7201a8\"],[0.3333333333333333,\"#9c179e\"],[0.4444444444444444,\"#bd3786\"],[0.5555555555555556,\"#d8576b\"],[0.6666666666666666,\"#ed7953\"],[0.7777777777777778,\"#fb9f3a\"],[0.8888888888888888,\"#fdca26\"],[1.0,\"#f0f921\"]],\"type\":\"contour\"}],\"contourcarpet\":[{\"colorbar\":{\"outlinewidth\":0,\"ticks\":\"\"},\"type\":\"contourcarpet\"}],\"heatmap\":[{\"colorbar\":{\"outlinewidth\":0,\"ticks\":\"\"},\"colorscale\":[[0.0,\"#0d0887\"],[0.1111111111111111,\"#46039f\"],[0.2222222222222222,\"#7201a8\"],[0.3333333333333333,\"#9c179e\"],[0.4444444444444444,\"#bd3786\"],[0.5555555555555556,\"#d8576b\"],[0.6666666666666666,\"#ed7953\"],[0.7777777777777778,\"#fb9f3a\"],[0.8888888888888888,\"#fdca26\"],[1.0,\"#f0f921\"]],\"type\":\"heatmap\"}],\"heatmapgl\":[{\"colorbar\":{\"outlinewidth\":0,\"ticks\":\"\"},\"colorscale\":[[0.0,\"#0d0887\"],[0.1111111111111111,\"#46039f\"],[0.2222222222222222,\"#7201a8\"],[0.3333333333333333,\"#9c179e\"],[0.4444444444444444,\"#bd3786\"],[0.5555555555555556,\"#d8576b\"],[0.6666666666666666,\"#ed7953\"],[0.7777777777777778,\"#fb9f3a\"],[0.8888888888888888,\"#fdca26\"],[1.0,\"#f0f921\"]],\"type\":\"heatmapgl\"}],\"histogram\":[{\"marker\":{\"pattern\":{\"fillmode\":\"overlay\",\"size\":10,\"solidity\":0.2}},\"type\":\"histogram\"}],\"histogram2d\":[{\"colorbar\":{\"outlinewidth\":0,\"ticks\":\"\"},\"colorscale\":[[0.0,\"#0d0887\"],[0.1111111111111111,\"#46039f\"],[0.2222222222222222,\"#7201a8\"],[0.3333333333333333,\"#9c179e\"],[0.4444444444444444,\"#bd3786\"],[0.5555555555555556,\"#d8576b\"],[0.6666666666666666,\"#ed7953\"],[0.7777777777777778,\"#fb9f3a\"],[0.8888888888888888,\"#fdca26\"],[1.0,\"#f0f921\"]],\"type\":\"histogram2d\"}],\"histogram2dcontour\":[{\"colorbar\":{\"outlinewidth\":0,\"ticks\":\"\"},\"colorscale\":[[0.0,\"#0d0887\"],[0.1111111111111111,\"#46039f\"],[0.2222222222222222,\"#7201a8\"],[0.3333333333333333,\"#9c179e\"],[0.4444444444444444,\"#bd3786\"],[0.5555555555555556,\"#d8576b\"],[0.6666666666666666,\"#ed7953\"],[0.7777777777777778,\"#fb9f3a\"],[0.8888888888888888,\"#fdca26\"],[1.0,\"#f0f921\"]],\"type\":\"histogram2dcontour\"}],\"mesh3d\":[{\"colorbar\":{\"outlinewidth\":0,\"ticks\":\"\"},\"type\":\"mesh3d\"}],\"parcoords\":[{\"line\":{\"colorbar\":{\"outlinewidth\":0,\"ticks\":\"\"}},\"type\":\"parcoords\"}],\"pie\":[{\"automargin\":true,\"type\":\"pie\"}],\"scatter\":[{\"marker\":{\"colorbar\":{\"outlinewidth\":0,\"ticks\":\"\"}},\"type\":\"scatter\"}],\"scatter3d\":[{\"line\":{\"colorbar\":{\"outlinewidth\":0,\"ticks\":\"\"}},\"marker\":{\"colorbar\":{\"outlinewidth\":0,\"ticks\":\"\"}},\"type\":\"scatter3d\"}],\"scattercarpet\":[{\"marker\":{\"colorbar\":{\"outlinewidth\":0,\"ticks\":\"\"}},\"type\":\"scattercarpet\"}],\"scattergeo\":[{\"marker\":{\"colorbar\":{\"outlinewidth\":0,\"ticks\":\"\"}},\"type\":\"scattergeo\"}],\"scattergl\":[{\"marker\":{\"colorbar\":{\"outlinewidth\":0,\"ticks\":\"\"}},\"type\":\"scattergl\"}],\"scattermapbox\":[{\"marker\":{\"colorbar\":{\"outlinewidth\":0,\"ticks\":\"\"}},\"type\":\"scattermapbox\"}],\"scatterpolar\":[{\"marker\":{\"colorbar\":{\"outlinewidth\":0,\"ticks\":\"\"}},\"type\":\"scatterpolar\"}],\"scatterpolargl\":[{\"marker\":{\"colorbar\":{\"outlinewidth\":0,\"ticks\":\"\"}},\"type\":\"scatterpolargl\"}],\"scatterternary\":[{\"marker\":{\"colorbar\":{\"outlinewidth\":0,\"ticks\":\"\"}},\"type\":\"scatterternary\"}],\"surface\":[{\"colorbar\":{\"outlinewidth\":0,\"ticks\":\"\"},\"colorscale\":[[0.0,\"#0d0887\"],[0.1111111111111111,\"#46039f\"],[0.2222222222222222,\"#7201a8\"],[0.3333333333333333,\"#9c179e\"],[0.4444444444444444,\"#bd3786\"],[0.5555555555555556,\"#d8576b\"],[0.6666666666666666,\"#ed7953\"],[0.7777777777777778,\"#fb9f3a\"],[0.8888888888888888,\"#fdca26\"],[1.0,\"#f0f921\"]],\"type\":\"surface\"}],\"table\":[{\"cells\":{\"fill\":{\"color\":\"#EBF0F8\"},\"line\":{\"color\":\"white\"}},\"header\":{\"fill\":{\"color\":\"#C8D4E3\"},\"line\":{\"color\":\"white\"}},\"type\":\"table\"}]},\"layout\":{\"annotationdefaults\":{\"arrowcolor\":\"#2a3f5f\",\"arrowhead\":0,\"arrowwidth\":1},\"autotypenumbers\":\"strict\",\"coloraxis\":{\"colorbar\":{\"outlinewidth\":0,\"ticks\":\"\"}},\"colorscale\":{\"diverging\":[[0,\"#8e0152\"],[0.1,\"#c51b7d\"],[0.2,\"#de77ae\"],[0.3,\"#f1b6da\"],[0.4,\"#fde0ef\"],[0.5,\"#f7f7f7\"],[0.6,\"#e6f5d0\"],[0.7,\"#b8e186\"],[0.8,\"#7fbc41\"],[0.9,\"#4d9221\"],[1,\"#276419\"]],\"sequential\":[[0.0,\"#0d0887\"],[0.1111111111111111,\"#46039f\"],[0.2222222222222222,\"#7201a8\"],[0.3333333333333333,\"#9c179e\"],[0.4444444444444444,\"#bd3786\"],[0.5555555555555556,\"#d8576b\"],[0.6666666666666666,\"#ed7953\"],[0.7777777777777778,\"#fb9f3a\"],[0.8888888888888888,\"#fdca26\"],[1.0,\"#f0f921\"]],\"sequentialminus\":[[0.0,\"#0d0887\"],[0.1111111111111111,\"#46039f\"],[0.2222222222222222,\"#7201a8\"],[0.3333333333333333,\"#9c179e\"],[0.4444444444444444,\"#bd3786\"],[0.5555555555555556,\"#d8576b\"],[0.6666666666666666,\"#ed7953\"],[0.7777777777777778,\"#fb9f3a\"],[0.8888888888888888,\"#fdca26\"],[1.0,\"#f0f921\"]]},\"colorway\":[\"#636efa\",\"#EF553B\",\"#00cc96\",\"#ab63fa\",\"#FFA15A\",\"#19d3f3\",\"#FF6692\",\"#B6E880\",\"#FF97FF\",\"#FECB52\"],\"font\":{\"color\":\"#2a3f5f\"},\"geo\":{\"bgcolor\":\"white\",\"lakecolor\":\"white\",\"landcolor\":\"#E5ECF6\",\"showlakes\":true,\"showland\":true,\"subunitcolor\":\"white\"},\"hoverlabel\":{\"align\":\"left\"},\"hovermode\":\"closest\",\"mapbox\":{\"style\":\"light\"},\"paper_bgcolor\":\"white\",\"plot_bgcolor\":\"#E5ECF6\",\"polar\":{\"angularaxis\":{\"gridcolor\":\"white\",\"linecolor\":\"white\",\"ticks\":\"\"},\"bgcolor\":\"#E5ECF6\",\"radialaxis\":{\"gridcolor\":\"white\",\"linecolor\":\"white\",\"ticks\":\"\"}},\"scene\":{\"xaxis\":{\"backgroundcolor\":\"#E5ECF6\",\"gridcolor\":\"white\",\"gridwidth\":2,\"linecolor\":\"white\",\"showbackground\":true,\"ticks\":\"\",\"zerolinecolor\":\"white\"},\"yaxis\":{\"backgroundcolor\":\"#E5ECF6\",\"gridcolor\":\"white\",\"gridwidth\":2,\"linecolor\":\"white\",\"showbackground\":true,\"ticks\":\"\",\"zerolinecolor\":\"white\"},\"zaxis\":{\"backgroundcolor\":\"#E5ECF6\",\"gridcolor\":\"white\",\"gridwidth\":2,\"linecolor\":\"white\",\"showbackground\":true,\"ticks\":\"\",\"zerolinecolor\":\"white\"}},\"shapedefaults\":{\"line\":{\"color\":\"#2a3f5f\"}},\"ternary\":{\"aaxis\":{\"gridcolor\":\"white\",\"linecolor\":\"white\",\"ticks\":\"\"},\"baxis\":{\"gridcolor\":\"white\",\"linecolor\":\"white\",\"ticks\":\"\"},\"bgcolor\":\"#E5ECF6\",\"caxis\":{\"gridcolor\":\"white\",\"linecolor\":\"white\",\"ticks\":\"\"}},\"title\":{\"x\":0.05},\"xaxis\":{\"automargin\":true,\"gridcolor\":\"white\",\"linecolor\":\"white\",\"ticks\":\"\",\"title\":{\"standoff\":15},\"zerolinecolor\":\"white\",\"zerolinewidth\":2},\"yaxis\":{\"automargin\":true,\"gridcolor\":\"white\",\"linecolor\":\"white\",\"ticks\":\"\",\"title\":{\"standoff\":15},\"zerolinecolor\":\"white\",\"zerolinewidth\":2}}},\"legend\":{\"tracegroupgap\":0},\"title\":{\"text\":\"Test\"}},                        {\"responsive\": true}                    ).then(function(){\n",
       "                            \n",
       "var gd = document.getElementById('ed933b27-3986-4c52-b11f-175be0874442');\n",
       "var x = new MutationObserver(function (mutations, observer) {{\n",
       "        var display = window.getComputedStyle(gd).display;\n",
       "        if (!display || display === 'none') {{\n",
       "            console.log([gd, 'removed!']);\n",
       "            Plotly.purge(gd);\n",
       "            observer.disconnect();\n",
       "        }}\n",
       "}});\n",
       "\n",
       "// Listen for the removal of the full notebook cells\n",
       "var notebookContainer = gd.closest('#notebook-container');\n",
       "if (notebookContainer) {{\n",
       "    x.observe(notebookContainer, {childList: true});\n",
       "}}\n",
       "\n",
       "// Listen for the clearing of the current output cell\n",
       "var outputEl = gd.closest('.output');\n",
       "if (outputEl) {{\n",
       "    x.observe(outputEl, {childList: true});\n",
       "}}\n",
       "\n",
       "                        })                };                });            </script>        </div>"
      ]
     },
     "metadata": {},
     "output_type": "display_data"
    }
   ],
   "source": [
    "#fig = px.pie(dfCH4_2020_C, values='2020', names='2020', title='Test')\n",
    "#fig.show()"
   ]
  },
  {
   "cell_type": "markdown",
   "id": "45fa7c16-74ae-4d75-8d2e-57918526d38f",
   "metadata": {},
   "source": [
    "Read in N2O data"
   ]
  },
  {
   "cell_type": "code",
   "execution_count": 55,
   "id": "36f8ae1d-d39a-477b-b00f-1c84b8919609",
   "metadata": {},
   "outputs": [
    {
     "data": {
      "text/html": [
       "<div>\n",
       "<style scoped>\n",
       "    .dataframe tbody tr th:only-of-type {\n",
       "        vertical-align: middle;\n",
       "    }\n",
       "\n",
       "    .dataframe tbody tr th {\n",
       "        vertical-align: top;\n",
       "    }\n",
       "\n",
       "    .dataframe thead th {\n",
       "        text-align: right;\n",
       "    }\n",
       "</style>\n",
       "<table border=\"1\" class=\"dataframe\">\n",
       "  <thead>\n",
       "    <tr style=\"text-align: right;\">\n",
       "      <th></th>\n",
       "      <th>Base year(1)</th>\n",
       "      <th>1990</th>\n",
       "      <th>1991</th>\n",
       "      <th>1992</th>\n",
       "      <th>1993</th>\n",
       "      <th>1994</th>\n",
       "      <th>1995</th>\n",
       "      <th>1996</th>\n",
       "      <th>1997</th>\n",
       "      <th>1998</th>\n",
       "      <th>...</th>\n",
       "      <th>2012</th>\n",
       "      <th>2013</th>\n",
       "      <th>2014</th>\n",
       "      <th>2015</th>\n",
       "      <th>2016</th>\n",
       "      <th>2017</th>\n",
       "      <th>2018</th>\n",
       "      <th>2019</th>\n",
       "      <th>2020</th>\n",
       "      <th>Change from base to latest reported year</th>\n",
       "    </tr>\n",
       "    <tr>\n",
       "      <th>GREENHOUSE GAS SOURCE AND SINK CATEGORIES</th>\n",
       "      <th></th>\n",
       "      <th></th>\n",
       "      <th></th>\n",
       "      <th></th>\n",
       "      <th></th>\n",
       "      <th></th>\n",
       "      <th></th>\n",
       "      <th></th>\n",
       "      <th></th>\n",
       "      <th></th>\n",
       "      <th></th>\n",
       "      <th></th>\n",
       "      <th></th>\n",
       "      <th></th>\n",
       "      <th></th>\n",
       "      <th></th>\n",
       "      <th></th>\n",
       "      <th></th>\n",
       "      <th></th>\n",
       "      <th></th>\n",
       "      <th></th>\n",
       "    </tr>\n",
       "  </thead>\n",
       "  <tbody>\n",
       "    <tr>\n",
       "      <th>1. Energy</th>\n",
       "      <td>12.399834</td>\n",
       "      <td>12.399834</td>\n",
       "      <td>12.32051</td>\n",
       "      <td>12.126234</td>\n",
       "      <td>12.005137</td>\n",
       "      <td>12.267934</td>\n",
       "      <td>12.600877</td>\n",
       "      <td>12.107575</td>\n",
       "      <td>11.725449</td>\n",
       "      <td>11.806042</td>\n",
       "      <td>...</td>\n",
       "      <td>8.71365</td>\n",
       "      <td>8.628428</td>\n",
       "      <td>8.386046</td>\n",
       "      <td>8.46204</td>\n",
       "      <td>7.961422</td>\n",
       "      <td>7.92665</td>\n",
       "      <td>8.042293</td>\n",
       "      <td>7.921735</td>\n",
       "      <td>7.227956</td>\n",
       "      <td>-41.709255</td>\n",
       "    </tr>\n",
       "    <tr>\n",
       "      <th>A. Fuel combustion (sectoral approach)</th>\n",
       "      <td>12.249575</td>\n",
       "      <td>12.249575</td>\n",
       "      <td>12.174791</td>\n",
       "      <td>11.978783</td>\n",
       "      <td>11.850275</td>\n",
       "      <td>12.075453</td>\n",
       "      <td>12.397266</td>\n",
       "      <td>11.899059</td>\n",
       "      <td>11.539965</td>\n",
       "      <td>11.616474</td>\n",
       "      <td>...</td>\n",
       "      <td>8.58924</td>\n",
       "      <td>8.510284</td>\n",
       "      <td>8.268197</td>\n",
       "      <td>8.342556</td>\n",
       "      <td>7.838041</td>\n",
       "      <td>7.802034</td>\n",
       "      <td>7.916938</td>\n",
       "      <td>7.797677</td>\n",
       "      <td>7.124227</td>\n",
       "      <td>-41.841029</td>\n",
       "    </tr>\n",
       "    <tr>\n",
       "      <th>1.  Energy industries</th>\n",
       "      <td>4.821621</td>\n",
       "      <td>4.821621</td>\n",
       "      <td>4.773376</td>\n",
       "      <td>4.616961</td>\n",
       "      <td>4.171165</td>\n",
       "      <td>4.055918</td>\n",
       "      <td>3.990189</td>\n",
       "      <td>3.837661</td>\n",
       "      <td>3.603327</td>\n",
       "      <td>3.787902</td>\n",
       "      <td>...</td>\n",
       "      <td>3.835712</td>\n",
       "      <td>3.716935</td>\n",
       "      <td>3.326995</td>\n",
       "      <td>3.210666</td>\n",
       "      <td>2.553062</td>\n",
       "      <td>2.390532</td>\n",
       "      <td>2.417321</td>\n",
       "      <td>2.39708</td>\n",
       "      <td>2.352618</td>\n",
       "      <td>-51.206911</td>\n",
       "    </tr>\n",
       "    <tr>\n",
       "      <th>2.  Manufacturing industries and construction</th>\n",
       "      <td>1.058335</td>\n",
       "      <td>1.058335</td>\n",
       "      <td>1.052081</td>\n",
       "      <td>1.042331</td>\n",
       "      <td>1.008378</td>\n",
       "      <td>1.046156</td>\n",
       "      <td>1.009588</td>\n",
       "      <td>0.97332</td>\n",
       "      <td>0.921806</td>\n",
       "      <td>0.910577</td>\n",
       "      <td>...</td>\n",
       "      <td>0.690587</td>\n",
       "      <td>0.63024</td>\n",
       "      <td>0.700639</td>\n",
       "      <td>0.748686</td>\n",
       "      <td>0.754312</td>\n",
       "      <td>0.826021</td>\n",
       "      <td>0.880824</td>\n",
       "      <td>0.837112</td>\n",
       "      <td>0.841022</td>\n",
       "      <td>-20.533441</td>\n",
       "    </tr>\n",
       "    <tr>\n",
       "      <th>3.  Transport</th>\n",
       "      <td>4.840101</td>\n",
       "      <td>4.840101</td>\n",
       "      <td>4.765728</td>\n",
       "      <td>4.850607</td>\n",
       "      <td>5.13147</td>\n",
       "      <td>5.58361</td>\n",
       "      <td>6.199382</td>\n",
       "      <td>5.847695</td>\n",
       "      <td>5.859706</td>\n",
       "      <td>5.814485</td>\n",
       "      <td>...</td>\n",
       "      <td>3.358268</td>\n",
       "      <td>3.450058</td>\n",
       "      <td>3.581472</td>\n",
       "      <td>3.71373</td>\n",
       "      <td>3.851384</td>\n",
       "      <td>3.905597</td>\n",
       "      <td>3.919561</td>\n",
       "      <td>3.874779</td>\n",
       "      <td>3.259928</td>\n",
       "      <td>-32.647512</td>\n",
       "    </tr>\n",
       "    <tr>\n",
       "      <th>4.  Other sectors</th>\n",
       "      <td>1.341185</td>\n",
       "      <td>1.341185</td>\n",
       "      <td>1.425898</td>\n",
       "      <td>1.319323</td>\n",
       "      <td>1.390179</td>\n",
       "      <td>1.247737</td>\n",
       "      <td>1.058127</td>\n",
       "      <td>1.102795</td>\n",
       "      <td>1.022007</td>\n",
       "      <td>0.989463</td>\n",
       "      <td>...</td>\n",
       "      <td>0.613861</td>\n",
       "      <td>0.630683</td>\n",
       "      <td>0.586724</td>\n",
       "      <td>0.610692</td>\n",
       "      <td>0.624341</td>\n",
       "      <td>0.623374</td>\n",
       "      <td>0.641296</td>\n",
       "      <td>0.626865</td>\n",
       "      <td>0.621023</td>\n",
       "      <td>-53.695971</td>\n",
       "    </tr>\n",
       "    <tr>\n",
       "      <th>5.  Other</th>\n",
       "      <td>0.188334</td>\n",
       "      <td>0.188334</td>\n",
       "      <td>0.157709</td>\n",
       "      <td>0.14956</td>\n",
       "      <td>0.149084</td>\n",
       "      <td>0.142032</td>\n",
       "      <td>0.139979</td>\n",
       "      <td>0.137589</td>\n",
       "      <td>0.133119</td>\n",
       "      <td>0.114047</td>\n",
       "      <td>...</td>\n",
       "      <td>0.090812</td>\n",
       "      <td>0.082368</td>\n",
       "      <td>0.072368</td>\n",
       "      <td>0.058783</td>\n",
       "      <td>0.054942</td>\n",
       "      <td>0.05651</td>\n",
       "      <td>0.057936</td>\n",
       "      <td>0.061841</td>\n",
       "      <td>0.049636</td>\n",
       "      <td>-73.644755</td>\n",
       "    </tr>\n",
       "    <tr>\n",
       "      <th>B. Fugitive emissions from fuels</th>\n",
       "      <td>0.150259</td>\n",
       "      <td>0.150259</td>\n",
       "      <td>0.145718</td>\n",
       "      <td>0.147451</td>\n",
       "      <td>0.154863</td>\n",
       "      <td>0.192481</td>\n",
       "      <td>0.203611</td>\n",
       "      <td>0.208516</td>\n",
       "      <td>0.185483</td>\n",
       "      <td>0.189568</td>\n",
       "      <td>...</td>\n",
       "      <td>0.12441</td>\n",
       "      <td>0.118145</td>\n",
       "      <td>0.117849</td>\n",
       "      <td>0.119484</td>\n",
       "      <td>0.123381</td>\n",
       "      <td>0.124616</td>\n",
       "      <td>0.125354</td>\n",
       "      <td>0.124058</td>\n",
       "      <td>0.103729</td>\n",
       "      <td>-30.966605</td>\n",
       "    </tr>\n",
       "    <tr>\n",
       "      <th>1.  Solid fuels</th>\n",
       "      <td>0.000303</td>\n",
       "      <td>0.000303</td>\n",
       "      <td>0.000123</td>\n",
       "      <td>0.000088</td>\n",
       "      <td>0.00015</td>\n",
       "      <td>0.000087</td>\n",
       "      <td>0.000098</td>\n",
       "      <td>0.000096</td>\n",
       "      <td>0.000065</td>\n",
       "      <td>0.000109</td>\n",
       "      <td>...</td>\n",
       "      <td>0.000062</td>\n",
       "      <td>0.000126</td>\n",
       "      <td>0.000221</td>\n",
       "      <td>0.000249</td>\n",
       "      <td>0.000066</td>\n",
       "      <td>0.000059</td>\n",
       "      <td>0.000039</td>\n",
       "      <td>0.000052</td>\n",
       "      <td>0.000055</td>\n",
       "      <td>-81.860814</td>\n",
       "    </tr>\n",
       "    <tr>\n",
       "      <th>2.  Oil and natural gas and other emissions from energy production</th>\n",
       "      <td>0.149956</td>\n",
       "      <td>0.149956</td>\n",
       "      <td>0.145596</td>\n",
       "      <td>0.147363</td>\n",
       "      <td>0.154712</td>\n",
       "      <td>0.192394</td>\n",
       "      <td>0.203513</td>\n",
       "      <td>0.20842</td>\n",
       "      <td>0.185418</td>\n",
       "      <td>0.189459</td>\n",
       "      <td>...</td>\n",
       "      <td>0.124348</td>\n",
       "      <td>0.118019</td>\n",
       "      <td>0.117628</td>\n",
       "      <td>0.119235</td>\n",
       "      <td>0.123315</td>\n",
       "      <td>0.124557</td>\n",
       "      <td>0.125315</td>\n",
       "      <td>0.124006</td>\n",
       "      <td>0.103674</td>\n",
       "      <td>-30.863899</td>\n",
       "    </tr>\n",
       "    <tr>\n",
       "      <th>2.  Industrial processes</th>\n",
       "      <td>81.926279</td>\n",
       "      <td>81.926279</td>\n",
       "      <td>82.492612</td>\n",
       "      <td>67.873793</td>\n",
       "      <td>55.167915</td>\n",
       "      <td>55.101261</td>\n",
       "      <td>50.03002</td>\n",
       "      <td>49.684172</td>\n",
       "      <td>50.28675</td>\n",
       "      <td>51.204316</td>\n",
       "      <td>...</td>\n",
       "      <td>3.111298</td>\n",
       "      <td>2.933365</td>\n",
       "      <td>3.005566</td>\n",
       "      <td>2.879838</td>\n",
       "      <td>2.914159</td>\n",
       "      <td>3.014925</td>\n",
       "      <td>2.946609</td>\n",
       "      <td>3.038663</td>\n",
       "      <td>2.720984</td>\n",
       "      <td>-96.67874</td>\n",
       "    </tr>\n",
       "    <tr>\n",
       "      <th>B.  Chemical industry</th>\n",
       "      <td>79.856983</td>\n",
       "      <td>79.856983</td>\n",
       "      <td>80.421892</td>\n",
       "      <td>65.805192</td>\n",
       "      <td>53.102172</td>\n",
       "      <td>53.031968</td>\n",
       "      <td>47.963042</td>\n",
       "      <td>47.663426</td>\n",
       "      <td>48.268683</td>\n",
       "      <td>49.171911</td>\n",
       "      <td>...</td>\n",
       "      <td>0.130233</td>\n",
       "      <td>0.150476</td>\n",
       "      <td>0.140931</td>\n",
       "      <td>0.103994</td>\n",
       "      <td>0.089194</td>\n",
       "      <td>0.131509</td>\n",
       "      <td>0.088956</td>\n",
       "      <td>0.13368</td>\n",
       "      <td>0.171421</td>\n",
       "      <td>-99.785341</td>\n",
       "    </tr>\n",
       "    <tr>\n",
       "      <th>C.  Metal industry</th>\n",
       "      <td>0.069555</td>\n",
       "      <td>0.069555</td>\n",
       "      <td>0.063835</td>\n",
       "      <td>0.06597</td>\n",
       "      <td>0.066892</td>\n",
       "      <td>0.068692</td>\n",
       "      <td>0.070302</td>\n",
       "      <td>0.068941</td>\n",
       "      <td>0.071264</td>\n",
       "      <td>0.066089</td>\n",
       "      <td>...</td>\n",
       "      <td>0.036948</td>\n",
       "      <td>0.044265</td>\n",
       "      <td>0.044496</td>\n",
       "      <td>0.039089</td>\n",
       "      <td>0.025487</td>\n",
       "      <td>0.024797</td>\n",
       "      <td>0.024281</td>\n",
       "      <td>0.024244</td>\n",
       "      <td>0.023898</td>\n",
       "      <td>-65.642173</td>\n",
       "    </tr>\n",
       "    <tr>\n",
       "      <th>D.  Non-energy products from fuels and solvent use</th>\n",
       "      <td>NO,NE,IE</td>\n",
       "      <td>NO,NE,IE</td>\n",
       "      <td>NO,NE,IE</td>\n",
       "      <td>NO,NE,IE</td>\n",
       "      <td>NO,NE,IE</td>\n",
       "      <td>NO,NE,IE</td>\n",
       "      <td>NO,NE,IE</td>\n",
       "      <td>NO,NE,IE</td>\n",
       "      <td>NO,NE,IE</td>\n",
       "      <td>NO,NE,IE</td>\n",
       "      <td>...</td>\n",
       "      <td>NO,NE,IE</td>\n",
       "      <td>NO,NE,IE</td>\n",
       "      <td>NO,NE,IE</td>\n",
       "      <td>NO,NE,IE</td>\n",
       "      <td>NO,NE,IE</td>\n",
       "      <td>NO,NE,IE</td>\n",
       "      <td>NO,NE,IE</td>\n",
       "      <td>NO,NE,IE</td>\n",
       "      <td>NO,NE,IE</td>\n",
       "      <td>0.0</td>\n",
       "    </tr>\n",
       "    <tr>\n",
       "      <th>G.  Other product manufacture and use</th>\n",
       "      <td>1.99974</td>\n",
       "      <td>1.99974</td>\n",
       "      <td>2.006886</td>\n",
       "      <td>2.002632</td>\n",
       "      <td>1.998851</td>\n",
       "      <td>2.0006</td>\n",
       "      <td>1.996676</td>\n",
       "      <td>1.951805</td>\n",
       "      <td>1.946802</td>\n",
       "      <td>1.966316</td>\n",
       "      <td>...</td>\n",
       "      <td>2.944116</td>\n",
       "      <td>2.738624</td>\n",
       "      <td>2.82014</td>\n",
       "      <td>2.736755</td>\n",
       "      <td>2.799478</td>\n",
       "      <td>2.858619</td>\n",
       "      <td>2.833372</td>\n",
       "      <td>2.88074</td>\n",
       "      <td>2.525666</td>\n",
       "      <td>26.299706</td>\n",
       "    </tr>\n",
       "    <tr>\n",
       "      <th>H.  Other</th>\n",
       "      <td>NO</td>\n",
       "      <td>NO</td>\n",
       "      <td>NO</td>\n",
       "      <td>NO</td>\n",
       "      <td>NO</td>\n",
       "      <td>NO</td>\n",
       "      <td>NO</td>\n",
       "      <td>NO</td>\n",
       "      <td>NO</td>\n",
       "      <td>NO</td>\n",
       "      <td>...</td>\n",
       "      <td>NO</td>\n",
       "      <td>NO</td>\n",
       "      <td>NO</td>\n",
       "      <td>NO</td>\n",
       "      <td>NO</td>\n",
       "      <td>NO</td>\n",
       "      <td>NO</td>\n",
       "      <td>NO</td>\n",
       "      <td>NO</td>\n",
       "      <td>0.0</td>\n",
       "    </tr>\n",
       "    <tr>\n",
       "      <th>3.  Agriculture</th>\n",
       "      <td>61.149626</td>\n",
       "      <td>61.149626</td>\n",
       "      <td>61.413947</td>\n",
       "      <td>59.505495</td>\n",
       "      <td>58.057193</td>\n",
       "      <td>59.994955</td>\n",
       "      <td>60.161453</td>\n",
       "      <td>61.137753</td>\n",
       "      <td>62.057828</td>\n",
       "      <td>61.0442</td>\n",
       "      <td>...</td>\n",
       "      <td>50.201014</td>\n",
       "      <td>50.704291</td>\n",
       "      <td>52.486997</td>\n",
       "      <td>51.344387</td>\n",
       "      <td>50.713435</td>\n",
       "      <td>52.096982</td>\n",
       "      <td>51.61727</td>\n",
       "      <td>51.518359</td>\n",
       "      <td>48.910599</td>\n",
       "      <td>-20.014883</td>\n",
       "    </tr>\n",
       "    <tr>\n",
       "      <th>B.  Manure management</th>\n",
       "      <td>11.522788</td>\n",
       "      <td>11.522788</td>\n",
       "      <td>11.453449</td>\n",
       "      <td>11.491104</td>\n",
       "      <td>11.564711</td>\n",
       "      <td>11.67332</td>\n",
       "      <td>11.687921</td>\n",
       "      <td>12.152133</td>\n",
       "      <td>12.320019</td>\n",
       "      <td>12.176241</td>\n",
       "      <td>...</td>\n",
       "      <td>9.791145</td>\n",
       "      <td>9.756038</td>\n",
       "      <td>9.803902</td>\n",
       "      <td>9.781583</td>\n",
       "      <td>9.755364</td>\n",
       "      <td>9.705581</td>\n",
       "      <td>9.57685</td>\n",
       "      <td>9.562306</td>\n",
       "      <td>9.441426</td>\n",
       "      <td>-18.063012</td>\n",
       "    </tr>\n",
       "    <tr>\n",
       "      <th>D.  Agricultural soils</th>\n",
       "      <td>48.833236</td>\n",
       "      <td>48.833236</td>\n",
       "      <td>49.192285</td>\n",
       "      <td>47.309421</td>\n",
       "      <td>45.911052</td>\n",
       "      <td>47.72814</td>\n",
       "      <td>47.881783</td>\n",
       "      <td>48.415596</td>\n",
       "      <td>49.159226</td>\n",
       "      <td>48.287309</td>\n",
       "      <td>...</td>\n",
       "      <td>40.002165</td>\n",
       "      <td>40.536765</td>\n",
       "      <td>42.269557</td>\n",
       "      <td>41.1609</td>\n",
       "      <td>40.556591</td>\n",
       "      <td>41.986668</td>\n",
       "      <td>41.650737</td>\n",
       "      <td>41.560866</td>\n",
       "      <td>39.088643</td>\n",
       "      <td>-19.954837</td>\n",
       "    </tr>\n",
       "    <tr>\n",
       "      <th>E.  Prescribed burning of savannas</th>\n",
       "      <td>NO</td>\n",
       "      <td>NO</td>\n",
       "      <td>NO</td>\n",
       "      <td>NO</td>\n",
       "      <td>NO</td>\n",
       "      <td>NO</td>\n",
       "      <td>NO</td>\n",
       "      <td>NO</td>\n",
       "      <td>NO</td>\n",
       "      <td>NO</td>\n",
       "      <td>...</td>\n",
       "      <td>NO</td>\n",
       "      <td>NO</td>\n",
       "      <td>NO</td>\n",
       "      <td>NO</td>\n",
       "      <td>NO</td>\n",
       "      <td>NO</td>\n",
       "      <td>NO</td>\n",
       "      <td>NO</td>\n",
       "      <td>NO</td>\n",
       "      <td>0.0</td>\n",
       "    </tr>\n",
       "    <tr>\n",
       "      <th>J.  Other</th>\n",
       "      <td>0.60012</td>\n",
       "      <td>0.60012</td>\n",
       "      <td>0.598046</td>\n",
       "      <td>0.580493</td>\n",
       "      <td>0.577271</td>\n",
       "      <td>0.593494</td>\n",
       "      <td>0.591749</td>\n",
       "      <td>0.570024</td>\n",
       "      <td>0.578582</td>\n",
       "      <td>0.58065</td>\n",
       "      <td>...</td>\n",
       "      <td>0.407704</td>\n",
       "      <td>0.411488</td>\n",
       "      <td>0.413537</td>\n",
       "      <td>0.401904</td>\n",
       "      <td>0.40148</td>\n",
       "      <td>0.404733</td>\n",
       "      <td>0.389683</td>\n",
       "      <td>0.395186</td>\n",
       "      <td>0.38053</td>\n",
       "      <td>-36.59097</td>\n",
       "    </tr>\n",
       "    <tr>\n",
       "      <th>4. Land use, land-use change and forestry</th>\n",
       "      <td>8.247696</td>\n",
       "      <td>8.247696</td>\n",
       "      <td>8.201697</td>\n",
       "      <td>8.129382</td>\n",
       "      <td>8.063006</td>\n",
       "      <td>8.001618</td>\n",
       "      <td>7.9601</td>\n",
       "      <td>7.845121</td>\n",
       "      <td>7.81117</td>\n",
       "      <td>7.689895</td>\n",
       "      <td>...</td>\n",
       "      <td>6.322403</td>\n",
       "      <td>6.269608</td>\n",
       "      <td>6.148345</td>\n",
       "      <td>6.11424</td>\n",
       "      <td>6.081182</td>\n",
       "      <td>6.021483</td>\n",
       "      <td>6.057047</td>\n",
       "      <td>6.090321</td>\n",
       "      <td>5.993261</td>\n",
       "      <td>-27.334125</td>\n",
       "    </tr>\n",
       "    <tr>\n",
       "      <th>A.  Forest land</th>\n",
       "      <td>2.526522</td>\n",
       "      <td>2.526522</td>\n",
       "      <td>2.535302</td>\n",
       "      <td>2.517556</td>\n",
       "      <td>2.516082</td>\n",
       "      <td>2.533552</td>\n",
       "      <td>2.577449</td>\n",
       "      <td>2.576366</td>\n",
       "      <td>2.611388</td>\n",
       "      <td>2.61636</td>\n",
       "      <td>...</td>\n",
       "      <td>2.55544</td>\n",
       "      <td>2.561621</td>\n",
       "      <td>2.495522</td>\n",
       "      <td>2.467448</td>\n",
       "      <td>2.449901</td>\n",
       "      <td>2.427364</td>\n",
       "      <td>2.450861</td>\n",
       "      <td>2.445527</td>\n",
       "      <td>2.390105</td>\n",
       "      <td>-5.399398</td>\n",
       "    </tr>\n",
       "    <tr>\n",
       "      <th>B.  Cropland</th>\n",
       "      <td>2.465096</td>\n",
       "      <td>2.465096</td>\n",
       "      <td>2.455314</td>\n",
       "      <td>2.445747</td>\n",
       "      <td>2.42667</td>\n",
       "      <td>2.38962</td>\n",
       "      <td>2.349694</td>\n",
       "      <td>2.297674</td>\n",
       "      <td>2.251401</td>\n",
       "      <td>2.187037</td>\n",
       "      <td>...</td>\n",
       "      <td>1.449551</td>\n",
       "      <td>1.415284</td>\n",
       "      <td>1.393484</td>\n",
       "      <td>1.376856</td>\n",
       "      <td>1.369982</td>\n",
       "      <td>1.355463</td>\n",
       "      <td>1.333288</td>\n",
       "      <td>1.330339</td>\n",
       "      <td>1.337162</td>\n",
       "      <td>-45.756204</td>\n",
       "    </tr>\n",
       "    <tr>\n",
       "      <th>C.  Grassland</th>\n",
       "      <td>0.08663</td>\n",
       "      <td>0.08663</td>\n",
       "      <td>0.084249</td>\n",
       "      <td>0.081891</td>\n",
       "      <td>0.080981</td>\n",
       "      <td>0.07905</td>\n",
       "      <td>0.078012</td>\n",
       "      <td>0.077232</td>\n",
       "      <td>0.076684</td>\n",
       "      <td>0.073066</td>\n",
       "      <td>...</td>\n",
       "      <td>0.100574</td>\n",
       "      <td>0.11243</td>\n",
       "      <td>0.113784</td>\n",
       "      <td>0.101676</td>\n",
       "      <td>0.112975</td>\n",
       "      <td>0.111328</td>\n",
       "      <td>0.113711</td>\n",
       "      <td>0.129669</td>\n",
       "      <td>0.113705</td>\n",
       "      <td>31.252996</td>\n",
       "    </tr>\n",
       "    <tr>\n",
       "      <th>D.  Wetlands</th>\n",
       "      <td>0.071454</td>\n",
       "      <td>0.071454</td>\n",
       "      <td>0.07125</td>\n",
       "      <td>0.071047</td>\n",
       "      <td>0.070843</td>\n",
       "      <td>0.07064</td>\n",
       "      <td>0.070436</td>\n",
       "      <td>0.070233</td>\n",
       "      <td>0.070029</td>\n",
       "      <td>0.069826</td>\n",
       "      <td>...</td>\n",
       "      <td>0.075752</td>\n",
       "      <td>0.072765</td>\n",
       "      <td>0.071865</td>\n",
       "      <td>0.115299</td>\n",
       "      <td>0.077421</td>\n",
       "      <td>0.076125</td>\n",
       "      <td>0.099591</td>\n",
       "      <td>0.12405</td>\n",
       "      <td>0.083252</td>\n",
       "      <td>16.511867</td>\n",
       "    </tr>\n",
       "    <tr>\n",
       "      <th>E.  Settlements</th>\n",
       "      <td>1.478758</td>\n",
       "      <td>1.478758</td>\n",
       "      <td>1.451766</td>\n",
       "      <td>1.426861</td>\n",
       "      <td>1.400186</td>\n",
       "      <td>1.377081</td>\n",
       "      <td>1.352223</td>\n",
       "      <td>1.314174</td>\n",
       "      <td>1.304004</td>\n",
       "      <td>1.270536</td>\n",
       "      <td>...</td>\n",
       "      <td>0.97891</td>\n",
       "      <td>0.9603</td>\n",
       "      <td>0.94016</td>\n",
       "      <td>0.933235</td>\n",
       "      <td>0.959451</td>\n",
       "      <td>0.949864</td>\n",
       "      <td>0.96653</td>\n",
       "      <td>0.973162</td>\n",
       "      <td>0.984665</td>\n",
       "      <td>-33.412715</td>\n",
       "    </tr>\n",
       "    <tr>\n",
       "      <th>F.  Other land</th>\n",
       "      <td>NO</td>\n",
       "      <td>NO</td>\n",
       "      <td>NO</td>\n",
       "      <td>NO</td>\n",
       "      <td>NO</td>\n",
       "      <td>NO</td>\n",
       "      <td>NO</td>\n",
       "      <td>NO</td>\n",
       "      <td>NO</td>\n",
       "      <td>NO</td>\n",
       "      <td>...</td>\n",
       "      <td>NO</td>\n",
       "      <td>NO</td>\n",
       "      <td>NO</td>\n",
       "      <td>NO</td>\n",
       "      <td>NO</td>\n",
       "      <td>NO</td>\n",
       "      <td>NO</td>\n",
       "      <td>NO</td>\n",
       "      <td>NO</td>\n",
       "      <td>0.0</td>\n",
       "    </tr>\n",
       "    <tr>\n",
       "      <th>H.  Other</th>\n",
       "      <td>0.594111</td>\n",
       "      <td>0.594111</td>\n",
       "      <td>0.592401</td>\n",
       "      <td>0.590834</td>\n",
       "      <td>0.589569</td>\n",
       "      <td>0.588011</td>\n",
       "      <td>0.586697</td>\n",
       "      <td>0.58554</td>\n",
       "      <td>0.584385</td>\n",
       "      <td>0.583267</td>\n",
       "      <td>...</td>\n",
       "      <td>0.533516</td>\n",
       "      <td>0.531715</td>\n",
       "      <td>0.530064</td>\n",
       "      <td>0.526505</td>\n",
       "      <td>0.522843</td>\n",
       "      <td>0.519965</td>\n",
       "      <td>0.516729</td>\n",
       "      <td>0.512682</td>\n",
       "      <td>0.507951</td>\n",
       "      <td>-14.502328</td>\n",
       "    </tr>\n",
       "    <tr>\n",
       "      <th>5.  Waste</th>\n",
       "      <td>3.21182</td>\n",
       "      <td>3.21182</td>\n",
       "      <td>3.239759</td>\n",
       "      <td>3.399044</td>\n",
       "      <td>3.44652</td>\n",
       "      <td>3.477337</td>\n",
       "      <td>3.551466</td>\n",
       "      <td>3.685385</td>\n",
       "      <td>3.74957</td>\n",
       "      <td>3.856709</td>\n",
       "      <td>...</td>\n",
       "      <td>5.232147</td>\n",
       "      <td>5.333684</td>\n",
       "      <td>5.558236</td>\n",
       "      <td>5.605962</td>\n",
       "      <td>5.687802</td>\n",
       "      <td>5.866197</td>\n",
       "      <td>5.763729</td>\n",
       "      <td>5.869541</td>\n",
       "      <td>5.899825</td>\n",
       "      <td>83.690999</td>\n",
       "    </tr>\n",
       "    <tr>\n",
       "      <th>B.  Biological treatment of solid waste</th>\n",
       "      <td>0.043517</td>\n",
       "      <td>0.043517</td>\n",
       "      <td>0.09859</td>\n",
       "      <td>0.153652</td>\n",
       "      <td>0.208739</td>\n",
       "      <td>0.263846</td>\n",
       "      <td>0.31892</td>\n",
       "      <td>0.374004</td>\n",
       "      <td>0.429095</td>\n",
       "      <td>0.484237</td>\n",
       "      <td>...</td>\n",
       "      <td>1.832028</td>\n",
       "      <td>1.959785</td>\n",
       "      <td>2.185764</td>\n",
       "      <td>2.197495</td>\n",
       "      <td>2.33526</td>\n",
       "      <td>2.429049</td>\n",
       "      <td>2.384674</td>\n",
       "      <td>2.400525</td>\n",
       "      <td>2.399355</td>\n",
       "      <td>5413.576896</td>\n",
       "    </tr>\n",
       "    <tr>\n",
       "      <th>C.  Incineration and open burning of waste</th>\n",
       "      <td>0.170892</td>\n",
       "      <td>0.170892</td>\n",
       "      <td>0.164662</td>\n",
       "      <td>0.164092</td>\n",
       "      <td>0.168564</td>\n",
       "      <td>0.142379</td>\n",
       "      <td>0.149041</td>\n",
       "      <td>0.156073</td>\n",
       "      <td>0.117325</td>\n",
       "      <td>0.220422</td>\n",
       "      <td>...</td>\n",
       "      <td>0.225701</td>\n",
       "      <td>0.219047</td>\n",
       "      <td>0.193736</td>\n",
       "      <td>0.186698</td>\n",
       "      <td>0.166395</td>\n",
       "      <td>0.151275</td>\n",
       "      <td>0.127141</td>\n",
       "      <td>0.104715</td>\n",
       "      <td>0.088499</td>\n",
       "      <td>-48.213428</td>\n",
       "    </tr>\n",
       "    <tr>\n",
       "      <th>D.  Waste water treatment and discharge</th>\n",
       "      <td>2.997411</td>\n",
       "      <td>2.997411</td>\n",
       "      <td>2.976507</td>\n",
       "      <td>3.081299</td>\n",
       "      <td>3.069218</td>\n",
       "      <td>3.071113</td>\n",
       "      <td>3.083505</td>\n",
       "      <td>3.155308</td>\n",
       "      <td>3.20315</td>\n",
       "      <td>3.152051</td>\n",
       "      <td>...</td>\n",
       "      <td>3.174417</td>\n",
       "      <td>3.154851</td>\n",
       "      <td>3.178736</td>\n",
       "      <td>3.22177</td>\n",
       "      <td>3.186147</td>\n",
       "      <td>3.285873</td>\n",
       "      <td>3.251914</td>\n",
       "      <td>3.3643</td>\n",
       "      <td>3.411971</td>\n",
       "      <td>13.830589</td>\n",
       "    </tr>\n",
       "    <tr>\n",
       "      <th>E.  Other</th>\n",
       "      <td>NO</td>\n",
       "      <td>NO</td>\n",
       "      <td>NO</td>\n",
       "      <td>NO</td>\n",
       "      <td>NO</td>\n",
       "      <td>NO</td>\n",
       "      <td>NO</td>\n",
       "      <td>NO</td>\n",
       "      <td>NO</td>\n",
       "      <td>NO</td>\n",
       "      <td>...</td>\n",
       "      <td>NO</td>\n",
       "      <td>NO</td>\n",
       "      <td>NO</td>\n",
       "      <td>NO</td>\n",
       "      <td>NO</td>\n",
       "      <td>NO</td>\n",
       "      <td>NO</td>\n",
       "      <td>NO</td>\n",
       "      <td>NO</td>\n",
       "      <td>0.0</td>\n",
       "    </tr>\n",
       "    <tr>\n",
       "      <th>6.  Other (as specified in summary 1.A)</th>\n",
       "      <td>NO</td>\n",
       "      <td>NO</td>\n",
       "      <td>NO</td>\n",
       "      <td>NO</td>\n",
       "      <td>NO</td>\n",
       "      <td>NO</td>\n",
       "      <td>NO</td>\n",
       "      <td>NO</td>\n",
       "      <td>NO</td>\n",
       "      <td>NO</td>\n",
       "      <td>...</td>\n",
       "      <td>NO</td>\n",
       "      <td>NO</td>\n",
       "      <td>NO</td>\n",
       "      <td>NO</td>\n",
       "      <td>NO</td>\n",
       "      <td>NO</td>\n",
       "      <td>NO</td>\n",
       "      <td>NO</td>\n",
       "      <td>NO</td>\n",
       "      <td>0.0</td>\n",
       "    </tr>\n",
       "    <tr>\n",
       "      <th>Total direct N2O emissions without N2O from LULUCF</th>\n",
       "      <td>158.687559</td>\n",
       "      <td>158.687559</td>\n",
       "      <td>159.466828</td>\n",
       "      <td>142.904566</td>\n",
       "      <td>128.676765</td>\n",
       "      <td>130.841487</td>\n",
       "      <td>126.343816</td>\n",
       "      <td>126.614885</td>\n",
       "      <td>127.819596</td>\n",
       "      <td>127.911266</td>\n",
       "      <td>...</td>\n",
       "      <td>67.258109</td>\n",
       "      <td>67.599768</td>\n",
       "      <td>69.436845</td>\n",
       "      <td>68.292228</td>\n",
       "      <td>67.276818</td>\n",
       "      <td>68.904754</td>\n",
       "      <td>68.369901</td>\n",
       "      <td>68.348298</td>\n",
       "      <td>64.759365</td>\n",
       "      <td>-59.190648</td>\n",
       "    </tr>\n",
       "    <tr>\n",
       "      <th>Total direct N2O emissions with N2O from LULUCF</th>\n",
       "      <td>166.935255</td>\n",
       "      <td>166.935255</td>\n",
       "      <td>167.668525</td>\n",
       "      <td>151.033948</td>\n",
       "      <td>136.739772</td>\n",
       "      <td>138.843104</td>\n",
       "      <td>134.303915</td>\n",
       "      <td>134.460006</td>\n",
       "      <td>135.630766</td>\n",
       "      <td>135.601161</td>\n",
       "      <td>...</td>\n",
       "      <td>73.580512</td>\n",
       "      <td>73.869376</td>\n",
       "      <td>75.58519</td>\n",
       "      <td>74.406468</td>\n",
       "      <td>73.358</td>\n",
       "      <td>74.926237</td>\n",
       "      <td>74.426948</td>\n",
       "      <td>74.438618</td>\n",
       "      <td>70.752625</td>\n",
       "      <td>-57.616727</td>\n",
       "    </tr>\n",
       "    <tr>\n",
       "      <th>International bunkers</th>\n",
       "      <td>0.908376</td>\n",
       "      <td>0.908376</td>\n",
       "      <td>0.898282</td>\n",
       "      <td>0.95955</td>\n",
       "      <td>0.98573</td>\n",
       "      <td>0.980037</td>\n",
       "      <td>1.043395</td>\n",
       "      <td>1.124305</td>\n",
       "      <td>1.210749</td>\n",
       "      <td>1.319614</td>\n",
       "      <td>...</td>\n",
       "      <td>1.536869</td>\n",
       "      <td>1.544874</td>\n",
       "      <td>1.577737</td>\n",
       "      <td>1.54416</td>\n",
       "      <td>1.57978</td>\n",
       "      <td>1.6388</td>\n",
       "      <td>1.634415</td>\n",
       "      <td>1.60758</td>\n",
       "      <td>0.84748</td>\n",
       "      <td>-6.703833</td>\n",
       "    </tr>\n",
       "    <tr>\n",
       "      <th>Aviation</th>\n",
       "      <td>0.488644</td>\n",
       "      <td>0.488644</td>\n",
       "      <td>0.480981</td>\n",
       "      <td>0.532368</td>\n",
       "      <td>0.570193</td>\n",
       "      <td>0.595502</td>\n",
       "      <td>0.633762</td>\n",
       "      <td>0.670569</td>\n",
       "      <td>0.713235</td>\n",
       "      <td>0.793988</td>\n",
       "      <td>...</td>\n",
       "      <td>1.018165</td>\n",
       "      <td>1.027121</td>\n",
       "      <td>1.034758</td>\n",
       "      <td>1.050828</td>\n",
       "      <td>1.057946</td>\n",
       "      <td>1.139171</td>\n",
       "      <td>1.151315</td>\n",
       "      <td>1.157009</td>\n",
       "      <td>0.455308</td>\n",
       "      <td>-6.822069</td>\n",
       "    </tr>\n",
       "    <tr>\n",
       "      <th>Navigation</th>\n",
       "      <td>0.419732</td>\n",
       "      <td>0.419732</td>\n",
       "      <td>0.417301</td>\n",
       "      <td>0.427182</td>\n",
       "      <td>0.415537</td>\n",
       "      <td>0.384534</td>\n",
       "      <td>0.409633</td>\n",
       "      <td>0.453735</td>\n",
       "      <td>0.497515</td>\n",
       "      <td>0.525626</td>\n",
       "      <td>...</td>\n",
       "      <td>0.518705</td>\n",
       "      <td>0.517753</td>\n",
       "      <td>0.54298</td>\n",
       "      <td>0.493331</td>\n",
       "      <td>0.521834</td>\n",
       "      <td>0.499628</td>\n",
       "      <td>0.4831</td>\n",
       "      <td>0.450572</td>\n",
       "      <td>0.392172</td>\n",
       "      <td>-6.566184</td>\n",
       "    </tr>\n",
       "    <tr>\n",
       "      <th>Multilateral operations</th>\n",
       "      <td>NE</td>\n",
       "      <td>NE</td>\n",
       "      <td>NE</td>\n",
       "      <td>NE</td>\n",
       "      <td>NE</td>\n",
       "      <td>NE</td>\n",
       "      <td>NE</td>\n",
       "      <td>NE</td>\n",
       "      <td>NE</td>\n",
       "      <td>NE</td>\n",
       "      <td>...</td>\n",
       "      <td>NE</td>\n",
       "      <td>NE</td>\n",
       "      <td>NE</td>\n",
       "      <td>NE</td>\n",
       "      <td>NE</td>\n",
       "      <td>NE</td>\n",
       "      <td>NE</td>\n",
       "      <td>NE</td>\n",
       "      <td>NE</td>\n",
       "      <td>0.0</td>\n",
       "    </tr>\n",
       "    <tr>\n",
       "      <th>Indirect N2O</th>\n",
       "      <td>14.114362</td>\n",
       "      <td>14.114362</td>\n",
       "      <td>13.794607</td>\n",
       "      <td>13.49868</td>\n",
       "      <td>12.859003</td>\n",
       "      <td>12.717212</td>\n",
       "      <td>12.277937</td>\n",
       "      <td>11.847634</td>\n",
       "      <td>11.073066</td>\n",
       "      <td>10.897756</td>\n",
       "      <td>...</td>\n",
       "      <td>6.079931</td>\n",
       "      <td>5.759218</td>\n",
       "      <td>5.395422</td>\n",
       "      <td>5.219106</td>\n",
       "      <td>4.753065</td>\n",
       "      <td>4.628073</td>\n",
       "      <td>4.420606</td>\n",
       "      <td>4.182834</td>\n",
       "      <td>3.69858</td>\n",
       "      <td>-73.79563</td>\n",
       "    </tr>\n",
       "  </tbody>\n",
       "</table>\n",
       "<p>42 rows × 33 columns</p>\n",
       "</div>"
      ],
      "text/plain": [
       "                                                   Base year(1)        1990  \\\n",
       "GREENHOUSE GAS SOURCE AND SINK CATEGORIES                                     \n",
       "1. Energy                                             12.399834   12.399834   \n",
       "A. Fuel combustion (sectoral approach)                12.249575   12.249575   \n",
       "1.  Energy industries                                  4.821621    4.821621   \n",
       "2.  Manufacturing industries and construction          1.058335    1.058335   \n",
       "3.  Transport                                          4.840101    4.840101   \n",
       "4.  Other sectors                                      1.341185    1.341185   \n",
       "5.  Other                                              0.188334    0.188334   \n",
       "B. Fugitive emissions from fuels                       0.150259    0.150259   \n",
       "1.  Solid fuels                                        0.000303    0.000303   \n",
       "2.  Oil and natural gas and other emissions fro...     0.149956    0.149956   \n",
       "2.  Industrial processes                              81.926279   81.926279   \n",
       "B.  Chemical industry                                 79.856983   79.856983   \n",
       "C.  Metal industry                                     0.069555    0.069555   \n",
       "D.  Non-energy products from fuels and solvent use     NO,NE,IE    NO,NE,IE   \n",
       "G.  Other product manufacture and use                   1.99974     1.99974   \n",
       "H.  Other                                                    NO          NO   \n",
       "3.  Agriculture                                       61.149626   61.149626   \n",
       "B.  Manure management                                 11.522788   11.522788   \n",
       "D.  Agricultural soils                                48.833236   48.833236   \n",
       "E.  Prescribed burning of savannas                           NO          NO   \n",
       "J.  Other                                               0.60012     0.60012   \n",
       "4. Land use, land-use change and forestry              8.247696    8.247696   \n",
       "A.  Forest land                                        2.526522    2.526522   \n",
       "B.  Cropland                                           2.465096    2.465096   \n",
       "C.  Grassland                                           0.08663     0.08663   \n",
       "D.  Wetlands                                           0.071454    0.071454   \n",
       "E.  Settlements                                        1.478758    1.478758   \n",
       "F.  Other land                                               NO          NO   \n",
       "H.  Other                                              0.594111    0.594111   \n",
       "5.  Waste                                               3.21182     3.21182   \n",
       "B.  Biological treatment of solid waste                0.043517    0.043517   \n",
       "C.  Incineration and open burning of waste             0.170892    0.170892   \n",
       "D.  Waste water treatment and discharge                2.997411    2.997411   \n",
       "E.  Other                                                    NO          NO   \n",
       "6.  Other (as specified in summary 1.A)                      NO          NO   \n",
       "Total direct N2O emissions without N2O from LULUCF   158.687559  158.687559   \n",
       "Total direct N2O emissions with N2O from LULUCF      166.935255  166.935255   \n",
       "International bunkers                                  0.908376    0.908376   \n",
       "Aviation                                               0.488644    0.488644   \n",
       "Navigation                                             0.419732    0.419732   \n",
       "Multilateral operations                                      NE          NE   \n",
       "Indirect N2O                                          14.114362   14.114362   \n",
       "\n",
       "                                                          1991        1992  \\\n",
       "GREENHOUSE GAS SOURCE AND SINK CATEGORIES                                    \n",
       "1. Energy                                             12.32051   12.126234   \n",
       "A. Fuel combustion (sectoral approach)               12.174791   11.978783   \n",
       "1.  Energy industries                                 4.773376    4.616961   \n",
       "2.  Manufacturing industries and construction         1.052081    1.042331   \n",
       "3.  Transport                                         4.765728    4.850607   \n",
       "4.  Other sectors                                     1.425898    1.319323   \n",
       "5.  Other                                             0.157709     0.14956   \n",
       "B. Fugitive emissions from fuels                      0.145718    0.147451   \n",
       "1.  Solid fuels                                       0.000123    0.000088   \n",
       "2.  Oil and natural gas and other emissions fro...    0.145596    0.147363   \n",
       "2.  Industrial processes                             82.492612   67.873793   \n",
       "B.  Chemical industry                                80.421892   65.805192   \n",
       "C.  Metal industry                                    0.063835     0.06597   \n",
       "D.  Non-energy products from fuels and solvent use    NO,NE,IE    NO,NE,IE   \n",
       "G.  Other product manufacture and use                 2.006886    2.002632   \n",
       "H.  Other                                                   NO          NO   \n",
       "3.  Agriculture                                      61.413947   59.505495   \n",
       "B.  Manure management                                11.453449   11.491104   \n",
       "D.  Agricultural soils                               49.192285   47.309421   \n",
       "E.  Prescribed burning of savannas                          NO          NO   \n",
       "J.  Other                                             0.598046    0.580493   \n",
       "4. Land use, land-use change and forestry             8.201697    8.129382   \n",
       "A.  Forest land                                       2.535302    2.517556   \n",
       "B.  Cropland                                          2.455314    2.445747   \n",
       "C.  Grassland                                         0.084249    0.081891   \n",
       "D.  Wetlands                                           0.07125    0.071047   \n",
       "E.  Settlements                                       1.451766    1.426861   \n",
       "F.  Other land                                              NO          NO   \n",
       "H.  Other                                             0.592401    0.590834   \n",
       "5.  Waste                                             3.239759    3.399044   \n",
       "B.  Biological treatment of solid waste                0.09859    0.153652   \n",
       "C.  Incineration and open burning of waste            0.164662    0.164092   \n",
       "D.  Waste water treatment and discharge               2.976507    3.081299   \n",
       "E.  Other                                                   NO          NO   \n",
       "6.  Other (as specified in summary 1.A)                     NO          NO   \n",
       "Total direct N2O emissions without N2O from LULUCF  159.466828  142.904566   \n",
       "Total direct N2O emissions with N2O from LULUCF     167.668525  151.033948   \n",
       "International bunkers                                 0.898282     0.95955   \n",
       "Aviation                                              0.480981    0.532368   \n",
       "Navigation                                            0.417301    0.427182   \n",
       "Multilateral operations                                     NE          NE   \n",
       "Indirect N2O                                         13.794607    13.49868   \n",
       "\n",
       "                                                          1993        1994  \\\n",
       "GREENHOUSE GAS SOURCE AND SINK CATEGORIES                                    \n",
       "1. Energy                                            12.005137   12.267934   \n",
       "A. Fuel combustion (sectoral approach)               11.850275   12.075453   \n",
       "1.  Energy industries                                 4.171165    4.055918   \n",
       "2.  Manufacturing industries and construction         1.008378    1.046156   \n",
       "3.  Transport                                          5.13147     5.58361   \n",
       "4.  Other sectors                                     1.390179    1.247737   \n",
       "5.  Other                                             0.149084    0.142032   \n",
       "B. Fugitive emissions from fuels                      0.154863    0.192481   \n",
       "1.  Solid fuels                                        0.00015    0.000087   \n",
       "2.  Oil and natural gas and other emissions fro...    0.154712    0.192394   \n",
       "2.  Industrial processes                             55.167915   55.101261   \n",
       "B.  Chemical industry                                53.102172   53.031968   \n",
       "C.  Metal industry                                    0.066892    0.068692   \n",
       "D.  Non-energy products from fuels and solvent use    NO,NE,IE    NO,NE,IE   \n",
       "G.  Other product manufacture and use                 1.998851      2.0006   \n",
       "H.  Other                                                   NO          NO   \n",
       "3.  Agriculture                                      58.057193   59.994955   \n",
       "B.  Manure management                                11.564711    11.67332   \n",
       "D.  Agricultural soils                               45.911052    47.72814   \n",
       "E.  Prescribed burning of savannas                          NO          NO   \n",
       "J.  Other                                             0.577271    0.593494   \n",
       "4. Land use, land-use change and forestry             8.063006    8.001618   \n",
       "A.  Forest land                                       2.516082    2.533552   \n",
       "B.  Cropland                                           2.42667     2.38962   \n",
       "C.  Grassland                                         0.080981     0.07905   \n",
       "D.  Wetlands                                          0.070843     0.07064   \n",
       "E.  Settlements                                       1.400186    1.377081   \n",
       "F.  Other land                                              NO          NO   \n",
       "H.  Other                                             0.589569    0.588011   \n",
       "5.  Waste                                              3.44652    3.477337   \n",
       "B.  Biological treatment of solid waste               0.208739    0.263846   \n",
       "C.  Incineration and open burning of waste            0.168564    0.142379   \n",
       "D.  Waste water treatment and discharge               3.069218    3.071113   \n",
       "E.  Other                                                   NO          NO   \n",
       "6.  Other (as specified in summary 1.A)                     NO          NO   \n",
       "Total direct N2O emissions without N2O from LULUCF  128.676765  130.841487   \n",
       "Total direct N2O emissions with N2O from LULUCF     136.739772  138.843104   \n",
       "International bunkers                                  0.98573    0.980037   \n",
       "Aviation                                              0.570193    0.595502   \n",
       "Navigation                                            0.415537    0.384534   \n",
       "Multilateral operations                                     NE          NE   \n",
       "Indirect N2O                                         12.859003   12.717212   \n",
       "\n",
       "                                                          1995        1996  \\\n",
       "GREENHOUSE GAS SOURCE AND SINK CATEGORIES                                    \n",
       "1. Energy                                            12.600877   12.107575   \n",
       "A. Fuel combustion (sectoral approach)               12.397266   11.899059   \n",
       "1.  Energy industries                                 3.990189    3.837661   \n",
       "2.  Manufacturing industries and construction         1.009588     0.97332   \n",
       "3.  Transport                                         6.199382    5.847695   \n",
       "4.  Other sectors                                     1.058127    1.102795   \n",
       "5.  Other                                             0.139979    0.137589   \n",
       "B. Fugitive emissions from fuels                      0.203611    0.208516   \n",
       "1.  Solid fuels                                       0.000098    0.000096   \n",
       "2.  Oil and natural gas and other emissions fro...    0.203513     0.20842   \n",
       "2.  Industrial processes                              50.03002   49.684172   \n",
       "B.  Chemical industry                                47.963042   47.663426   \n",
       "C.  Metal industry                                    0.070302    0.068941   \n",
       "D.  Non-energy products from fuels and solvent use    NO,NE,IE    NO,NE,IE   \n",
       "G.  Other product manufacture and use                 1.996676    1.951805   \n",
       "H.  Other                                                   NO          NO   \n",
       "3.  Agriculture                                      60.161453   61.137753   \n",
       "B.  Manure management                                11.687921   12.152133   \n",
       "D.  Agricultural soils                               47.881783   48.415596   \n",
       "E.  Prescribed burning of savannas                          NO          NO   \n",
       "J.  Other                                             0.591749    0.570024   \n",
       "4. Land use, land-use change and forestry               7.9601    7.845121   \n",
       "A.  Forest land                                       2.577449    2.576366   \n",
       "B.  Cropland                                          2.349694    2.297674   \n",
       "C.  Grassland                                         0.078012    0.077232   \n",
       "D.  Wetlands                                          0.070436    0.070233   \n",
       "E.  Settlements                                       1.352223    1.314174   \n",
       "F.  Other land                                              NO          NO   \n",
       "H.  Other                                             0.586697     0.58554   \n",
       "5.  Waste                                             3.551466    3.685385   \n",
       "B.  Biological treatment of solid waste                0.31892    0.374004   \n",
       "C.  Incineration and open burning of waste            0.149041    0.156073   \n",
       "D.  Waste water treatment and discharge               3.083505    3.155308   \n",
       "E.  Other                                                   NO          NO   \n",
       "6.  Other (as specified in summary 1.A)                     NO          NO   \n",
       "Total direct N2O emissions without N2O from LULUCF  126.343816  126.614885   \n",
       "Total direct N2O emissions with N2O from LULUCF     134.303915  134.460006   \n",
       "International bunkers                                 1.043395    1.124305   \n",
       "Aviation                                              0.633762    0.670569   \n",
       "Navigation                                            0.409633    0.453735   \n",
       "Multilateral operations                                     NE          NE   \n",
       "Indirect N2O                                         12.277937   11.847634   \n",
       "\n",
       "                                                          1997        1998  \\\n",
       "GREENHOUSE GAS SOURCE AND SINK CATEGORIES                                    \n",
       "1. Energy                                            11.725449   11.806042   \n",
       "A. Fuel combustion (sectoral approach)               11.539965   11.616474   \n",
       "1.  Energy industries                                 3.603327    3.787902   \n",
       "2.  Manufacturing industries and construction         0.921806    0.910577   \n",
       "3.  Transport                                         5.859706    5.814485   \n",
       "4.  Other sectors                                     1.022007    0.989463   \n",
       "5.  Other                                             0.133119    0.114047   \n",
       "B. Fugitive emissions from fuels                      0.185483    0.189568   \n",
       "1.  Solid fuels                                       0.000065    0.000109   \n",
       "2.  Oil and natural gas and other emissions fro...    0.185418    0.189459   \n",
       "2.  Industrial processes                              50.28675   51.204316   \n",
       "B.  Chemical industry                                48.268683   49.171911   \n",
       "C.  Metal industry                                    0.071264    0.066089   \n",
       "D.  Non-energy products from fuels and solvent use    NO,NE,IE    NO,NE,IE   \n",
       "G.  Other product manufacture and use                 1.946802    1.966316   \n",
       "H.  Other                                                   NO          NO   \n",
       "3.  Agriculture                                      62.057828     61.0442   \n",
       "B.  Manure management                                12.320019   12.176241   \n",
       "D.  Agricultural soils                               49.159226   48.287309   \n",
       "E.  Prescribed burning of savannas                          NO          NO   \n",
       "J.  Other                                             0.578582     0.58065   \n",
       "4. Land use, land-use change and forestry              7.81117    7.689895   \n",
       "A.  Forest land                                       2.611388     2.61636   \n",
       "B.  Cropland                                          2.251401    2.187037   \n",
       "C.  Grassland                                         0.076684    0.073066   \n",
       "D.  Wetlands                                          0.070029    0.069826   \n",
       "E.  Settlements                                       1.304004    1.270536   \n",
       "F.  Other land                                              NO          NO   \n",
       "H.  Other                                             0.584385    0.583267   \n",
       "5.  Waste                                              3.74957    3.856709   \n",
       "B.  Biological treatment of solid waste               0.429095    0.484237   \n",
       "C.  Incineration and open burning of waste            0.117325    0.220422   \n",
       "D.  Waste water treatment and discharge                3.20315    3.152051   \n",
       "E.  Other                                                   NO          NO   \n",
       "6.  Other (as specified in summary 1.A)                     NO          NO   \n",
       "Total direct N2O emissions without N2O from LULUCF  127.819596  127.911266   \n",
       "Total direct N2O emissions with N2O from LULUCF     135.630766  135.601161   \n",
       "International bunkers                                 1.210749    1.319614   \n",
       "Aviation                                              0.713235    0.793988   \n",
       "Navigation                                            0.497515    0.525626   \n",
       "Multilateral operations                                     NE          NE   \n",
       "Indirect N2O                                         11.073066   10.897756   \n",
       "\n",
       "                                                    ...       2012       2013  \\\n",
       "GREENHOUSE GAS SOURCE AND SINK CATEGORIES           ...                         \n",
       "1. Energy                                           ...    8.71365   8.628428   \n",
       "A. Fuel combustion (sectoral approach)              ...    8.58924   8.510284   \n",
       "1.  Energy industries                               ...   3.835712   3.716935   \n",
       "2.  Manufacturing industries and construction       ...   0.690587    0.63024   \n",
       "3.  Transport                                       ...   3.358268   3.450058   \n",
       "4.  Other sectors                                   ...   0.613861   0.630683   \n",
       "5.  Other                                           ...   0.090812   0.082368   \n",
       "B. Fugitive emissions from fuels                    ...    0.12441   0.118145   \n",
       "1.  Solid fuels                                     ...   0.000062   0.000126   \n",
       "2.  Oil and natural gas and other emissions fro...  ...   0.124348   0.118019   \n",
       "2.  Industrial processes                            ...   3.111298   2.933365   \n",
       "B.  Chemical industry                               ...   0.130233   0.150476   \n",
       "C.  Metal industry                                  ...   0.036948   0.044265   \n",
       "D.  Non-energy products from fuels and solvent use  ...   NO,NE,IE   NO,NE,IE   \n",
       "G.  Other product manufacture and use               ...   2.944116   2.738624   \n",
       "H.  Other                                           ...         NO         NO   \n",
       "3.  Agriculture                                     ...  50.201014  50.704291   \n",
       "B.  Manure management                               ...   9.791145   9.756038   \n",
       "D.  Agricultural soils                              ...  40.002165  40.536765   \n",
       "E.  Prescribed burning of savannas                  ...         NO         NO   \n",
       "J.  Other                                           ...   0.407704   0.411488   \n",
       "4. Land use, land-use change and forestry           ...   6.322403   6.269608   \n",
       "A.  Forest land                                     ...    2.55544   2.561621   \n",
       "B.  Cropland                                        ...   1.449551   1.415284   \n",
       "C.  Grassland                                       ...   0.100574    0.11243   \n",
       "D.  Wetlands                                        ...   0.075752   0.072765   \n",
       "E.  Settlements                                     ...    0.97891     0.9603   \n",
       "F.  Other land                                      ...         NO         NO   \n",
       "H.  Other                                           ...   0.533516   0.531715   \n",
       "5.  Waste                                           ...   5.232147   5.333684   \n",
       "B.  Biological treatment of solid waste             ...   1.832028   1.959785   \n",
       "C.  Incineration and open burning of waste          ...   0.225701   0.219047   \n",
       "D.  Waste water treatment and discharge             ...   3.174417   3.154851   \n",
       "E.  Other                                           ...         NO         NO   \n",
       "6.  Other (as specified in summary 1.A)             ...         NO         NO   \n",
       "Total direct N2O emissions without N2O from LULUCF  ...  67.258109  67.599768   \n",
       "Total direct N2O emissions with N2O from LULUCF     ...  73.580512  73.869376   \n",
       "International bunkers                               ...   1.536869   1.544874   \n",
       "Aviation                                            ...   1.018165   1.027121   \n",
       "Navigation                                          ...   0.518705   0.517753   \n",
       "Multilateral operations                             ...         NE         NE   \n",
       "Indirect N2O                                        ...   6.079931   5.759218   \n",
       "\n",
       "                                                         2014       2015  \\\n",
       "GREENHOUSE GAS SOURCE AND SINK CATEGORIES                                  \n",
       "1. Energy                                            8.386046    8.46204   \n",
       "A. Fuel combustion (sectoral approach)               8.268197   8.342556   \n",
       "1.  Energy industries                                3.326995   3.210666   \n",
       "2.  Manufacturing industries and construction        0.700639   0.748686   \n",
       "3.  Transport                                        3.581472    3.71373   \n",
       "4.  Other sectors                                    0.586724   0.610692   \n",
       "5.  Other                                            0.072368   0.058783   \n",
       "B. Fugitive emissions from fuels                     0.117849   0.119484   \n",
       "1.  Solid fuels                                      0.000221   0.000249   \n",
       "2.  Oil and natural gas and other emissions fro...   0.117628   0.119235   \n",
       "2.  Industrial processes                             3.005566   2.879838   \n",
       "B.  Chemical industry                                0.140931   0.103994   \n",
       "C.  Metal industry                                   0.044496   0.039089   \n",
       "D.  Non-energy products from fuels and solvent use   NO,NE,IE   NO,NE,IE   \n",
       "G.  Other product manufacture and use                 2.82014   2.736755   \n",
       "H.  Other                                                  NO         NO   \n",
       "3.  Agriculture                                     52.486997  51.344387   \n",
       "B.  Manure management                                9.803902   9.781583   \n",
       "D.  Agricultural soils                              42.269557    41.1609   \n",
       "E.  Prescribed burning of savannas                         NO         NO   \n",
       "J.  Other                                            0.413537   0.401904   \n",
       "4. Land use, land-use change and forestry            6.148345    6.11424   \n",
       "A.  Forest land                                      2.495522   2.467448   \n",
       "B.  Cropland                                         1.393484   1.376856   \n",
       "C.  Grassland                                        0.113784   0.101676   \n",
       "D.  Wetlands                                         0.071865   0.115299   \n",
       "E.  Settlements                                       0.94016   0.933235   \n",
       "F.  Other land                                             NO         NO   \n",
       "H.  Other                                            0.530064   0.526505   \n",
       "5.  Waste                                            5.558236   5.605962   \n",
       "B.  Biological treatment of solid waste              2.185764   2.197495   \n",
       "C.  Incineration and open burning of waste           0.193736   0.186698   \n",
       "D.  Waste water treatment and discharge              3.178736    3.22177   \n",
       "E.  Other                                                  NO         NO   \n",
       "6.  Other (as specified in summary 1.A)                    NO         NO   \n",
       "Total direct N2O emissions without N2O from LULUCF  69.436845  68.292228   \n",
       "Total direct N2O emissions with N2O from LULUCF      75.58519  74.406468   \n",
       "International bunkers                                1.577737    1.54416   \n",
       "Aviation                                             1.034758   1.050828   \n",
       "Navigation                                            0.54298   0.493331   \n",
       "Multilateral operations                                    NE         NE   \n",
       "Indirect N2O                                         5.395422   5.219106   \n",
       "\n",
       "                                                         2016       2017  \\\n",
       "GREENHOUSE GAS SOURCE AND SINK CATEGORIES                                  \n",
       "1. Energy                                            7.961422    7.92665   \n",
       "A. Fuel combustion (sectoral approach)               7.838041   7.802034   \n",
       "1.  Energy industries                                2.553062   2.390532   \n",
       "2.  Manufacturing industries and construction        0.754312   0.826021   \n",
       "3.  Transport                                        3.851384   3.905597   \n",
       "4.  Other sectors                                    0.624341   0.623374   \n",
       "5.  Other                                            0.054942    0.05651   \n",
       "B. Fugitive emissions from fuels                     0.123381   0.124616   \n",
       "1.  Solid fuels                                      0.000066   0.000059   \n",
       "2.  Oil and natural gas and other emissions fro...   0.123315   0.124557   \n",
       "2.  Industrial processes                             2.914159   3.014925   \n",
       "B.  Chemical industry                                0.089194   0.131509   \n",
       "C.  Metal industry                                   0.025487   0.024797   \n",
       "D.  Non-energy products from fuels and solvent use   NO,NE,IE   NO,NE,IE   \n",
       "G.  Other product manufacture and use                2.799478   2.858619   \n",
       "H.  Other                                                  NO         NO   \n",
       "3.  Agriculture                                     50.713435  52.096982   \n",
       "B.  Manure management                                9.755364   9.705581   \n",
       "D.  Agricultural soils                              40.556591  41.986668   \n",
       "E.  Prescribed burning of savannas                         NO         NO   \n",
       "J.  Other                                             0.40148   0.404733   \n",
       "4. Land use, land-use change and forestry            6.081182   6.021483   \n",
       "A.  Forest land                                      2.449901   2.427364   \n",
       "B.  Cropland                                         1.369982   1.355463   \n",
       "C.  Grassland                                        0.112975   0.111328   \n",
       "D.  Wetlands                                         0.077421   0.076125   \n",
       "E.  Settlements                                      0.959451   0.949864   \n",
       "F.  Other land                                             NO         NO   \n",
       "H.  Other                                            0.522843   0.519965   \n",
       "5.  Waste                                            5.687802   5.866197   \n",
       "B.  Biological treatment of solid waste               2.33526   2.429049   \n",
       "C.  Incineration and open burning of waste           0.166395   0.151275   \n",
       "D.  Waste water treatment and discharge              3.186147   3.285873   \n",
       "E.  Other                                                  NO         NO   \n",
       "6.  Other (as specified in summary 1.A)                    NO         NO   \n",
       "Total direct N2O emissions without N2O from LULUCF  67.276818  68.904754   \n",
       "Total direct N2O emissions with N2O from LULUCF        73.358  74.926237   \n",
       "International bunkers                                 1.57978     1.6388   \n",
       "Aviation                                             1.057946   1.139171   \n",
       "Navigation                                           0.521834   0.499628   \n",
       "Multilateral operations                                    NE         NE   \n",
       "Indirect N2O                                         4.753065   4.628073   \n",
       "\n",
       "                                                         2018       2019  \\\n",
       "GREENHOUSE GAS SOURCE AND SINK CATEGORIES                                  \n",
       "1. Energy                                            8.042293   7.921735   \n",
       "A. Fuel combustion (sectoral approach)               7.916938   7.797677   \n",
       "1.  Energy industries                                2.417321    2.39708   \n",
       "2.  Manufacturing industries and construction        0.880824   0.837112   \n",
       "3.  Transport                                        3.919561   3.874779   \n",
       "4.  Other sectors                                    0.641296   0.626865   \n",
       "5.  Other                                            0.057936   0.061841   \n",
       "B. Fugitive emissions from fuels                     0.125354   0.124058   \n",
       "1.  Solid fuels                                      0.000039   0.000052   \n",
       "2.  Oil and natural gas and other emissions fro...   0.125315   0.124006   \n",
       "2.  Industrial processes                             2.946609   3.038663   \n",
       "B.  Chemical industry                                0.088956    0.13368   \n",
       "C.  Metal industry                                   0.024281   0.024244   \n",
       "D.  Non-energy products from fuels and solvent use   NO,NE,IE   NO,NE,IE   \n",
       "G.  Other product manufacture and use                2.833372    2.88074   \n",
       "H.  Other                                                  NO         NO   \n",
       "3.  Agriculture                                      51.61727  51.518359   \n",
       "B.  Manure management                                 9.57685   9.562306   \n",
       "D.  Agricultural soils                              41.650737  41.560866   \n",
       "E.  Prescribed burning of savannas                         NO         NO   \n",
       "J.  Other                                            0.389683   0.395186   \n",
       "4. Land use, land-use change and forestry            6.057047   6.090321   \n",
       "A.  Forest land                                      2.450861   2.445527   \n",
       "B.  Cropland                                         1.333288   1.330339   \n",
       "C.  Grassland                                        0.113711   0.129669   \n",
       "D.  Wetlands                                         0.099591    0.12405   \n",
       "E.  Settlements                                       0.96653   0.973162   \n",
       "F.  Other land                                             NO         NO   \n",
       "H.  Other                                            0.516729   0.512682   \n",
       "5.  Waste                                            5.763729   5.869541   \n",
       "B.  Biological treatment of solid waste              2.384674   2.400525   \n",
       "C.  Incineration and open burning of waste           0.127141   0.104715   \n",
       "D.  Waste water treatment and discharge              3.251914     3.3643   \n",
       "E.  Other                                                  NO         NO   \n",
       "6.  Other (as specified in summary 1.A)                    NO         NO   \n",
       "Total direct N2O emissions without N2O from LULUCF  68.369901  68.348298   \n",
       "Total direct N2O emissions with N2O from LULUCF     74.426948  74.438618   \n",
       "International bunkers                                1.634415    1.60758   \n",
       "Aviation                                             1.151315   1.157009   \n",
       "Navigation                                             0.4831   0.450572   \n",
       "Multilateral operations                                    NE         NE   \n",
       "Indirect N2O                                         4.420606   4.182834   \n",
       "\n",
       "                                                         2020  \\\n",
       "GREENHOUSE GAS SOURCE AND SINK CATEGORIES                       \n",
       "1. Energy                                            7.227956   \n",
       "A. Fuel combustion (sectoral approach)               7.124227   \n",
       "1.  Energy industries                                2.352618   \n",
       "2.  Manufacturing industries and construction        0.841022   \n",
       "3.  Transport                                        3.259928   \n",
       "4.  Other sectors                                    0.621023   \n",
       "5.  Other                                            0.049636   \n",
       "B. Fugitive emissions from fuels                     0.103729   \n",
       "1.  Solid fuels                                      0.000055   \n",
       "2.  Oil and natural gas and other emissions fro...   0.103674   \n",
       "2.  Industrial processes                             2.720984   \n",
       "B.  Chemical industry                                0.171421   \n",
       "C.  Metal industry                                   0.023898   \n",
       "D.  Non-energy products from fuels and solvent use   NO,NE,IE   \n",
       "G.  Other product manufacture and use                2.525666   \n",
       "H.  Other                                                  NO   \n",
       "3.  Agriculture                                     48.910599   \n",
       "B.  Manure management                                9.441426   \n",
       "D.  Agricultural soils                              39.088643   \n",
       "E.  Prescribed burning of savannas                         NO   \n",
       "J.  Other                                             0.38053   \n",
       "4. Land use, land-use change and forestry            5.993261   \n",
       "A.  Forest land                                      2.390105   \n",
       "B.  Cropland                                         1.337162   \n",
       "C.  Grassland                                        0.113705   \n",
       "D.  Wetlands                                         0.083252   \n",
       "E.  Settlements                                      0.984665   \n",
       "F.  Other land                                             NO   \n",
       "H.  Other                                            0.507951   \n",
       "5.  Waste                                            5.899825   \n",
       "B.  Biological treatment of solid waste              2.399355   \n",
       "C.  Incineration and open burning of waste           0.088499   \n",
       "D.  Waste water treatment and discharge              3.411971   \n",
       "E.  Other                                                  NO   \n",
       "6.  Other (as specified in summary 1.A)                    NO   \n",
       "Total direct N2O emissions without N2O from LULUCF  64.759365   \n",
       "Total direct N2O emissions with N2O from LULUCF     70.752625   \n",
       "International bunkers                                 0.84748   \n",
       "Aviation                                             0.455308   \n",
       "Navigation                                           0.392172   \n",
       "Multilateral operations                                    NE   \n",
       "Indirect N2O                                          3.69858   \n",
       "\n",
       "                                                   Change from base to latest reported year  \n",
       "GREENHOUSE GAS SOURCE AND SINK CATEGORIES                                                    \n",
       "1. Energy                                                                        -41.709255  \n",
       "A. Fuel combustion (sectoral approach)                                           -41.841029  \n",
       "1.  Energy industries                                                            -51.206911  \n",
       "2.  Manufacturing industries and construction                                    -20.533441  \n",
       "3.  Transport                                                                    -32.647512  \n",
       "4.  Other sectors                                                                -53.695971  \n",
       "5.  Other                                                                        -73.644755  \n",
       "B. Fugitive emissions from fuels                                                 -30.966605  \n",
       "1.  Solid fuels                                                                  -81.860814  \n",
       "2.  Oil and natural gas and other emissions fro...                               -30.863899  \n",
       "2.  Industrial processes                                                          -96.67874  \n",
       "B.  Chemical industry                                                            -99.785341  \n",
       "C.  Metal industry                                                               -65.642173  \n",
       "D.  Non-energy products from fuels and solvent use                                      0.0  \n",
       "G.  Other product manufacture and use                                             26.299706  \n",
       "H.  Other                                                                               0.0  \n",
       "3.  Agriculture                                                                  -20.014883  \n",
       "B.  Manure management                                                            -18.063012  \n",
       "D.  Agricultural soils                                                           -19.954837  \n",
       "E.  Prescribed burning of savannas                                                      0.0  \n",
       "J.  Other                                                                         -36.59097  \n",
       "4. Land use, land-use change and forestry                                        -27.334125  \n",
       "A.  Forest land                                                                   -5.399398  \n",
       "B.  Cropland                                                                     -45.756204  \n",
       "C.  Grassland                                                                     31.252996  \n",
       "D.  Wetlands                                                                      16.511867  \n",
       "E.  Settlements                                                                  -33.412715  \n",
       "F.  Other land                                                                          0.0  \n",
       "H.  Other                                                                        -14.502328  \n",
       "5.  Waste                                                                         83.690999  \n",
       "B.  Biological treatment of solid waste                                         5413.576896  \n",
       "C.  Incineration and open burning of waste                                       -48.213428  \n",
       "D.  Waste water treatment and discharge                                           13.830589  \n",
       "E.  Other                                                                               0.0  \n",
       "6.  Other (as specified in summary 1.A)                                                 0.0  \n",
       "Total direct N2O emissions without N2O from LULUCF                               -59.190648  \n",
       "Total direct N2O emissions with N2O from LULUCF                                  -57.616727  \n",
       "International bunkers                                                             -6.703833  \n",
       "Aviation                                                                          -6.822069  \n",
       "Navigation                                                                        -6.566184  \n",
       "Multilateral operations                                                                 0.0  \n",
       "Indirect N2O                                                                      -73.79563  \n",
       "\n",
       "[42 rows x 33 columns]"
      ]
     },
     "execution_count": 55,
     "metadata": {},
     "output_type": "execute_result"
    }
   ],
   "source": [
    "xlsN2O = pd.ExcelFile('GBR_2022_2020_10052022_142545.xlsx')\n",
    "dfN2O = pd.read_excel(xlsN2O, 'Table10s4', header=4)\n",
    "dfN2O.set_index(\"GREENHOUSE GAS SOURCE AND SINK CATEGORIES\", inplace=True)\n",
    "dfN2O.dropna(inplace=True)\n",
    "dfN2O"
   ]
  }
 ],
 "metadata": {
  "kernelspec": {
   "display_name": "Python 3 (ipykernel)",
   "language": "python",
   "name": "python3"
  },
  "language_info": {
   "codemirror_mode": {
    "name": "ipython",
    "version": 3
   },
   "file_extension": ".py",
   "mimetype": "text/x-python",
   "name": "python",
   "nbconvert_exporter": "python",
   "pygments_lexer": "ipython3",
   "version": "3.9.12"
  }
 },
 "nbformat": 4,
 "nbformat_minor": 5
}
